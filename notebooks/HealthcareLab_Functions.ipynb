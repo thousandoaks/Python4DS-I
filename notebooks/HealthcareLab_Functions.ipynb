{
  "nbformat": 4,
  "nbformat_minor": 0,
  "metadata": {
    "colab": {
      "provenance": []
    },
    "kernelspec": {
      "name": "python3",
      "display_name": "Python 3"
    },
    "language_info": {
      "name": "python"
    }
  },
  "cells": [
    {
      "cell_type": "markdown",
      "source": [
        "# Healthcare Lab (Functions)"
      ],
      "metadata": {
        "id": "d_WMo1QVesys"
      }
    },
    {
      "cell_type": "markdown",
      "source": [
        "**Learning Objectives:**\n",
        "  * Practice the application of functions to Pandas DataFrames\n",
        "  * Gain exposure to healthcare related DataSets"
      ],
      "metadata": {
        "id": "Ao_VRQeKe1p3"
      }
    },
    {
      "cell_type": "code",
      "execution_count": 6,
      "metadata": {
        "id": "2KzFIzTRepaH"
      },
      "outputs": [],
      "source": []
    },
    {
      "cell_type": "markdown",
      "source": [
        "## Context of the dataset\n",
        "\n",
        "### 1. The dataset is consisted of records corresponding to medical events.\n",
        "### 2. Each medical event is uniquely identified by `MedicalClaim`.\n",
        "### 3. A given medical event might involve several medical procedures.\n",
        "### 4. Each medical procedure is uniquely identified by `ClaimItem`\n",
        "### 5. A given medical procedure is characterized by `PrincipalDiagnosisDesc`,`PrincipalDiagnosis`,`RevenueCodeDesc`, `RevenueCode`, `TypeFlag` and `TotalExpenses`\n",
        "\n",
        "### 6. Each medical procedure involves: `MemberName`,`MemberID`,`County`,`HospitalName`, `HospitalType`, `StartDate`,`EndDate`\n"
      ],
      "metadata": {
        "id": "u_K5MTPJfKdI"
      }
    },
    {
      "cell_type": "markdown",
      "source": [
        "## 1. Library Import"
      ],
      "metadata": {
        "id": "t5EaaJTIkwji"
      }
    },
    {
      "cell_type": "code",
      "source": [
        "import pandas as pd\n",
        "import warnings\n",
        "import numpy as np\n",
        "import seaborn as sns\n",
        "from matplotlib import pyplot as plt"
      ],
      "metadata": {
        "id": "1sjvyToWfNvt"
      },
      "execution_count": 7,
      "outputs": []
    },
    {
      "cell_type": "code",
      "source": [
        "warnings.simplefilter('ignore')"
      ],
      "metadata": {
        "id": "1aoBmtwNv937"
      },
      "execution_count": 8,
      "outputs": []
    },
    {
      "cell_type": "markdown",
      "source": [
        "## 2. Data loading and DataFrame creation"
      ],
      "metadata": {
        "id": "xzdodfhZkq7J"
      }
    },
    {
      "cell_type": "code",
      "source": [
        "HealthCareDataSet=pd.read_csv(\"https://github.com/thousandoaks/Python4DS-I/raw/main/datasets/HealthcareDataset_PublicRelease.csv\",sep=',',parse_dates=['StartDate','EndDate','BirthDate'])"
      ],
      "metadata": {
        "id": "fpFEe3-TfPYy"
      },
      "execution_count": 9,
      "outputs": []
    },
    {
      "cell_type": "code",
      "source": [
        "HealthCareDataSet.head(3)"
      ],
      "metadata": {
        "colab": {
          "base_uri": "https://localhost:8080/",
          "height": 320
        },
        "id": "xm6DfesafcOA",
        "outputId": "62db0d12-8634-43d4-888e-f51179926fcb"
      },
      "execution_count": 10,
      "outputs": [
        {
          "output_type": "execute_result",
          "data": {
            "text/plain": [
              "       Id MemberName  MemberID    County      MedicalClaim  ClaimItem  \\\n",
              "0  634363   e659f3f4  6a380a28  6f943458  c1e3436737c77899         18   \n",
              "1  634364   e659f3f4  6a380a28  6f943458  c1e3436737c77899         21   \n",
              "2  634387   e659f3f4  6a380a28  6f943458  c1e3436737c77899         10   \n",
              "\n",
              "  HospitalName HospitalType  StartDate    EndDate PrincipalDiagnosisDesc  \\\n",
              "0     04b77561     HOSPITAL 2020-01-08 2020-01-08        Epigastric pain   \n",
              "1     04b77561     HOSPITAL 2020-01-08 2020-01-08        Epigastric pain   \n",
              "2     04b77561     HOSPITAL 2020-01-08 2020-01-08        Epigastric pain   \n",
              "\n",
              "  PrincipalDiagnosis                                    RevenueCodeDesc  \\\n",
              "0             R10.13  DRUGS REQUIRE SPECIFIC ID: DRUGS REQUIRING DET...   \n",
              "1             R10.13  DRUGS REQUIRE SPECIFIC ID: DRUGS REQUIRING DET...   \n",
              "2             R10.13       LABORATORY - CLINICAL DIAGNOSTIC: HEMATOLOGY   \n",
              "\n",
              "   RevenueCode TypeFlag  BirthDate  TotalExpenses  \n",
              "0        636.0       ER 1967-05-13         15.148  \n",
              "1        636.0       ER 1967-05-13          3.073  \n",
              "2        305.0       ER 1967-05-13        123.900  "
            ],
            "text/html": [
              "\n",
              "  <div id=\"df-cb3d73e1-f962-4571-9e6a-e3d11da285fd\" class=\"colab-df-container\">\n",
              "    <div>\n",
              "<style scoped>\n",
              "    .dataframe tbody tr th:only-of-type {\n",
              "        vertical-align: middle;\n",
              "    }\n",
              "\n",
              "    .dataframe tbody tr th {\n",
              "        vertical-align: top;\n",
              "    }\n",
              "\n",
              "    .dataframe thead th {\n",
              "        text-align: right;\n",
              "    }\n",
              "</style>\n",
              "<table border=\"1\" class=\"dataframe\">\n",
              "  <thead>\n",
              "    <tr style=\"text-align: right;\">\n",
              "      <th></th>\n",
              "      <th>Id</th>\n",
              "      <th>MemberName</th>\n",
              "      <th>MemberID</th>\n",
              "      <th>County</th>\n",
              "      <th>MedicalClaim</th>\n",
              "      <th>ClaimItem</th>\n",
              "      <th>HospitalName</th>\n",
              "      <th>HospitalType</th>\n",
              "      <th>StartDate</th>\n",
              "      <th>EndDate</th>\n",
              "      <th>PrincipalDiagnosisDesc</th>\n",
              "      <th>PrincipalDiagnosis</th>\n",
              "      <th>RevenueCodeDesc</th>\n",
              "      <th>RevenueCode</th>\n",
              "      <th>TypeFlag</th>\n",
              "      <th>BirthDate</th>\n",
              "      <th>TotalExpenses</th>\n",
              "    </tr>\n",
              "  </thead>\n",
              "  <tbody>\n",
              "    <tr>\n",
              "      <th>0</th>\n",
              "      <td>634363</td>\n",
              "      <td>e659f3f4</td>\n",
              "      <td>6a380a28</td>\n",
              "      <td>6f943458</td>\n",
              "      <td>c1e3436737c77899</td>\n",
              "      <td>18</td>\n",
              "      <td>04b77561</td>\n",
              "      <td>HOSPITAL</td>\n",
              "      <td>2020-01-08</td>\n",
              "      <td>2020-01-08</td>\n",
              "      <td>Epigastric pain</td>\n",
              "      <td>R10.13</td>\n",
              "      <td>DRUGS REQUIRE SPECIFIC ID: DRUGS REQUIRING DET...</td>\n",
              "      <td>636.0</td>\n",
              "      <td>ER</td>\n",
              "      <td>1967-05-13</td>\n",
              "      <td>15.148</td>\n",
              "    </tr>\n",
              "    <tr>\n",
              "      <th>1</th>\n",
              "      <td>634364</td>\n",
              "      <td>e659f3f4</td>\n",
              "      <td>6a380a28</td>\n",
              "      <td>6f943458</td>\n",
              "      <td>c1e3436737c77899</td>\n",
              "      <td>21</td>\n",
              "      <td>04b77561</td>\n",
              "      <td>HOSPITAL</td>\n",
              "      <td>2020-01-08</td>\n",
              "      <td>2020-01-08</td>\n",
              "      <td>Epigastric pain</td>\n",
              "      <td>R10.13</td>\n",
              "      <td>DRUGS REQUIRE SPECIFIC ID: DRUGS REQUIRING DET...</td>\n",
              "      <td>636.0</td>\n",
              "      <td>ER</td>\n",
              "      <td>1967-05-13</td>\n",
              "      <td>3.073</td>\n",
              "    </tr>\n",
              "    <tr>\n",
              "      <th>2</th>\n",
              "      <td>634387</td>\n",
              "      <td>e659f3f4</td>\n",
              "      <td>6a380a28</td>\n",
              "      <td>6f943458</td>\n",
              "      <td>c1e3436737c77899</td>\n",
              "      <td>10</td>\n",
              "      <td>04b77561</td>\n",
              "      <td>HOSPITAL</td>\n",
              "      <td>2020-01-08</td>\n",
              "      <td>2020-01-08</td>\n",
              "      <td>Epigastric pain</td>\n",
              "      <td>R10.13</td>\n",
              "      <td>LABORATORY - CLINICAL DIAGNOSTIC: HEMATOLOGY</td>\n",
              "      <td>305.0</td>\n",
              "      <td>ER</td>\n",
              "      <td>1967-05-13</td>\n",
              "      <td>123.900</td>\n",
              "    </tr>\n",
              "  </tbody>\n",
              "</table>\n",
              "</div>\n",
              "    <div class=\"colab-df-buttons\">\n",
              "\n",
              "  <div class=\"colab-df-container\">\n",
              "    <button class=\"colab-df-convert\" onclick=\"convertToInteractive('df-cb3d73e1-f962-4571-9e6a-e3d11da285fd')\"\n",
              "            title=\"Convert this dataframe to an interactive table.\"\n",
              "            style=\"display:none;\">\n",
              "\n",
              "  <svg xmlns=\"http://www.w3.org/2000/svg\" height=\"24px\" viewBox=\"0 -960 960 960\">\n",
              "    <path d=\"M120-120v-720h720v720H120Zm60-500h600v-160H180v160Zm220 220h160v-160H400v160Zm0 220h160v-160H400v160ZM180-400h160v-160H180v160Zm440 0h160v-160H620v160ZM180-180h160v-160H180v160Zm440 0h160v-160H620v160Z\"/>\n",
              "  </svg>\n",
              "    </button>\n",
              "\n",
              "  <style>\n",
              "    .colab-df-container {\n",
              "      display:flex;\n",
              "      gap: 12px;\n",
              "    }\n",
              "\n",
              "    .colab-df-convert {\n",
              "      background-color: #E8F0FE;\n",
              "      border: none;\n",
              "      border-radius: 50%;\n",
              "      cursor: pointer;\n",
              "      display: none;\n",
              "      fill: #1967D2;\n",
              "      height: 32px;\n",
              "      padding: 0 0 0 0;\n",
              "      width: 32px;\n",
              "    }\n",
              "\n",
              "    .colab-df-convert:hover {\n",
              "      background-color: #E2EBFA;\n",
              "      box-shadow: 0px 1px 2px rgba(60, 64, 67, 0.3), 0px 1px 3px 1px rgba(60, 64, 67, 0.15);\n",
              "      fill: #174EA6;\n",
              "    }\n",
              "\n",
              "    .colab-df-buttons div {\n",
              "      margin-bottom: 4px;\n",
              "    }\n",
              "\n",
              "    [theme=dark] .colab-df-convert {\n",
              "      background-color: #3B4455;\n",
              "      fill: #D2E3FC;\n",
              "    }\n",
              "\n",
              "    [theme=dark] .colab-df-convert:hover {\n",
              "      background-color: #434B5C;\n",
              "      box-shadow: 0px 1px 3px 1px rgba(0, 0, 0, 0.15);\n",
              "      filter: drop-shadow(0px 1px 2px rgba(0, 0, 0, 0.3));\n",
              "      fill: #FFFFFF;\n",
              "    }\n",
              "  </style>\n",
              "\n",
              "    <script>\n",
              "      const buttonEl =\n",
              "        document.querySelector('#df-cb3d73e1-f962-4571-9e6a-e3d11da285fd button.colab-df-convert');\n",
              "      buttonEl.style.display =\n",
              "        google.colab.kernel.accessAllowed ? 'block' : 'none';\n",
              "\n",
              "      async function convertToInteractive(key) {\n",
              "        const element = document.querySelector('#df-cb3d73e1-f962-4571-9e6a-e3d11da285fd');\n",
              "        const dataTable =\n",
              "          await google.colab.kernel.invokeFunction('convertToInteractive',\n",
              "                                                    [key], {});\n",
              "        if (!dataTable) return;\n",
              "\n",
              "        const docLinkHtml = 'Like what you see? Visit the ' +\n",
              "          '<a target=\"_blank\" href=https://colab.research.google.com/notebooks/data_table.ipynb>data table notebook</a>'\n",
              "          + ' to learn more about interactive tables.';\n",
              "        element.innerHTML = '';\n",
              "        dataTable['output_type'] = 'display_data';\n",
              "        await google.colab.output.renderOutput(dataTable, element);\n",
              "        const docLink = document.createElement('div');\n",
              "        docLink.innerHTML = docLinkHtml;\n",
              "        element.appendChild(docLink);\n",
              "      }\n",
              "    </script>\n",
              "  </div>\n",
              "\n",
              "\n",
              "<div id=\"df-4f248798-0124-4a12-a8b9-4a566dfffb2d\">\n",
              "  <button class=\"colab-df-quickchart\" onclick=\"quickchart('df-4f248798-0124-4a12-a8b9-4a566dfffb2d')\"\n",
              "            title=\"Suggest charts\"\n",
              "            style=\"display:none;\">\n",
              "\n",
              "<svg xmlns=\"http://www.w3.org/2000/svg\" height=\"24px\"viewBox=\"0 0 24 24\"\n",
              "     width=\"24px\">\n",
              "    <g>\n",
              "        <path d=\"M19 3H5c-1.1 0-2 .9-2 2v14c0 1.1.9 2 2 2h14c1.1 0 2-.9 2-2V5c0-1.1-.9-2-2-2zM9 17H7v-7h2v7zm4 0h-2V7h2v10zm4 0h-2v-4h2v4z\"/>\n",
              "    </g>\n",
              "</svg>\n",
              "  </button>\n",
              "\n",
              "<style>\n",
              "  .colab-df-quickchart {\n",
              "      --bg-color: #E8F0FE;\n",
              "      --fill-color: #1967D2;\n",
              "      --hover-bg-color: #E2EBFA;\n",
              "      --hover-fill-color: #174EA6;\n",
              "      --disabled-fill-color: #AAA;\n",
              "      --disabled-bg-color: #DDD;\n",
              "  }\n",
              "\n",
              "  [theme=dark] .colab-df-quickchart {\n",
              "      --bg-color: #3B4455;\n",
              "      --fill-color: #D2E3FC;\n",
              "      --hover-bg-color: #434B5C;\n",
              "      --hover-fill-color: #FFFFFF;\n",
              "      --disabled-bg-color: #3B4455;\n",
              "      --disabled-fill-color: #666;\n",
              "  }\n",
              "\n",
              "  .colab-df-quickchart {\n",
              "    background-color: var(--bg-color);\n",
              "    border: none;\n",
              "    border-radius: 50%;\n",
              "    cursor: pointer;\n",
              "    display: none;\n",
              "    fill: var(--fill-color);\n",
              "    height: 32px;\n",
              "    padding: 0;\n",
              "    width: 32px;\n",
              "  }\n",
              "\n",
              "  .colab-df-quickchart:hover {\n",
              "    background-color: var(--hover-bg-color);\n",
              "    box-shadow: 0 1px 2px rgba(60, 64, 67, 0.3), 0 1px 3px 1px rgba(60, 64, 67, 0.15);\n",
              "    fill: var(--button-hover-fill-color);\n",
              "  }\n",
              "\n",
              "  .colab-df-quickchart-complete:disabled,\n",
              "  .colab-df-quickchart-complete:disabled:hover {\n",
              "    background-color: var(--disabled-bg-color);\n",
              "    fill: var(--disabled-fill-color);\n",
              "    box-shadow: none;\n",
              "  }\n",
              "\n",
              "  .colab-df-spinner {\n",
              "    border: 2px solid var(--fill-color);\n",
              "    border-color: transparent;\n",
              "    border-bottom-color: var(--fill-color);\n",
              "    animation:\n",
              "      spin 1s steps(1) infinite;\n",
              "  }\n",
              "\n",
              "  @keyframes spin {\n",
              "    0% {\n",
              "      border-color: transparent;\n",
              "      border-bottom-color: var(--fill-color);\n",
              "      border-left-color: var(--fill-color);\n",
              "    }\n",
              "    20% {\n",
              "      border-color: transparent;\n",
              "      border-left-color: var(--fill-color);\n",
              "      border-top-color: var(--fill-color);\n",
              "    }\n",
              "    30% {\n",
              "      border-color: transparent;\n",
              "      border-left-color: var(--fill-color);\n",
              "      border-top-color: var(--fill-color);\n",
              "      border-right-color: var(--fill-color);\n",
              "    }\n",
              "    40% {\n",
              "      border-color: transparent;\n",
              "      border-right-color: var(--fill-color);\n",
              "      border-top-color: var(--fill-color);\n",
              "    }\n",
              "    60% {\n",
              "      border-color: transparent;\n",
              "      border-right-color: var(--fill-color);\n",
              "    }\n",
              "    80% {\n",
              "      border-color: transparent;\n",
              "      border-right-color: var(--fill-color);\n",
              "      border-bottom-color: var(--fill-color);\n",
              "    }\n",
              "    90% {\n",
              "      border-color: transparent;\n",
              "      border-bottom-color: var(--fill-color);\n",
              "    }\n",
              "  }\n",
              "</style>\n",
              "\n",
              "  <script>\n",
              "    async function quickchart(key) {\n",
              "      const quickchartButtonEl =\n",
              "        document.querySelector('#' + key + ' button');\n",
              "      quickchartButtonEl.disabled = true;  // To prevent multiple clicks.\n",
              "      quickchartButtonEl.classList.add('colab-df-spinner');\n",
              "      try {\n",
              "        const charts = await google.colab.kernel.invokeFunction(\n",
              "            'suggestCharts', [key], {});\n",
              "      } catch (error) {\n",
              "        console.error('Error during call to suggestCharts:', error);\n",
              "      }\n",
              "      quickchartButtonEl.classList.remove('colab-df-spinner');\n",
              "      quickchartButtonEl.classList.add('colab-df-quickchart-complete');\n",
              "    }\n",
              "    (() => {\n",
              "      let quickchartButtonEl =\n",
              "        document.querySelector('#df-4f248798-0124-4a12-a8b9-4a566dfffb2d button');\n",
              "      quickchartButtonEl.style.display =\n",
              "        google.colab.kernel.accessAllowed ? 'block' : 'none';\n",
              "    })();\n",
              "  </script>\n",
              "</div>\n",
              "\n",
              "    </div>\n",
              "  </div>\n"
            ],
            "application/vnd.google.colaboratory.intrinsic+json": {
              "type": "dataframe",
              "variable_name": "HealthCareDataSet",
              "summary": "{\n  \"name\": \"HealthCareDataSet\",\n  \"rows\": 52563,\n  \"fields\": [\n    {\n      \"column\": \"Id\",\n      \"properties\": {\n        \"dtype\": \"number\",\n        \"std\": 30913,\n        \"min\": 634363,\n        \"max\": 741736,\n        \"num_unique_values\": 52563,\n        \"samples\": [\n          717055,\n          672046,\n          641484\n        ],\n        \"semantic_type\": \"\",\n        \"description\": \"\"\n      }\n    },\n    {\n      \"column\": \"MemberName\",\n      \"properties\": {\n        \"dtype\": \"category\",\n        \"num_unique_values\": 1753,\n        \"samples\": [\n          \"0a3c2ad9\",\n          \"48eb7f89\",\n          \"980f6ed4\"\n        ],\n        \"semantic_type\": \"\",\n        \"description\": \"\"\n      }\n    },\n    {\n      \"column\": \"MemberID\",\n      \"properties\": {\n        \"dtype\": \"category\",\n        \"num_unique_values\": 1757,\n        \"samples\": [\n          \"d3f3ebbc\",\n          \"5f609d45\",\n          \"477e3256\"\n        ],\n        \"semantic_type\": \"\",\n        \"description\": \"\"\n      }\n    },\n    {\n      \"column\": \"County\",\n      \"properties\": {\n        \"dtype\": \"category\",\n        \"num_unique_values\": 19,\n        \"samples\": [\n          \"6f943458\",\n          \"02af982d\",\n          \"adb3fb00\"\n        ],\n        \"semantic_type\": \"\",\n        \"description\": \"\"\n      }\n    },\n    {\n      \"column\": \"MedicalClaim\",\n      \"properties\": {\n        \"dtype\": \"category\",\n        \"num_unique_values\": 3361,\n        \"samples\": [\n          \"79032eefd1feeb8e\",\n          \"f3f81c5ebf62ed91\",\n          \"48c67d5441f9ca6d\"\n        ],\n        \"semantic_type\": \"\",\n        \"description\": \"\"\n      }\n    },\n    {\n      \"column\": \"ClaimItem\",\n      \"properties\": {\n        \"dtype\": \"number\",\n        \"std\": 10,\n        \"min\": 1,\n        \"max\": 127,\n        \"num_unique_values\": 127,\n        \"samples\": [\n          40,\n          111,\n          83\n        ],\n        \"semantic_type\": \"\",\n        \"description\": \"\"\n      }\n    },\n    {\n      \"column\": \"HospitalName\",\n      \"properties\": {\n        \"dtype\": \"category\",\n        \"num_unique_values\": 148,\n        \"samples\": [\n          \"2c2f104d\",\n          \"0a075ac9\",\n          \"d691f78d\"\n        ],\n        \"semantic_type\": \"\",\n        \"description\": \"\"\n      }\n    },\n    {\n      \"column\": \"HospitalType\",\n      \"properties\": {\n        \"dtype\": \"category\",\n        \"num_unique_values\": 3,\n        \"samples\": [\n          \"HOSPITAL\",\n          \"REHABILITATION CENTER\",\n          \"HOSPITAL LONG TERM ACUTE\"\n        ],\n        \"semantic_type\": \"\",\n        \"description\": \"\"\n      }\n    },\n    {\n      \"column\": \"StartDate\",\n      \"properties\": {\n        \"dtype\": \"date\",\n        \"min\": \"2020-01-01 00:00:00\",\n        \"max\": \"2020-12-31 00:00:00\",\n        \"num_unique_values\": 366,\n        \"samples\": [\n          \"2020-07-25 00:00:00\",\n          \"2020-02-28 00:00:00\",\n          \"2020-01-20 00:00:00\"\n        ],\n        \"semantic_type\": \"\",\n        \"description\": \"\"\n      }\n    },\n    {\n      \"column\": \"EndDate\",\n      \"properties\": {\n        \"dtype\": \"date\",\n        \"min\": \"2020-01-01 00:00:00\",\n        \"max\": \"2020-12-31 00:00:00\",\n        \"num_unique_values\": 366,\n        \"samples\": [\n          \"2020-07-17 00:00:00\",\n          \"2020-02-03 00:00:00\",\n          \"2020-01-29 00:00:00\"\n        ],\n        \"semantic_type\": \"\",\n        \"description\": \"\"\n      }\n    },\n    {\n      \"column\": \"PrincipalDiagnosisDesc\",\n      \"properties\": {\n        \"dtype\": \"category\",\n        \"num_unique_values\": 798,\n        \"samples\": [\n          \"Biliary acute pancreatiti\",\n          \"Calculus of ureter\",\n          \"Major depressive disorder\"\n        ],\n        \"semantic_type\": \"\",\n        \"description\": \"\"\n      }\n    },\n    {\n      \"column\": \"PrincipalDiagnosis\",\n      \"properties\": {\n        \"dtype\": \"category\",\n        \"num_unique_values\": 1037,\n        \"samples\": [\n          \"S52.612A\",\n          \"R33.8\",\n          \"I35.2\"\n        ],\n        \"semantic_type\": \"\",\n        \"description\": \"\"\n      }\n    },\n    {\n      \"column\": \"RevenueCodeDesc\",\n      \"properties\": {\n        \"dtype\": \"category\",\n        \"num_unique_values\": 131,\n        \"samples\": [\n          \"MEDICAL/SURGICAL SUPPLIES\",\n          \"MAGNETIC RESONANCE TECH. (MRT)\",\n          \"MEDICAL/SURGICAL/GYN\"\n        ],\n        \"semantic_type\": \"\",\n        \"description\": \"\"\n      }\n    },\n    {\n      \"column\": \"RevenueCode\",\n      \"properties\": {\n        \"dtype\": \"number\",\n        \"std\": 158.55173341143333,\n        \"min\": 24.0,\n        \"max\": 942.0,\n        \"num_unique_values\": 136,\n        \"samples\": [\n          900.0,\n          420.0,\n          444.0\n        ],\n        \"semantic_type\": \"\",\n        \"description\": \"\"\n      }\n    },\n    {\n      \"column\": \"TypeFlag\",\n      \"properties\": {\n        \"dtype\": \"category\",\n        \"num_unique_values\": 2,\n        \"samples\": [\n          \"INP\",\n          \"ER\"\n        ],\n        \"semantic_type\": \"\",\n        \"description\": \"\"\n      }\n    },\n    {\n      \"column\": \"BirthDate\",\n      \"properties\": {\n        \"dtype\": \"date\",\n        \"min\": \"1921-01-18 00:00:00\",\n        \"max\": \"1999-08-09 00:00:00\",\n        \"num_unique_values\": 1632,\n        \"samples\": [\n          \"1949-05-31 00:00:00\",\n          \"1952-03-21 00:00:00\"\n        ],\n        \"semantic_type\": \"\",\n        \"description\": \"\"\n      }\n    },\n    {\n      \"column\": \"TotalExpenses\",\n      \"properties\": {\n        \"dtype\": \"number\",\n        \"std\": 8292.178928308316,\n        \"min\": 0.0,\n        \"max\": 504533.4,\n        \"num_unique_values\": 18853,\n        \"samples\": [\n          72417.1,\n          196.7\n        ],\n        \"semantic_type\": \"\",\n        \"description\": \"\"\n      }\n    }\n  ]\n}"
            }
          },
          "metadata": {},
          "execution_count": 10
        }
      ]
    },
    {
      "cell_type": "code",
      "source": [
        "HealthCareDataSet.info()"
      ],
      "metadata": {
        "colab": {
          "base_uri": "https://localhost:8080/"
        },
        "id": "UKJFk_S_lBgz",
        "outputId": "275fc670-9bf8-4353-f25d-3eac043d677e"
      },
      "execution_count": 11,
      "outputs": [
        {
          "output_type": "stream",
          "name": "stdout",
          "text": [
            "<class 'pandas.core.frame.DataFrame'>\n",
            "RangeIndex: 52563 entries, 0 to 52562\n",
            "Data columns (total 17 columns):\n",
            " #   Column                  Non-Null Count  Dtype         \n",
            "---  ------                  --------------  -----         \n",
            " 0   Id                      52563 non-null  int64         \n",
            " 1   MemberName              52563 non-null  object        \n",
            " 2   MemberID                52563 non-null  object        \n",
            " 3   County                  52563 non-null  object        \n",
            " 4   MedicalClaim            52563 non-null  object        \n",
            " 5   ClaimItem               52563 non-null  int64         \n",
            " 6   HospitalName            52563 non-null  object        \n",
            " 7   HospitalType            52563 non-null  object        \n",
            " 8   StartDate               52563 non-null  datetime64[ns]\n",
            " 9   EndDate                 52563 non-null  datetime64[ns]\n",
            " 10  PrincipalDiagnosisDesc  52563 non-null  object        \n",
            " 11  PrincipalDiagnosis      52563 non-null  object        \n",
            " 12  RevenueCodeDesc         52561 non-null  object        \n",
            " 13  RevenueCode             52563 non-null  float64       \n",
            " 14  TypeFlag                52563 non-null  object        \n",
            " 15  BirthDate               52563 non-null  datetime64[ns]\n",
            " 16  TotalExpenses           52563 non-null  float64       \n",
            "dtypes: datetime64[ns](3), float64(2), int64(2), object(10)\n",
            "memory usage: 6.8+ MB\n"
          ]
        }
      ]
    },
    {
      "cell_type": "code",
      "source": [],
      "metadata": {
        "id": "HY8dNT4YlEDa"
      },
      "execution_count": 11,
      "outputs": []
    },
    {
      "cell_type": "code",
      "source": [],
      "metadata": {
        "id": "Z3WlAzdEN43g"
      },
      "execution_count": null,
      "outputs": []
    },
    {
      "cell_type": "markdown",
      "source": [
        "## 3. Regular functions\n",
        "### Let's practice the definition and application of regular functions to a Pandas DataFrame"
      ],
      "metadata": {
        "id": "Ukvaf1c_6tPi"
      }
    },
    {
      "cell_type": "markdown",
      "source": [
        "### 3.1. Total days in hospital\n",
        "#### This time we define and apply a regular function to compute the number of days in hospital. This is only for instructional purposes, the optimal approach uses pandas native functionality"
      ],
      "metadata": {
        "id": "lQfeKVMc8TQO"
      }
    },
    {
      "cell_type": "code",
      "source": [
        "def total_days_function(row):\n",
        "\n",
        "  days=row['EndDate']-row['StartDate']\n",
        "  return days"
      ],
      "metadata": {
        "id": "_5w14QlI6zW7"
      },
      "execution_count": 20,
      "outputs": []
    },
    {
      "cell_type": "code",
      "source": [
        "HealthCareDataSet.apply(total_days_function, axis=1)"
      ],
      "metadata": {
        "colab": {
          "base_uri": "https://localhost:8080/",
          "height": 458
        },
        "id": "4dMZ2gXJrMer",
        "outputId": "7135f6d1-e6b9-49f4-e72f-49e9f4c7c517"
      },
      "execution_count": 25,
      "outputs": [
        {
          "output_type": "execute_result",
          "data": {
            "text/plain": [
              "0       0 days\n",
              "1       0 days\n",
              "2       0 days\n",
              "3       0 days\n",
              "4       0 days\n",
              "         ...  \n",
              "52558   7 days\n",
              "52559   4 days\n",
              "52560   4 days\n",
              "52561   4 days\n",
              "52562   4 days\n",
              "Length: 52563, dtype: timedelta64[ns]"
            ],
            "text/html": [
              "<div>\n",
              "<style scoped>\n",
              "    .dataframe tbody tr th:only-of-type {\n",
              "        vertical-align: middle;\n",
              "    }\n",
              "\n",
              "    .dataframe tbody tr th {\n",
              "        vertical-align: top;\n",
              "    }\n",
              "\n",
              "    .dataframe thead th {\n",
              "        text-align: right;\n",
              "    }\n",
              "</style>\n",
              "<table border=\"1\" class=\"dataframe\">\n",
              "  <thead>\n",
              "    <tr style=\"text-align: right;\">\n",
              "      <th></th>\n",
              "      <th>0</th>\n",
              "    </tr>\n",
              "  </thead>\n",
              "  <tbody>\n",
              "    <tr>\n",
              "      <th>0</th>\n",
              "      <td>0 days</td>\n",
              "    </tr>\n",
              "    <tr>\n",
              "      <th>1</th>\n",
              "      <td>0 days</td>\n",
              "    </tr>\n",
              "    <tr>\n",
              "      <th>2</th>\n",
              "      <td>0 days</td>\n",
              "    </tr>\n",
              "    <tr>\n",
              "      <th>3</th>\n",
              "      <td>0 days</td>\n",
              "    </tr>\n",
              "    <tr>\n",
              "      <th>4</th>\n",
              "      <td>0 days</td>\n",
              "    </tr>\n",
              "    <tr>\n",
              "      <th>...</th>\n",
              "      <td>...</td>\n",
              "    </tr>\n",
              "    <tr>\n",
              "      <th>52558</th>\n",
              "      <td>7 days</td>\n",
              "    </tr>\n",
              "    <tr>\n",
              "      <th>52559</th>\n",
              "      <td>4 days</td>\n",
              "    </tr>\n",
              "    <tr>\n",
              "      <th>52560</th>\n",
              "      <td>4 days</td>\n",
              "    </tr>\n",
              "    <tr>\n",
              "      <th>52561</th>\n",
              "      <td>4 days</td>\n",
              "    </tr>\n",
              "    <tr>\n",
              "      <th>52562</th>\n",
              "      <td>4 days</td>\n",
              "    </tr>\n",
              "  </tbody>\n",
              "</table>\n",
              "<p>52563 rows × 1 columns</p>\n",
              "</div><br><label><b>dtype:</b> timedelta64[ns]</label>"
            ]
          },
          "metadata": {},
          "execution_count": 25
        }
      ]
    },
    {
      "cell_type": "code",
      "source": [],
      "metadata": {
        "id": "RvrSTn1yrMYd"
      },
      "execution_count": null,
      "outputs": []
    },
    {
      "cell_type": "code",
      "source": [
        "## Whenever possible it is advisable to rely on Pandas native functionality.\n",
        "\n",
        "HealthCareDataSet['DaysInHospital']=HealthCareDataSet['EndDate']-HealthCareDataSet['StartDate']\n",
        "HealthCareDataSet['DaysInHospital']"
      ],
      "metadata": {
        "colab": {
          "base_uri": "https://localhost:8080/",
          "height": 458
        },
        "id": "ZbxGYjqBtHMR",
        "outputId": "52c9d8b6-212f-4302-83f1-b2e6d670a282"
      },
      "execution_count": 24,
      "outputs": [
        {
          "output_type": "execute_result",
          "data": {
            "text/plain": [
              "0       0 days\n",
              "1       0 days\n",
              "2       0 days\n",
              "3       0 days\n",
              "4       0 days\n",
              "         ...  \n",
              "52558   7 days\n",
              "52559   4 days\n",
              "52560   4 days\n",
              "52561   4 days\n",
              "52562   4 days\n",
              "Name: DaysInHospital, Length: 52563, dtype: timedelta64[ns]"
            ],
            "text/html": [
              "<div>\n",
              "<style scoped>\n",
              "    .dataframe tbody tr th:only-of-type {\n",
              "        vertical-align: middle;\n",
              "    }\n",
              "\n",
              "    .dataframe tbody tr th {\n",
              "        vertical-align: top;\n",
              "    }\n",
              "\n",
              "    .dataframe thead th {\n",
              "        text-align: right;\n",
              "    }\n",
              "</style>\n",
              "<table border=\"1\" class=\"dataframe\">\n",
              "  <thead>\n",
              "    <tr style=\"text-align: right;\">\n",
              "      <th></th>\n",
              "      <th>DaysInHospital</th>\n",
              "    </tr>\n",
              "  </thead>\n",
              "  <tbody>\n",
              "    <tr>\n",
              "      <th>0</th>\n",
              "      <td>0 days</td>\n",
              "    </tr>\n",
              "    <tr>\n",
              "      <th>1</th>\n",
              "      <td>0 days</td>\n",
              "    </tr>\n",
              "    <tr>\n",
              "      <th>2</th>\n",
              "      <td>0 days</td>\n",
              "    </tr>\n",
              "    <tr>\n",
              "      <th>3</th>\n",
              "      <td>0 days</td>\n",
              "    </tr>\n",
              "    <tr>\n",
              "      <th>4</th>\n",
              "      <td>0 days</td>\n",
              "    </tr>\n",
              "    <tr>\n",
              "      <th>...</th>\n",
              "      <td>...</td>\n",
              "    </tr>\n",
              "    <tr>\n",
              "      <th>52558</th>\n",
              "      <td>7 days</td>\n",
              "    </tr>\n",
              "    <tr>\n",
              "      <th>52559</th>\n",
              "      <td>4 days</td>\n",
              "    </tr>\n",
              "    <tr>\n",
              "      <th>52560</th>\n",
              "      <td>4 days</td>\n",
              "    </tr>\n",
              "    <tr>\n",
              "      <th>52561</th>\n",
              "      <td>4 days</td>\n",
              "    </tr>\n",
              "    <tr>\n",
              "      <th>52562</th>\n",
              "      <td>4 days</td>\n",
              "    </tr>\n",
              "  </tbody>\n",
              "</table>\n",
              "<p>52563 rows × 1 columns</p>\n",
              "</div><br><label><b>dtype:</b> timedelta64[ns]</label>"
            ]
          },
          "metadata": {},
          "execution_count": 24
        }
      ]
    },
    {
      "cell_type": "code",
      "source": [],
      "metadata": {
        "id": "gi4bzcG9tHJq"
      },
      "execution_count": null,
      "outputs": []
    },
    {
      "cell_type": "markdown",
      "source": [
        "### 3.2. Currency Converter\n",
        "#### This time we define a function to convert dollars to yuans\n",
        "\n",
        "\n"
      ],
      "metadata": {
        "id": "CpSXXeQitpub"
      }
    },
    {
      "cell_type": "code",
      "source": [
        "def currency_converter_function(row):\n",
        "  yuan_dollar_rate=7.24\n",
        "  yuans=row['TotalExpenses']*yuan_dollar_rate\n",
        "  return yuans\n"
      ],
      "metadata": {
        "id": "7Adn5oFatHHl"
      },
      "execution_count": 27,
      "outputs": []
    },
    {
      "cell_type": "code",
      "source": [
        "HealthCareDataSet.apply(currency_converter_function, axis=1)"
      ],
      "metadata": {
        "colab": {
          "base_uri": "https://localhost:8080/",
          "height": 458
        },
        "id": "-nlTE83ttHE-",
        "outputId": "cd4c4cf3-d9a9-4b77-d9f4-8048c8c4aff8"
      },
      "execution_count": 28,
      "outputs": [
        {
          "output_type": "execute_result",
          "data": {
            "text/plain": [
              "0          109.67152\n",
              "1           22.24852\n",
              "2          897.03600\n",
              "3           54.37964\n",
              "4           62.48844\n",
              "            ...     \n",
              "52558    17636.64000\n",
              "52559    15026.62000\n",
              "52560     6269.11600\n",
              "52561     4814.60000\n",
              "52562    33215.67200\n",
              "Length: 52563, dtype: float64"
            ],
            "text/html": [
              "<div>\n",
              "<style scoped>\n",
              "    .dataframe tbody tr th:only-of-type {\n",
              "        vertical-align: middle;\n",
              "    }\n",
              "\n",
              "    .dataframe tbody tr th {\n",
              "        vertical-align: top;\n",
              "    }\n",
              "\n",
              "    .dataframe thead th {\n",
              "        text-align: right;\n",
              "    }\n",
              "</style>\n",
              "<table border=\"1\" class=\"dataframe\">\n",
              "  <thead>\n",
              "    <tr style=\"text-align: right;\">\n",
              "      <th></th>\n",
              "      <th>0</th>\n",
              "    </tr>\n",
              "  </thead>\n",
              "  <tbody>\n",
              "    <tr>\n",
              "      <th>0</th>\n",
              "      <td>109.67152</td>\n",
              "    </tr>\n",
              "    <tr>\n",
              "      <th>1</th>\n",
              "      <td>22.24852</td>\n",
              "    </tr>\n",
              "    <tr>\n",
              "      <th>2</th>\n",
              "      <td>897.03600</td>\n",
              "    </tr>\n",
              "    <tr>\n",
              "      <th>3</th>\n",
              "      <td>54.37964</td>\n",
              "    </tr>\n",
              "    <tr>\n",
              "      <th>4</th>\n",
              "      <td>62.48844</td>\n",
              "    </tr>\n",
              "    <tr>\n",
              "      <th>...</th>\n",
              "      <td>...</td>\n",
              "    </tr>\n",
              "    <tr>\n",
              "      <th>52558</th>\n",
              "      <td>17636.64000</td>\n",
              "    </tr>\n",
              "    <tr>\n",
              "      <th>52559</th>\n",
              "      <td>15026.62000</td>\n",
              "    </tr>\n",
              "    <tr>\n",
              "      <th>52560</th>\n",
              "      <td>6269.11600</td>\n",
              "    </tr>\n",
              "    <tr>\n",
              "      <th>52561</th>\n",
              "      <td>4814.60000</td>\n",
              "    </tr>\n",
              "    <tr>\n",
              "      <th>52562</th>\n",
              "      <td>33215.67200</td>\n",
              "    </tr>\n",
              "  </tbody>\n",
              "</table>\n",
              "<p>52563 rows × 1 columns</p>\n",
              "</div><br><label><b>dtype:</b> float64</label>"
            ]
          },
          "metadata": {},
          "execution_count": 28
        }
      ]
    },
    {
      "cell_type": "code",
      "source": [
        "### Again it is advisable to use Pandas native functionality whenever possible\n",
        "\n",
        "HealthCareDataSet['TotalExpensesYuan']=HealthCareDataSet['TotalExpenses']*7.24\n",
        "HealthCareDataSet['TotalExpensesYuan']\n",
        "\n",
        "\n"
      ],
      "metadata": {
        "colab": {
          "base_uri": "https://localhost:8080/",
          "height": 458
        },
        "id": "5_zT2vmltHCr",
        "outputId": "917c0424-7de1-4bd9-d482-980ba6f9329a"
      },
      "execution_count": 29,
      "outputs": [
        {
          "output_type": "execute_result",
          "data": {
            "text/plain": [
              "0          109.67152\n",
              "1           22.24852\n",
              "2          897.03600\n",
              "3           54.37964\n",
              "4           62.48844\n",
              "            ...     \n",
              "52558    17636.64000\n",
              "52559    15026.62000\n",
              "52560     6269.11600\n",
              "52561     4814.60000\n",
              "52562    33215.67200\n",
              "Name: TotalExpensesYuan, Length: 52563, dtype: float64"
            ],
            "text/html": [
              "<div>\n",
              "<style scoped>\n",
              "    .dataframe tbody tr th:only-of-type {\n",
              "        vertical-align: middle;\n",
              "    }\n",
              "\n",
              "    .dataframe tbody tr th {\n",
              "        vertical-align: top;\n",
              "    }\n",
              "\n",
              "    .dataframe thead th {\n",
              "        text-align: right;\n",
              "    }\n",
              "</style>\n",
              "<table border=\"1\" class=\"dataframe\">\n",
              "  <thead>\n",
              "    <tr style=\"text-align: right;\">\n",
              "      <th></th>\n",
              "      <th>TotalExpensesYuan</th>\n",
              "    </tr>\n",
              "  </thead>\n",
              "  <tbody>\n",
              "    <tr>\n",
              "      <th>0</th>\n",
              "      <td>109.67152</td>\n",
              "    </tr>\n",
              "    <tr>\n",
              "      <th>1</th>\n",
              "      <td>22.24852</td>\n",
              "    </tr>\n",
              "    <tr>\n",
              "      <th>2</th>\n",
              "      <td>897.03600</td>\n",
              "    </tr>\n",
              "    <tr>\n",
              "      <th>3</th>\n",
              "      <td>54.37964</td>\n",
              "    </tr>\n",
              "    <tr>\n",
              "      <th>4</th>\n",
              "      <td>62.48844</td>\n",
              "    </tr>\n",
              "    <tr>\n",
              "      <th>...</th>\n",
              "      <td>...</td>\n",
              "    </tr>\n",
              "    <tr>\n",
              "      <th>52558</th>\n",
              "      <td>17636.64000</td>\n",
              "    </tr>\n",
              "    <tr>\n",
              "      <th>52559</th>\n",
              "      <td>15026.62000</td>\n",
              "    </tr>\n",
              "    <tr>\n",
              "      <th>52560</th>\n",
              "      <td>6269.11600</td>\n",
              "    </tr>\n",
              "    <tr>\n",
              "      <th>52561</th>\n",
              "      <td>4814.60000</td>\n",
              "    </tr>\n",
              "    <tr>\n",
              "      <th>52562</th>\n",
              "      <td>33215.67200</td>\n",
              "    </tr>\n",
              "  </tbody>\n",
              "</table>\n",
              "<p>52563 rows × 1 columns</p>\n",
              "</div><br><label><b>dtype:</b> float64</label>"
            ]
          },
          "metadata": {},
          "execution_count": 29
        }
      ]
    },
    {
      "cell_type": "code",
      "source": [],
      "metadata": {
        "id": "-QkNO6EnvVJ6"
      },
      "execution_count": null,
      "outputs": []
    },
    {
      "cell_type": "markdown",
      "source": [
        "## 4. Lambda functions\n",
        "### Let's practice the definition and application of lambda functions to a Pandas DataFrame"
      ],
      "metadata": {
        "id": "NpbdEZkEvcg1"
      }
    },
    {
      "cell_type": "markdown",
      "source": [
        "### 3.1. Total days in hospital\n",
        "#### This time we define and apply a lambda function to compute the number of days in hospital. This is only for instructional purposes, the optimal approach uses pandas native functionality"
      ],
      "metadata": {
        "id": "tPTXyM_4vcg1"
      }
    },
    {
      "cell_type": "code",
      "source": [
        "HealthCareDataSet.apply(lambda row: row['EndDate']-row['StartDate'], axis=1)"
      ],
      "metadata": {
        "colab": {
          "base_uri": "https://localhost:8080/",
          "height": 458
        },
        "outputId": "43941d3f-76f4-4b26-b180-bf697f18b3e9",
        "id": "ra0a23skvcg2"
      },
      "execution_count": 33,
      "outputs": [
        {
          "output_type": "execute_result",
          "data": {
            "text/plain": [
              "0       0 days\n",
              "1       0 days\n",
              "2       0 days\n",
              "3       0 days\n",
              "4       0 days\n",
              "         ...  \n",
              "52558   7 days\n",
              "52559   4 days\n",
              "52560   4 days\n",
              "52561   4 days\n",
              "52562   4 days\n",
              "Length: 52563, dtype: timedelta64[ns]"
            ],
            "text/html": [
              "<div>\n",
              "<style scoped>\n",
              "    .dataframe tbody tr th:only-of-type {\n",
              "        vertical-align: middle;\n",
              "    }\n",
              "\n",
              "    .dataframe tbody tr th {\n",
              "        vertical-align: top;\n",
              "    }\n",
              "\n",
              "    .dataframe thead th {\n",
              "        text-align: right;\n",
              "    }\n",
              "</style>\n",
              "<table border=\"1\" class=\"dataframe\">\n",
              "  <thead>\n",
              "    <tr style=\"text-align: right;\">\n",
              "      <th></th>\n",
              "      <th>0</th>\n",
              "    </tr>\n",
              "  </thead>\n",
              "  <tbody>\n",
              "    <tr>\n",
              "      <th>0</th>\n",
              "      <td>0 days</td>\n",
              "    </tr>\n",
              "    <tr>\n",
              "      <th>1</th>\n",
              "      <td>0 days</td>\n",
              "    </tr>\n",
              "    <tr>\n",
              "      <th>2</th>\n",
              "      <td>0 days</td>\n",
              "    </tr>\n",
              "    <tr>\n",
              "      <th>3</th>\n",
              "      <td>0 days</td>\n",
              "    </tr>\n",
              "    <tr>\n",
              "      <th>4</th>\n",
              "      <td>0 days</td>\n",
              "    </tr>\n",
              "    <tr>\n",
              "      <th>...</th>\n",
              "      <td>...</td>\n",
              "    </tr>\n",
              "    <tr>\n",
              "      <th>52558</th>\n",
              "      <td>7 days</td>\n",
              "    </tr>\n",
              "    <tr>\n",
              "      <th>52559</th>\n",
              "      <td>4 days</td>\n",
              "    </tr>\n",
              "    <tr>\n",
              "      <th>52560</th>\n",
              "      <td>4 days</td>\n",
              "    </tr>\n",
              "    <tr>\n",
              "      <th>52561</th>\n",
              "      <td>4 days</td>\n",
              "    </tr>\n",
              "    <tr>\n",
              "      <th>52562</th>\n",
              "      <td>4 days</td>\n",
              "    </tr>\n",
              "  </tbody>\n",
              "</table>\n",
              "<p>52563 rows × 1 columns</p>\n",
              "</div><br><label><b>dtype:</b> timedelta64[ns]</label>"
            ]
          },
          "metadata": {},
          "execution_count": 33
        }
      ]
    },
    {
      "cell_type": "code",
      "source": [],
      "metadata": {
        "id": "xuoRknfIvcg2"
      },
      "execution_count": null,
      "outputs": []
    },
    {
      "cell_type": "code",
      "source": [
        "## Whenever possible it is advisable to rely on Pandas native functionality.\n",
        "\n",
        "HealthCareDataSet['DaysInHospital']=HealthCareDataSet['EndDate']-HealthCareDataSet['StartDate']\n",
        "HealthCareDataSet['DaysInHospital']"
      ],
      "metadata": {
        "colab": {
          "base_uri": "https://localhost:8080/",
          "height": 458
        },
        "outputId": "52c9d8b6-212f-4302-83f1-b2e6d670a282",
        "id": "TT-I-6vOvcg2"
      },
      "execution_count": null,
      "outputs": [
        {
          "output_type": "execute_result",
          "data": {
            "text/plain": [
              "0       0 days\n",
              "1       0 days\n",
              "2       0 days\n",
              "3       0 days\n",
              "4       0 days\n",
              "         ...  \n",
              "52558   7 days\n",
              "52559   4 days\n",
              "52560   4 days\n",
              "52561   4 days\n",
              "52562   4 days\n",
              "Name: DaysInHospital, Length: 52563, dtype: timedelta64[ns]"
            ],
            "text/html": [
              "<div>\n",
              "<style scoped>\n",
              "    .dataframe tbody tr th:only-of-type {\n",
              "        vertical-align: middle;\n",
              "    }\n",
              "\n",
              "    .dataframe tbody tr th {\n",
              "        vertical-align: top;\n",
              "    }\n",
              "\n",
              "    .dataframe thead th {\n",
              "        text-align: right;\n",
              "    }\n",
              "</style>\n",
              "<table border=\"1\" class=\"dataframe\">\n",
              "  <thead>\n",
              "    <tr style=\"text-align: right;\">\n",
              "      <th></th>\n",
              "      <th>DaysInHospital</th>\n",
              "    </tr>\n",
              "  </thead>\n",
              "  <tbody>\n",
              "    <tr>\n",
              "      <th>0</th>\n",
              "      <td>0 days</td>\n",
              "    </tr>\n",
              "    <tr>\n",
              "      <th>1</th>\n",
              "      <td>0 days</td>\n",
              "    </tr>\n",
              "    <tr>\n",
              "      <th>2</th>\n",
              "      <td>0 days</td>\n",
              "    </tr>\n",
              "    <tr>\n",
              "      <th>3</th>\n",
              "      <td>0 days</td>\n",
              "    </tr>\n",
              "    <tr>\n",
              "      <th>4</th>\n",
              "      <td>0 days</td>\n",
              "    </tr>\n",
              "    <tr>\n",
              "      <th>...</th>\n",
              "      <td>...</td>\n",
              "    </tr>\n",
              "    <tr>\n",
              "      <th>52558</th>\n",
              "      <td>7 days</td>\n",
              "    </tr>\n",
              "    <tr>\n",
              "      <th>52559</th>\n",
              "      <td>4 days</td>\n",
              "    </tr>\n",
              "    <tr>\n",
              "      <th>52560</th>\n",
              "      <td>4 days</td>\n",
              "    </tr>\n",
              "    <tr>\n",
              "      <th>52561</th>\n",
              "      <td>4 days</td>\n",
              "    </tr>\n",
              "    <tr>\n",
              "      <th>52562</th>\n",
              "      <td>4 days</td>\n",
              "    </tr>\n",
              "  </tbody>\n",
              "</table>\n",
              "<p>52563 rows × 1 columns</p>\n",
              "</div><br><label><b>dtype:</b> timedelta64[ns]</label>"
            ]
          },
          "metadata": {},
          "execution_count": 24
        }
      ]
    },
    {
      "cell_type": "code",
      "source": [],
      "metadata": {
        "id": "5rXdocGQvcg3"
      },
      "execution_count": null,
      "outputs": []
    },
    {
      "cell_type": "markdown",
      "source": [
        "### 3.2. Currency Converter\n",
        "#### This time we define a function to convert dollars to yuans\n",
        "\n",
        "\n"
      ],
      "metadata": {
        "id": "FaRBgJrpvcg3"
      }
    },
    {
      "cell_type": "code",
      "source": [
        "HealthCareDataSet.apply(lambda row: row['TotalExpenses']*7.24, axis=1)"
      ],
      "metadata": {
        "colab": {
          "base_uri": "https://localhost:8080/",
          "height": 458
        },
        "outputId": "8b16ce0c-de29-4652-fa7d-437dc1c2f30d",
        "id": "8JjRZR-dvcg3"
      },
      "execution_count": 34,
      "outputs": [
        {
          "output_type": "execute_result",
          "data": {
            "text/plain": [
              "0          109.67152\n",
              "1           22.24852\n",
              "2          897.03600\n",
              "3           54.37964\n",
              "4           62.48844\n",
              "            ...     \n",
              "52558    17636.64000\n",
              "52559    15026.62000\n",
              "52560     6269.11600\n",
              "52561     4814.60000\n",
              "52562    33215.67200\n",
              "Length: 52563, dtype: float64"
            ],
            "text/html": [
              "<div>\n",
              "<style scoped>\n",
              "    .dataframe tbody tr th:only-of-type {\n",
              "        vertical-align: middle;\n",
              "    }\n",
              "\n",
              "    .dataframe tbody tr th {\n",
              "        vertical-align: top;\n",
              "    }\n",
              "\n",
              "    .dataframe thead th {\n",
              "        text-align: right;\n",
              "    }\n",
              "</style>\n",
              "<table border=\"1\" class=\"dataframe\">\n",
              "  <thead>\n",
              "    <tr style=\"text-align: right;\">\n",
              "      <th></th>\n",
              "      <th>0</th>\n",
              "    </tr>\n",
              "  </thead>\n",
              "  <tbody>\n",
              "    <tr>\n",
              "      <th>0</th>\n",
              "      <td>109.67152</td>\n",
              "    </tr>\n",
              "    <tr>\n",
              "      <th>1</th>\n",
              "      <td>22.24852</td>\n",
              "    </tr>\n",
              "    <tr>\n",
              "      <th>2</th>\n",
              "      <td>897.03600</td>\n",
              "    </tr>\n",
              "    <tr>\n",
              "      <th>3</th>\n",
              "      <td>54.37964</td>\n",
              "    </tr>\n",
              "    <tr>\n",
              "      <th>4</th>\n",
              "      <td>62.48844</td>\n",
              "    </tr>\n",
              "    <tr>\n",
              "      <th>...</th>\n",
              "      <td>...</td>\n",
              "    </tr>\n",
              "    <tr>\n",
              "      <th>52558</th>\n",
              "      <td>17636.64000</td>\n",
              "    </tr>\n",
              "    <tr>\n",
              "      <th>52559</th>\n",
              "      <td>15026.62000</td>\n",
              "    </tr>\n",
              "    <tr>\n",
              "      <th>52560</th>\n",
              "      <td>6269.11600</td>\n",
              "    </tr>\n",
              "    <tr>\n",
              "      <th>52561</th>\n",
              "      <td>4814.60000</td>\n",
              "    </tr>\n",
              "    <tr>\n",
              "      <th>52562</th>\n",
              "      <td>33215.67200</td>\n",
              "    </tr>\n",
              "  </tbody>\n",
              "</table>\n",
              "<p>52563 rows × 1 columns</p>\n",
              "</div><br><label><b>dtype:</b> float64</label>"
            ]
          },
          "metadata": {},
          "execution_count": 34
        }
      ]
    },
    {
      "cell_type": "code",
      "source": [
        "### Again it is advisable to use Pandas native functionality whenever possible\n",
        "\n",
        "HealthCareDataSet['TotalExpensesYuan']=HealthCareDataSet['TotalExpenses']*7.24\n",
        "HealthCareDataSet['TotalExpensesYuan']\n",
        "\n",
        "\n"
      ],
      "metadata": {
        "colab": {
          "base_uri": "https://localhost:8080/",
          "height": 458
        },
        "outputId": "e4774062-831d-45fb-d786-0f4a66c3c0c3",
        "id": "jc8qs__Pvcg3"
      },
      "execution_count": 35,
      "outputs": [
        {
          "output_type": "execute_result",
          "data": {
            "text/plain": [
              "0          109.67152\n",
              "1           22.24852\n",
              "2          897.03600\n",
              "3           54.37964\n",
              "4           62.48844\n",
              "            ...     \n",
              "52558    17636.64000\n",
              "52559    15026.62000\n",
              "52560     6269.11600\n",
              "52561     4814.60000\n",
              "52562    33215.67200\n",
              "Name: TotalExpensesYuan, Length: 52563, dtype: float64"
            ],
            "text/html": [
              "<div>\n",
              "<style scoped>\n",
              "    .dataframe tbody tr th:only-of-type {\n",
              "        vertical-align: middle;\n",
              "    }\n",
              "\n",
              "    .dataframe tbody tr th {\n",
              "        vertical-align: top;\n",
              "    }\n",
              "\n",
              "    .dataframe thead th {\n",
              "        text-align: right;\n",
              "    }\n",
              "</style>\n",
              "<table border=\"1\" class=\"dataframe\">\n",
              "  <thead>\n",
              "    <tr style=\"text-align: right;\">\n",
              "      <th></th>\n",
              "      <th>TotalExpensesYuan</th>\n",
              "    </tr>\n",
              "  </thead>\n",
              "  <tbody>\n",
              "    <tr>\n",
              "      <th>0</th>\n",
              "      <td>109.67152</td>\n",
              "    </tr>\n",
              "    <tr>\n",
              "      <th>1</th>\n",
              "      <td>22.24852</td>\n",
              "    </tr>\n",
              "    <tr>\n",
              "      <th>2</th>\n",
              "      <td>897.03600</td>\n",
              "    </tr>\n",
              "    <tr>\n",
              "      <th>3</th>\n",
              "      <td>54.37964</td>\n",
              "    </tr>\n",
              "    <tr>\n",
              "      <th>4</th>\n",
              "      <td>62.48844</td>\n",
              "    </tr>\n",
              "    <tr>\n",
              "      <th>...</th>\n",
              "      <td>...</td>\n",
              "    </tr>\n",
              "    <tr>\n",
              "      <th>52558</th>\n",
              "      <td>17636.64000</td>\n",
              "    </tr>\n",
              "    <tr>\n",
              "      <th>52559</th>\n",
              "      <td>15026.62000</td>\n",
              "    </tr>\n",
              "    <tr>\n",
              "      <th>52560</th>\n",
              "      <td>6269.11600</td>\n",
              "    </tr>\n",
              "    <tr>\n",
              "      <th>52561</th>\n",
              "      <td>4814.60000</td>\n",
              "    </tr>\n",
              "    <tr>\n",
              "      <th>52562</th>\n",
              "      <td>33215.67200</td>\n",
              "    </tr>\n",
              "  </tbody>\n",
              "</table>\n",
              "<p>52563 rows × 1 columns</p>\n",
              "</div><br><label><b>dtype:</b> float64</label>"
            ]
          },
          "metadata": {},
          "execution_count": 35
        }
      ]
    },
    {
      "cell_type": "code",
      "source": [],
      "metadata": {
        "id": "DJ1Zkvtbvcg3"
      },
      "execution_count": null,
      "outputs": []
    }
  ]
}