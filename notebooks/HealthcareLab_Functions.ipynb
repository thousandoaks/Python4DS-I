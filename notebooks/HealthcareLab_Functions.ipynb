{
  "nbformat": 4,
  "nbformat_minor": 0,
  "metadata": {
    "colab": {
      "provenance": [],
      "authorship_tag": "ABX9TyPJ9ydSy9bzWudfYzgugGoI"
    },
    "kernelspec": {
      "name": "python3",
      "display_name": "Python 3"
    },
    "language_info": {
      "name": "python"
    }
  },
  "cells": [
    {
      "cell_type": "markdown",
      "source": [
        "# Healthcare Lab (Functions)"
      ],
      "metadata": {
        "id": "d_WMo1QVesys"
      }
    },
    {
      "cell_type": "markdown",
      "source": [
        "**Learning Objectives:**\n",
        "  * Practice the definition and application of functions operations in data science contexts\n",
        "  * Gain exposure to healthcare related DataSets"
      ],
      "metadata": {
        "id": "Ao_VRQeKe1p3"
      }
    },
    {
      "cell_type": "code",
      "execution_count": null,
      "metadata": {
        "id": "2KzFIzTRepaH"
      },
      "outputs": [],
      "source": []
    },
    {
      "cell_type": "markdown",
      "source": [
        "## Context of the dataset\n",
        "\n",
        "### 1. The dataset is consisted of records corresponding to medical events.\n",
        "### 2. Each medical event is uniquely identified by `MedicalClaim`.\n",
        "### 3. A given medical event might involve several medical procedures.\n",
        "### 4. Each medical procedure is uniquely identified by `ClaimItem`\n",
        "### 5. A given medical procedure is characterized by `PrincipalDiagnosisDesc`,`PrincipalDiagnosis`,`RevenueCodeDesc`, `RevenueCode`, `TypeFlag` and `TotalExpenses`\n",
        "\n",
        "### 6. Each medical procedure involves: `MemberName`,`MemberID`,`County`,`HospitalName`, `HospitalType`, `StartDate`,`EndDate`\n"
      ],
      "metadata": {
        "id": "u_K5MTPJfKdI"
      }
    },
    {
      "cell_type": "markdown",
      "source": [
        "## 1. Library Import"
      ],
      "metadata": {
        "id": "t5EaaJTIkwji"
      }
    },
    {
      "cell_type": "code",
      "source": [
        "import pandas as pd\n",
        "import warnings\n",
        "import numpy as np\n",
        "import seaborn as sns\n",
        "from matplotlib import pyplot as plt"
      ],
      "metadata": {
        "id": "1sjvyToWfNvt"
      },
      "execution_count": 1,
      "outputs": []
    },
    {
      "cell_type": "code",
      "source": [
        "warnings.simplefilter('ignore')"
      ],
      "metadata": {
        "id": "1aoBmtwNv937"
      },
      "execution_count": 2,
      "outputs": []
    },
    {
      "cell_type": "markdown",
      "source": [
        "## 2. Data loading and DataFrame creation"
      ],
      "metadata": {
        "id": "xzdodfhZkq7J"
      }
    },
    {
      "cell_type": "code",
      "source": [
        "HealthCareDataSet=pd.read_csv(\"https://github.com/thousandoaks/Python4DS-I/raw/main/datasets/HealthcareDataset_PublicRelease.csv\",sep=',',parse_dates=['StartDate','EndDate','BirthDate'])"
      ],
      "metadata": {
        "id": "fpFEe3-TfPYy"
      },
      "execution_count": 3,
      "outputs": []
    },
    {
      "cell_type": "code",
      "source": [
        "HealthCareDataSet.head(3)"
      ],
      "metadata": {
        "colab": {
          "base_uri": "https://localhost:8080/",
          "height": 320
        },
        "id": "xm6DfesafcOA",
        "outputId": "d8f21a13-68fd-4767-e417-2d5c05a3092f"
      },
      "execution_count": 4,
      "outputs": [
        {
          "output_type": "execute_result",
          "data": {
            "text/plain": [
              "       Id MemberName  MemberID    County      MedicalClaim  ClaimItem  \\\n",
              "0  634363   e659f3f4  6a380a28  6f943458  c1e3436737c77899         18   \n",
              "1  634364   e659f3f4  6a380a28  6f943458  c1e3436737c77899         21   \n",
              "2  634387   e659f3f4  6a380a28  6f943458  c1e3436737c77899         10   \n",
              "\n",
              "  HospitalName HospitalType  StartDate    EndDate PrincipalDiagnosisDesc  \\\n",
              "0     04b77561     HOSPITAL 2020-01-08 2020-01-08        Epigastric pain   \n",
              "1     04b77561     HOSPITAL 2020-01-08 2020-01-08        Epigastric pain   \n",
              "2     04b77561     HOSPITAL 2020-01-08 2020-01-08        Epigastric pain   \n",
              "\n",
              "  PrincipalDiagnosis                                    RevenueCodeDesc  \\\n",
              "0             R10.13  DRUGS REQUIRE SPECIFIC ID: DRUGS REQUIRING DET...   \n",
              "1             R10.13  DRUGS REQUIRE SPECIFIC ID: DRUGS REQUIRING DET...   \n",
              "2             R10.13       LABORATORY - CLINICAL DIAGNOSTIC: HEMATOLOGY   \n",
              "\n",
              "   RevenueCode TypeFlag  BirthDate  TotalExpenses  \n",
              "0        636.0       ER 1967-05-13         15.148  \n",
              "1        636.0       ER 1967-05-13          3.073  \n",
              "2        305.0       ER 1967-05-13        123.900  "
            ],
            "text/html": [
              "\n",
              "  <div id=\"df-d96ab191-3525-4c83-9f79-b71ed98a88a4\" class=\"colab-df-container\">\n",
              "    <div>\n",
              "<style scoped>\n",
              "    .dataframe tbody tr th:only-of-type {\n",
              "        vertical-align: middle;\n",
              "    }\n",
              "\n",
              "    .dataframe tbody tr th {\n",
              "        vertical-align: top;\n",
              "    }\n",
              "\n",
              "    .dataframe thead th {\n",
              "        text-align: right;\n",
              "    }\n",
              "</style>\n",
              "<table border=\"1\" class=\"dataframe\">\n",
              "  <thead>\n",
              "    <tr style=\"text-align: right;\">\n",
              "      <th></th>\n",
              "      <th>Id</th>\n",
              "      <th>MemberName</th>\n",
              "      <th>MemberID</th>\n",
              "      <th>County</th>\n",
              "      <th>MedicalClaim</th>\n",
              "      <th>ClaimItem</th>\n",
              "      <th>HospitalName</th>\n",
              "      <th>HospitalType</th>\n",
              "      <th>StartDate</th>\n",
              "      <th>EndDate</th>\n",
              "      <th>PrincipalDiagnosisDesc</th>\n",
              "      <th>PrincipalDiagnosis</th>\n",
              "      <th>RevenueCodeDesc</th>\n",
              "      <th>RevenueCode</th>\n",
              "      <th>TypeFlag</th>\n",
              "      <th>BirthDate</th>\n",
              "      <th>TotalExpenses</th>\n",
              "    </tr>\n",
              "  </thead>\n",
              "  <tbody>\n",
              "    <tr>\n",
              "      <th>0</th>\n",
              "      <td>634363</td>\n",
              "      <td>e659f3f4</td>\n",
              "      <td>6a380a28</td>\n",
              "      <td>6f943458</td>\n",
              "      <td>c1e3436737c77899</td>\n",
              "      <td>18</td>\n",
              "      <td>04b77561</td>\n",
              "      <td>HOSPITAL</td>\n",
              "      <td>2020-01-08</td>\n",
              "      <td>2020-01-08</td>\n",
              "      <td>Epigastric pain</td>\n",
              "      <td>R10.13</td>\n",
              "      <td>DRUGS REQUIRE SPECIFIC ID: DRUGS REQUIRING DET...</td>\n",
              "      <td>636.0</td>\n",
              "      <td>ER</td>\n",
              "      <td>1967-05-13</td>\n",
              "      <td>15.148</td>\n",
              "    </tr>\n",
              "    <tr>\n",
              "      <th>1</th>\n",
              "      <td>634364</td>\n",
              "      <td>e659f3f4</td>\n",
              "      <td>6a380a28</td>\n",
              "      <td>6f943458</td>\n",
              "      <td>c1e3436737c77899</td>\n",
              "      <td>21</td>\n",
              "      <td>04b77561</td>\n",
              "      <td>HOSPITAL</td>\n",
              "      <td>2020-01-08</td>\n",
              "      <td>2020-01-08</td>\n",
              "      <td>Epigastric pain</td>\n",
              "      <td>R10.13</td>\n",
              "      <td>DRUGS REQUIRE SPECIFIC ID: DRUGS REQUIRING DET...</td>\n",
              "      <td>636.0</td>\n",
              "      <td>ER</td>\n",
              "      <td>1967-05-13</td>\n",
              "      <td>3.073</td>\n",
              "    </tr>\n",
              "    <tr>\n",
              "      <th>2</th>\n",
              "      <td>634387</td>\n",
              "      <td>e659f3f4</td>\n",
              "      <td>6a380a28</td>\n",
              "      <td>6f943458</td>\n",
              "      <td>c1e3436737c77899</td>\n",
              "      <td>10</td>\n",
              "      <td>04b77561</td>\n",
              "      <td>HOSPITAL</td>\n",
              "      <td>2020-01-08</td>\n",
              "      <td>2020-01-08</td>\n",
              "      <td>Epigastric pain</td>\n",
              "      <td>R10.13</td>\n",
              "      <td>LABORATORY - CLINICAL DIAGNOSTIC: HEMATOLOGY</td>\n",
              "      <td>305.0</td>\n",
              "      <td>ER</td>\n",
              "      <td>1967-05-13</td>\n",
              "      <td>123.900</td>\n",
              "    </tr>\n",
              "  </tbody>\n",
              "</table>\n",
              "</div>\n",
              "    <div class=\"colab-df-buttons\">\n",
              "\n",
              "  <div class=\"colab-df-container\">\n",
              "    <button class=\"colab-df-convert\" onclick=\"convertToInteractive('df-d96ab191-3525-4c83-9f79-b71ed98a88a4')\"\n",
              "            title=\"Convert this dataframe to an interactive table.\"\n",
              "            style=\"display:none;\">\n",
              "\n",
              "  <svg xmlns=\"http://www.w3.org/2000/svg\" height=\"24px\" viewBox=\"0 -960 960 960\">\n",
              "    <path d=\"M120-120v-720h720v720H120Zm60-500h600v-160H180v160Zm220 220h160v-160H400v160Zm0 220h160v-160H400v160ZM180-400h160v-160H180v160Zm440 0h160v-160H620v160ZM180-180h160v-160H180v160Zm440 0h160v-160H620v160Z\"/>\n",
              "  </svg>\n",
              "    </button>\n",
              "\n",
              "  <style>\n",
              "    .colab-df-container {\n",
              "      display:flex;\n",
              "      gap: 12px;\n",
              "    }\n",
              "\n",
              "    .colab-df-convert {\n",
              "      background-color: #E8F0FE;\n",
              "      border: none;\n",
              "      border-radius: 50%;\n",
              "      cursor: pointer;\n",
              "      display: none;\n",
              "      fill: #1967D2;\n",
              "      height: 32px;\n",
              "      padding: 0 0 0 0;\n",
              "      width: 32px;\n",
              "    }\n",
              "\n",
              "    .colab-df-convert:hover {\n",
              "      background-color: #E2EBFA;\n",
              "      box-shadow: 0px 1px 2px rgba(60, 64, 67, 0.3), 0px 1px 3px 1px rgba(60, 64, 67, 0.15);\n",
              "      fill: #174EA6;\n",
              "    }\n",
              "\n",
              "    .colab-df-buttons div {\n",
              "      margin-bottom: 4px;\n",
              "    }\n",
              "\n",
              "    [theme=dark] .colab-df-convert {\n",
              "      background-color: #3B4455;\n",
              "      fill: #D2E3FC;\n",
              "    }\n",
              "\n",
              "    [theme=dark] .colab-df-convert:hover {\n",
              "      background-color: #434B5C;\n",
              "      box-shadow: 0px 1px 3px 1px rgba(0, 0, 0, 0.15);\n",
              "      filter: drop-shadow(0px 1px 2px rgba(0, 0, 0, 0.3));\n",
              "      fill: #FFFFFF;\n",
              "    }\n",
              "  </style>\n",
              "\n",
              "    <script>\n",
              "      const buttonEl =\n",
              "        document.querySelector('#df-d96ab191-3525-4c83-9f79-b71ed98a88a4 button.colab-df-convert');\n",
              "      buttonEl.style.display =\n",
              "        google.colab.kernel.accessAllowed ? 'block' : 'none';\n",
              "\n",
              "      async function convertToInteractive(key) {\n",
              "        const element = document.querySelector('#df-d96ab191-3525-4c83-9f79-b71ed98a88a4');\n",
              "        const dataTable =\n",
              "          await google.colab.kernel.invokeFunction('convertToInteractive',\n",
              "                                                    [key], {});\n",
              "        if (!dataTable) return;\n",
              "\n",
              "        const docLinkHtml = 'Like what you see? Visit the ' +\n",
              "          '<a target=\"_blank\" href=https://colab.research.google.com/notebooks/data_table.ipynb>data table notebook</a>'\n",
              "          + ' to learn more about interactive tables.';\n",
              "        element.innerHTML = '';\n",
              "        dataTable['output_type'] = 'display_data';\n",
              "        await google.colab.output.renderOutput(dataTable, element);\n",
              "        const docLink = document.createElement('div');\n",
              "        docLink.innerHTML = docLinkHtml;\n",
              "        element.appendChild(docLink);\n",
              "      }\n",
              "    </script>\n",
              "  </div>\n",
              "\n",
              "\n",
              "<div id=\"df-93afec33-91d3-4622-8e88-67eb002ab45d\">\n",
              "  <button class=\"colab-df-quickchart\" onclick=\"quickchart('df-93afec33-91d3-4622-8e88-67eb002ab45d')\"\n",
              "            title=\"Suggest charts\"\n",
              "            style=\"display:none;\">\n",
              "\n",
              "<svg xmlns=\"http://www.w3.org/2000/svg\" height=\"24px\"viewBox=\"0 0 24 24\"\n",
              "     width=\"24px\">\n",
              "    <g>\n",
              "        <path d=\"M19 3H5c-1.1 0-2 .9-2 2v14c0 1.1.9 2 2 2h14c1.1 0 2-.9 2-2V5c0-1.1-.9-2-2-2zM9 17H7v-7h2v7zm4 0h-2V7h2v10zm4 0h-2v-4h2v4z\"/>\n",
              "    </g>\n",
              "</svg>\n",
              "  </button>\n",
              "\n",
              "<style>\n",
              "  .colab-df-quickchart {\n",
              "      --bg-color: #E8F0FE;\n",
              "      --fill-color: #1967D2;\n",
              "      --hover-bg-color: #E2EBFA;\n",
              "      --hover-fill-color: #174EA6;\n",
              "      --disabled-fill-color: #AAA;\n",
              "      --disabled-bg-color: #DDD;\n",
              "  }\n",
              "\n",
              "  [theme=dark] .colab-df-quickchart {\n",
              "      --bg-color: #3B4455;\n",
              "      --fill-color: #D2E3FC;\n",
              "      --hover-bg-color: #434B5C;\n",
              "      --hover-fill-color: #FFFFFF;\n",
              "      --disabled-bg-color: #3B4455;\n",
              "      --disabled-fill-color: #666;\n",
              "  }\n",
              "\n",
              "  .colab-df-quickchart {\n",
              "    background-color: var(--bg-color);\n",
              "    border: none;\n",
              "    border-radius: 50%;\n",
              "    cursor: pointer;\n",
              "    display: none;\n",
              "    fill: var(--fill-color);\n",
              "    height: 32px;\n",
              "    padding: 0;\n",
              "    width: 32px;\n",
              "  }\n",
              "\n",
              "  .colab-df-quickchart:hover {\n",
              "    background-color: var(--hover-bg-color);\n",
              "    box-shadow: 0 1px 2px rgba(60, 64, 67, 0.3), 0 1px 3px 1px rgba(60, 64, 67, 0.15);\n",
              "    fill: var(--button-hover-fill-color);\n",
              "  }\n",
              "\n",
              "  .colab-df-quickchart-complete:disabled,\n",
              "  .colab-df-quickchart-complete:disabled:hover {\n",
              "    background-color: var(--disabled-bg-color);\n",
              "    fill: var(--disabled-fill-color);\n",
              "    box-shadow: none;\n",
              "  }\n",
              "\n",
              "  .colab-df-spinner {\n",
              "    border: 2px solid var(--fill-color);\n",
              "    border-color: transparent;\n",
              "    border-bottom-color: var(--fill-color);\n",
              "    animation:\n",
              "      spin 1s steps(1) infinite;\n",
              "  }\n",
              "\n",
              "  @keyframes spin {\n",
              "    0% {\n",
              "      border-color: transparent;\n",
              "      border-bottom-color: var(--fill-color);\n",
              "      border-left-color: var(--fill-color);\n",
              "    }\n",
              "    20% {\n",
              "      border-color: transparent;\n",
              "      border-left-color: var(--fill-color);\n",
              "      border-top-color: var(--fill-color);\n",
              "    }\n",
              "    30% {\n",
              "      border-color: transparent;\n",
              "      border-left-color: var(--fill-color);\n",
              "      border-top-color: var(--fill-color);\n",
              "      border-right-color: var(--fill-color);\n",
              "    }\n",
              "    40% {\n",
              "      border-color: transparent;\n",
              "      border-right-color: var(--fill-color);\n",
              "      border-top-color: var(--fill-color);\n",
              "    }\n",
              "    60% {\n",
              "      border-color: transparent;\n",
              "      border-right-color: var(--fill-color);\n",
              "    }\n",
              "    80% {\n",
              "      border-color: transparent;\n",
              "      border-right-color: var(--fill-color);\n",
              "      border-bottom-color: var(--fill-color);\n",
              "    }\n",
              "    90% {\n",
              "      border-color: transparent;\n",
              "      border-bottom-color: var(--fill-color);\n",
              "    }\n",
              "  }\n",
              "</style>\n",
              "\n",
              "  <script>\n",
              "    async function quickchart(key) {\n",
              "      const quickchartButtonEl =\n",
              "        document.querySelector('#' + key + ' button');\n",
              "      quickchartButtonEl.disabled = true;  // To prevent multiple clicks.\n",
              "      quickchartButtonEl.classList.add('colab-df-spinner');\n",
              "      try {\n",
              "        const charts = await google.colab.kernel.invokeFunction(\n",
              "            'suggestCharts', [key], {});\n",
              "      } catch (error) {\n",
              "        console.error('Error during call to suggestCharts:', error);\n",
              "      }\n",
              "      quickchartButtonEl.classList.remove('colab-df-spinner');\n",
              "      quickchartButtonEl.classList.add('colab-df-quickchart-complete');\n",
              "    }\n",
              "    (() => {\n",
              "      let quickchartButtonEl =\n",
              "        document.querySelector('#df-93afec33-91d3-4622-8e88-67eb002ab45d button');\n",
              "      quickchartButtonEl.style.display =\n",
              "        google.colab.kernel.accessAllowed ? 'block' : 'none';\n",
              "    })();\n",
              "  </script>\n",
              "</div>\n",
              "\n",
              "    </div>\n",
              "  </div>\n"
            ],
            "application/vnd.google.colaboratory.intrinsic+json": {
              "type": "dataframe",
              "variable_name": "HealthCareDataSet",
              "summary": "{\n  \"name\": \"HealthCareDataSet\",\n  \"rows\": 52563,\n  \"fields\": [\n    {\n      \"column\": \"Id\",\n      \"properties\": {\n        \"dtype\": \"number\",\n        \"std\": 30913,\n        \"min\": 634363,\n        \"max\": 741736,\n        \"num_unique_values\": 52563,\n        \"samples\": [\n          717055,\n          672046,\n          641484\n        ],\n        \"semantic_type\": \"\",\n        \"description\": \"\"\n      }\n    },\n    {\n      \"column\": \"MemberName\",\n      \"properties\": {\n        \"dtype\": \"category\",\n        \"num_unique_values\": 1753,\n        \"samples\": [\n          \"0a3c2ad9\",\n          \"48eb7f89\",\n          \"980f6ed4\"\n        ],\n        \"semantic_type\": \"\",\n        \"description\": \"\"\n      }\n    },\n    {\n      \"column\": \"MemberID\",\n      \"properties\": {\n        \"dtype\": \"category\",\n        \"num_unique_values\": 1757,\n        \"samples\": [\n          \"d3f3ebbc\",\n          \"5f609d45\",\n          \"477e3256\"\n        ],\n        \"semantic_type\": \"\",\n        \"description\": \"\"\n      }\n    },\n    {\n      \"column\": \"County\",\n      \"properties\": {\n        \"dtype\": \"category\",\n        \"num_unique_values\": 19,\n        \"samples\": [\n          \"6f943458\",\n          \"02af982d\",\n          \"adb3fb00\"\n        ],\n        \"semantic_type\": \"\",\n        \"description\": \"\"\n      }\n    },\n    {\n      \"column\": \"MedicalClaim\",\n      \"properties\": {\n        \"dtype\": \"category\",\n        \"num_unique_values\": 3361,\n        \"samples\": [\n          \"79032eefd1feeb8e\",\n          \"f3f81c5ebf62ed91\",\n          \"48c67d5441f9ca6d\"\n        ],\n        \"semantic_type\": \"\",\n        \"description\": \"\"\n      }\n    },\n    {\n      \"column\": \"ClaimItem\",\n      \"properties\": {\n        \"dtype\": \"number\",\n        \"std\": 10,\n        \"min\": 1,\n        \"max\": 127,\n        \"num_unique_values\": 127,\n        \"samples\": [\n          40,\n          111,\n          83\n        ],\n        \"semantic_type\": \"\",\n        \"description\": \"\"\n      }\n    },\n    {\n      \"column\": \"HospitalName\",\n      \"properties\": {\n        \"dtype\": \"category\",\n        \"num_unique_values\": 148,\n        \"samples\": [\n          \"2c2f104d\",\n          \"0a075ac9\",\n          \"d691f78d\"\n        ],\n        \"semantic_type\": \"\",\n        \"description\": \"\"\n      }\n    },\n    {\n      \"column\": \"HospitalType\",\n      \"properties\": {\n        \"dtype\": \"category\",\n        \"num_unique_values\": 3,\n        \"samples\": [\n          \"HOSPITAL\",\n          \"REHABILITATION CENTER\",\n          \"HOSPITAL LONG TERM ACUTE\"\n        ],\n        \"semantic_type\": \"\",\n        \"description\": \"\"\n      }\n    },\n    {\n      \"column\": \"StartDate\",\n      \"properties\": {\n        \"dtype\": \"date\",\n        \"min\": \"2020-01-01 00:00:00\",\n        \"max\": \"2020-12-31 00:00:00\",\n        \"num_unique_values\": 366,\n        \"samples\": [\n          \"2020-07-25 00:00:00\",\n          \"2020-02-28 00:00:00\",\n          \"2020-01-20 00:00:00\"\n        ],\n        \"semantic_type\": \"\",\n        \"description\": \"\"\n      }\n    },\n    {\n      \"column\": \"EndDate\",\n      \"properties\": {\n        \"dtype\": \"date\",\n        \"min\": \"2020-01-01 00:00:00\",\n        \"max\": \"2020-12-31 00:00:00\",\n        \"num_unique_values\": 366,\n        \"samples\": [\n          \"2020-07-17 00:00:00\",\n          \"2020-02-03 00:00:00\",\n          \"2020-01-29 00:00:00\"\n        ],\n        \"semantic_type\": \"\",\n        \"description\": \"\"\n      }\n    },\n    {\n      \"column\": \"PrincipalDiagnosisDesc\",\n      \"properties\": {\n        \"dtype\": \"category\",\n        \"num_unique_values\": 798,\n        \"samples\": [\n          \"Biliary acute pancreatiti\",\n          \"Calculus of ureter\",\n          \"Major depressive disorder\"\n        ],\n        \"semantic_type\": \"\",\n        \"description\": \"\"\n      }\n    },\n    {\n      \"column\": \"PrincipalDiagnosis\",\n      \"properties\": {\n        \"dtype\": \"category\",\n        \"num_unique_values\": 1037,\n        \"samples\": [\n          \"S52.612A\",\n          \"R33.8\",\n          \"I35.2\"\n        ],\n        \"semantic_type\": \"\",\n        \"description\": \"\"\n      }\n    },\n    {\n      \"column\": \"RevenueCodeDesc\",\n      \"properties\": {\n        \"dtype\": \"category\",\n        \"num_unique_values\": 131,\n        \"samples\": [\n          \"MEDICAL/SURGICAL SUPPLIES\",\n          \"MAGNETIC RESONANCE TECH. (MRT)\",\n          \"MEDICAL/SURGICAL/GYN\"\n        ],\n        \"semantic_type\": \"\",\n        \"description\": \"\"\n      }\n    },\n    {\n      \"column\": \"RevenueCode\",\n      \"properties\": {\n        \"dtype\": \"number\",\n        \"std\": 158.55173341143333,\n        \"min\": 24.0,\n        \"max\": 942.0,\n        \"num_unique_values\": 136,\n        \"samples\": [\n          900.0,\n          420.0,\n          444.0\n        ],\n        \"semantic_type\": \"\",\n        \"description\": \"\"\n      }\n    },\n    {\n      \"column\": \"TypeFlag\",\n      \"properties\": {\n        \"dtype\": \"category\",\n        \"num_unique_values\": 2,\n        \"samples\": [\n          \"INP\",\n          \"ER\"\n        ],\n        \"semantic_type\": \"\",\n        \"description\": \"\"\n      }\n    },\n    {\n      \"column\": \"BirthDate\",\n      \"properties\": {\n        \"dtype\": \"date\",\n        \"min\": \"1921-01-18 00:00:00\",\n        \"max\": \"1999-08-09 00:00:00\",\n        \"num_unique_values\": 1632,\n        \"samples\": [\n          \"1949-05-31 00:00:00\",\n          \"1952-03-21 00:00:00\"\n        ],\n        \"semantic_type\": \"\",\n        \"description\": \"\"\n      }\n    },\n    {\n      \"column\": \"TotalExpenses\",\n      \"properties\": {\n        \"dtype\": \"number\",\n        \"std\": 8292.178928308316,\n        \"min\": 0.0,\n        \"max\": 504533.4,\n        \"num_unique_values\": 18853,\n        \"samples\": [\n          72417.1,\n          196.7\n        ],\n        \"semantic_type\": \"\",\n        \"description\": \"\"\n      }\n    }\n  ]\n}"
            }
          },
          "metadata": {},
          "execution_count": 4
        }
      ]
    },
    {
      "cell_type": "code",
      "source": [
        "HealthCareDataSet.info()"
      ],
      "metadata": {
        "colab": {
          "base_uri": "https://localhost:8080/"
        },
        "id": "UKJFk_S_lBgz",
        "outputId": "189cd60e-dbeb-4f04-9d42-5132d3c5105e"
      },
      "execution_count": 5,
      "outputs": [
        {
          "output_type": "stream",
          "name": "stdout",
          "text": [
            "<class 'pandas.core.frame.DataFrame'>\n",
            "RangeIndex: 52563 entries, 0 to 52562\n",
            "Data columns (total 17 columns):\n",
            " #   Column                  Non-Null Count  Dtype         \n",
            "---  ------                  --------------  -----         \n",
            " 0   Id                      52563 non-null  int64         \n",
            " 1   MemberName              52563 non-null  object        \n",
            " 2   MemberID                52563 non-null  object        \n",
            " 3   County                  52563 non-null  object        \n",
            " 4   MedicalClaim            52563 non-null  object        \n",
            " 5   ClaimItem               52563 non-null  int64         \n",
            " 6   HospitalName            52563 non-null  object        \n",
            " 7   HospitalType            52563 non-null  object        \n",
            " 8   StartDate               52563 non-null  datetime64[ns]\n",
            " 9   EndDate                 52563 non-null  datetime64[ns]\n",
            " 10  PrincipalDiagnosisDesc  52563 non-null  object        \n",
            " 11  PrincipalDiagnosis      52563 non-null  object        \n",
            " 12  RevenueCodeDesc         52561 non-null  object        \n",
            " 13  RevenueCode             52563 non-null  float64       \n",
            " 14  TypeFlag                52563 non-null  object        \n",
            " 15  BirthDate               52563 non-null  datetime64[ns]\n",
            " 16  TotalExpenses           52563 non-null  float64       \n",
            "dtypes: datetime64[ns](3), float64(2), int64(2), object(10)\n",
            "memory usage: 6.8+ MB\n"
          ]
        }
      ]
    },
    {
      "cell_type": "code",
      "source": [],
      "metadata": {
        "id": "HY8dNT4YlEDa"
      },
      "execution_count": 5,
      "outputs": []
    },
    {
      "cell_type": "code",
      "source": [],
      "metadata": {
        "id": "Z3WlAzdEN43g"
      },
      "execution_count": 5,
      "outputs": []
    },
    {
      "cell_type": "markdown",
      "source": [
        "## 3. Regular functions\n",
        "### Let's define and apply some functions to transform our healthcare dataset"
      ],
      "metadata": {
        "id": "Ukvaf1c_6tPi"
      }
    },
    {
      "cell_type": "markdown",
      "source": [
        "### 3.1. Function to compute the number of hospitalization days"
      ],
      "metadata": {
        "id": "lQfeKVMc8TQO"
      }
    },
    {
      "cell_type": "code",
      "source": [
        "def hospitalization_days(row):\n",
        "    start=row['StartDate']\n",
        "    end=row['EndDate']\n",
        "    return (end-start).days\n",
        "\n"
      ],
      "metadata": {
        "id": "rm-oRPWlPQHQ"
      },
      "execution_count": 6,
      "outputs": []
    },
    {
      "cell_type": "code",
      "source": [
        "hospitalization_days(HealthCareDataSet[['StartDate','EndDate']].loc[300])"
      ],
      "metadata": {
        "colab": {
          "base_uri": "https://localhost:8080/"
        },
        "id": "C3JFnMHnPQFA",
        "outputId": "05114195-4f5d-4837-d91b-62fe257043bc"
      },
      "execution_count": 7,
      "outputs": [
        {
          "output_type": "execute_result",
          "data": {
            "text/plain": [
              "3"
            ]
          },
          "metadata": {},
          "execution_count": 7
        }
      ]
    },
    {
      "cell_type": "code",
      "source": [
        "hospitalization_days(HealthCareDataSet[['StartDate','EndDate']].loc[0])"
      ],
      "metadata": {
        "colab": {
          "base_uri": "https://localhost:8080/"
        },
        "id": "MAxHzn8kRCDK",
        "outputId": "d62c27f3-24fa-4845-b205-15d378715631"
      },
      "execution_count": 8,
      "outputs": [
        {
          "output_type": "execute_result",
          "data": {
            "text/plain": [
              "0"
            ]
          },
          "metadata": {},
          "execution_count": 8
        }
      ]
    },
    {
      "cell_type": "code",
      "source": [
        "HealthCareDataSet[['StartDate','EndDate']].apply(hospitalization_days,axis=1)"
      ],
      "metadata": {
        "colab": {
          "base_uri": "https://localhost:8080/",
          "height": 458
        },
        "id": "nnqCpu2kPQCu",
        "outputId": "92b6f50e-492e-44e5-f651-bc89f8862ac6"
      },
      "execution_count": 9,
      "outputs": [
        {
          "output_type": "execute_result",
          "data": {
            "text/plain": [
              "0        0\n",
              "1        0\n",
              "2        0\n",
              "3        0\n",
              "4        0\n",
              "        ..\n",
              "52558    7\n",
              "52559    4\n",
              "52560    4\n",
              "52561    4\n",
              "52562    4\n",
              "Length: 52563, dtype: int64"
            ],
            "text/html": [
              "<div>\n",
              "<style scoped>\n",
              "    .dataframe tbody tr th:only-of-type {\n",
              "        vertical-align: middle;\n",
              "    }\n",
              "\n",
              "    .dataframe tbody tr th {\n",
              "        vertical-align: top;\n",
              "    }\n",
              "\n",
              "    .dataframe thead th {\n",
              "        text-align: right;\n",
              "    }\n",
              "</style>\n",
              "<table border=\"1\" class=\"dataframe\">\n",
              "  <thead>\n",
              "    <tr style=\"text-align: right;\">\n",
              "      <th></th>\n",
              "      <th>0</th>\n",
              "    </tr>\n",
              "  </thead>\n",
              "  <tbody>\n",
              "    <tr>\n",
              "      <th>0</th>\n",
              "      <td>0</td>\n",
              "    </tr>\n",
              "    <tr>\n",
              "      <th>1</th>\n",
              "      <td>0</td>\n",
              "    </tr>\n",
              "    <tr>\n",
              "      <th>2</th>\n",
              "      <td>0</td>\n",
              "    </tr>\n",
              "    <tr>\n",
              "      <th>3</th>\n",
              "      <td>0</td>\n",
              "    </tr>\n",
              "    <tr>\n",
              "      <th>4</th>\n",
              "      <td>0</td>\n",
              "    </tr>\n",
              "    <tr>\n",
              "      <th>...</th>\n",
              "      <td>...</td>\n",
              "    </tr>\n",
              "    <tr>\n",
              "      <th>52558</th>\n",
              "      <td>7</td>\n",
              "    </tr>\n",
              "    <tr>\n",
              "      <th>52559</th>\n",
              "      <td>4</td>\n",
              "    </tr>\n",
              "    <tr>\n",
              "      <th>52560</th>\n",
              "      <td>4</td>\n",
              "    </tr>\n",
              "    <tr>\n",
              "      <th>52561</th>\n",
              "      <td>4</td>\n",
              "    </tr>\n",
              "    <tr>\n",
              "      <th>52562</th>\n",
              "      <td>4</td>\n",
              "    </tr>\n",
              "  </tbody>\n",
              "</table>\n",
              "<p>52563 rows × 1 columns</p>\n",
              "</div><br><label><b>dtype:</b> int64</label>"
            ]
          },
          "metadata": {},
          "execution_count": 9
        }
      ]
    },
    {
      "cell_type": "markdown",
      "source": [
        "### 3.2. Function to print patient's medical data"
      ],
      "metadata": {
        "id": "N1guzfN3SbqY"
      }
    },
    {
      "cell_type": "code",
      "source": [
        "def dataprinter(row):\n",
        "   internalName=row['MemberName']\n",
        "   internalId=row['MemberID']\n",
        "   internalDiagnosisDesc=row['PrincipalDiagnosisDesc']\n",
        "   internalDiagnosis=row['PrincipalDiagnosis']\n",
        "   outputString=f\" Patient {internalName} with ID {internalId} was diagnosed with {internalDiagnosisDesc} ICD-10 code {internalDiagnosis}\"\n",
        "   return(outputString)"
      ],
      "metadata": {
        "id": "PG6w5cflPQAd"
      },
      "execution_count": 10,
      "outputs": []
    },
    {
      "cell_type": "code",
      "source": [
        "pd.options.display.max_colwidth = 100\n",
        "HealthCareDataSet.apply(dataprinter,axis=1)"
      ],
      "metadata": {
        "colab": {
          "base_uri": "https://localhost:8080/",
          "height": 458
        },
        "id": "KDvs7_pkPP-A",
        "outputId": "91530faf-ede0-43b8-fa36-ce74ccec6562"
      },
      "execution_count": 11,
      "outputs": [
        {
          "output_type": "execute_result",
          "data": {
            "text/plain": [
              "0                    Patient e659f3f4 with ID 6a380a28 was diagnosed with Epigastric pain ICD-10 code R10.13\n",
              "1                    Patient e659f3f4 with ID 6a380a28 was diagnosed with Epigastric pain ICD-10 code R10.13\n",
              "2                    Patient e659f3f4 with ID 6a380a28 was diagnosed with Epigastric pain ICD-10 code R10.13\n",
              "3                    Patient e659f3f4 with ID 6a380a28 was diagnosed with Epigastric pain ICD-10 code R10.13\n",
              "4                    Patient e659f3f4 with ID 6a380a28 was diagnosed with Epigastric pain ICD-10 code R10.13\n",
              "                                                        ...                                                 \n",
              "52558     Patient ff90a52f with ID 4ed7db9f was diagnosed with Traumatic subarachnoid he ICD-10 code S06....\n",
              "52559       Patient f90fcde2 with ID c88e4212 was diagnosed with Iron deficiency anemia se ICD-10 code D50.0\n",
              "52560       Patient f90fcde2 with ID c88e4212 was diagnosed with Iron deficiency anemia se ICD-10 code D50.0\n",
              "52561       Patient f90fcde2 with ID c88e4212 was diagnosed with Iron deficiency anemia se ICD-10 code D50.0\n",
              "52562       Patient f90fcde2 with ID c88e4212 was diagnosed with Iron deficiency anemia se ICD-10 code D50.0\n",
              "Length: 52563, dtype: object"
            ],
            "text/html": [
              "<div>\n",
              "<style scoped>\n",
              "    .dataframe tbody tr th:only-of-type {\n",
              "        vertical-align: middle;\n",
              "    }\n",
              "\n",
              "    .dataframe tbody tr th {\n",
              "        vertical-align: top;\n",
              "    }\n",
              "\n",
              "    .dataframe thead th {\n",
              "        text-align: right;\n",
              "    }\n",
              "</style>\n",
              "<table border=\"1\" class=\"dataframe\">\n",
              "  <thead>\n",
              "    <tr style=\"text-align: right;\">\n",
              "      <th></th>\n",
              "      <th>0</th>\n",
              "    </tr>\n",
              "  </thead>\n",
              "  <tbody>\n",
              "    <tr>\n",
              "      <th>0</th>\n",
              "      <td>Patient e659f3f4 with ID 6a380a28 was diagnosed with Epigastric pain ICD-10 code R10.13</td>\n",
              "    </tr>\n",
              "    <tr>\n",
              "      <th>1</th>\n",
              "      <td>Patient e659f3f4 with ID 6a380a28 was diagnosed with Epigastric pain ICD-10 code R10.13</td>\n",
              "    </tr>\n",
              "    <tr>\n",
              "      <th>2</th>\n",
              "      <td>Patient e659f3f4 with ID 6a380a28 was diagnosed with Epigastric pain ICD-10 code R10.13</td>\n",
              "    </tr>\n",
              "    <tr>\n",
              "      <th>3</th>\n",
              "      <td>Patient e659f3f4 with ID 6a380a28 was diagnosed with Epigastric pain ICD-10 code R10.13</td>\n",
              "    </tr>\n",
              "    <tr>\n",
              "      <th>4</th>\n",
              "      <td>Patient e659f3f4 with ID 6a380a28 was diagnosed with Epigastric pain ICD-10 code R10.13</td>\n",
              "    </tr>\n",
              "    <tr>\n",
              "      <th>...</th>\n",
              "      <td>...</td>\n",
              "    </tr>\n",
              "    <tr>\n",
              "      <th>52558</th>\n",
              "      <td>Patient ff90a52f with ID 4ed7db9f was diagnosed with Traumatic subarachnoid he ICD-10 code S06....</td>\n",
              "    </tr>\n",
              "    <tr>\n",
              "      <th>52559</th>\n",
              "      <td>Patient f90fcde2 with ID c88e4212 was diagnosed with Iron deficiency anemia se ICD-10 code D50.0</td>\n",
              "    </tr>\n",
              "    <tr>\n",
              "      <th>52560</th>\n",
              "      <td>Patient f90fcde2 with ID c88e4212 was diagnosed with Iron deficiency anemia se ICD-10 code D50.0</td>\n",
              "    </tr>\n",
              "    <tr>\n",
              "      <th>52561</th>\n",
              "      <td>Patient f90fcde2 with ID c88e4212 was diagnosed with Iron deficiency anemia se ICD-10 code D50.0</td>\n",
              "    </tr>\n",
              "    <tr>\n",
              "      <th>52562</th>\n",
              "      <td>Patient f90fcde2 with ID c88e4212 was diagnosed with Iron deficiency anemia se ICD-10 code D50.0</td>\n",
              "    </tr>\n",
              "  </tbody>\n",
              "</table>\n",
              "<p>52563 rows × 1 columns</p>\n",
              "</div><br><label><b>dtype:</b> object</label>"
            ]
          },
          "metadata": {},
          "execution_count": 11
        }
      ]
    },
    {
      "cell_type": "code",
      "source": [],
      "metadata": {
        "id": "U2Rx5PaRPP7h"
      },
      "execution_count": 11,
      "outputs": []
    },
    {
      "cell_type": "markdown",
      "source": [
        "## 4. Lambda functions\n",
        "### Let's define and apply some functions to transform our healthcare dataset"
      ],
      "metadata": {
        "id": "tBacIEWQUq7I"
      }
    },
    {
      "cell_type": "code",
      "source": [],
      "metadata": {
        "id": "T3QVrulePP0i"
      },
      "execution_count": 11,
      "outputs": []
    },
    {
      "cell_type": "markdown",
      "source": [
        "### 4.1. Lambda function to compute the number of hospitalization days"
      ],
      "metadata": {
        "id": "2TKlvLugVF6i"
      }
    },
    {
      "cell_type": "code",
      "source": [
        "# Compute the number of hospitalization days\n",
        "HealthCareDataSet.apply(lambda row: row['EndDate'] - row['StartDate'], axis=1)"
      ],
      "metadata": {
        "colab": {
          "base_uri": "https://localhost:8080/",
          "height": 458
        },
        "id": "Pv3Sl41XPPp0",
        "outputId": "e20a878c-08e6-4d13-e90f-05b6a4c0d73a"
      },
      "execution_count": 12,
      "outputs": [
        {
          "output_type": "execute_result",
          "data": {
            "text/plain": [
              "0       0 days\n",
              "1       0 days\n",
              "2       0 days\n",
              "3       0 days\n",
              "4       0 days\n",
              "         ...  \n",
              "52558   7 days\n",
              "52559   4 days\n",
              "52560   4 days\n",
              "52561   4 days\n",
              "52562   4 days\n",
              "Length: 52563, dtype: timedelta64[ns]"
            ],
            "text/html": [
              "<div>\n",
              "<style scoped>\n",
              "    .dataframe tbody tr th:only-of-type {\n",
              "        vertical-align: middle;\n",
              "    }\n",
              "\n",
              "    .dataframe tbody tr th {\n",
              "        vertical-align: top;\n",
              "    }\n",
              "\n",
              "    .dataframe thead th {\n",
              "        text-align: right;\n",
              "    }\n",
              "</style>\n",
              "<table border=\"1\" class=\"dataframe\">\n",
              "  <thead>\n",
              "    <tr style=\"text-align: right;\">\n",
              "      <th></th>\n",
              "      <th>0</th>\n",
              "    </tr>\n",
              "  </thead>\n",
              "  <tbody>\n",
              "    <tr>\n",
              "      <th>0</th>\n",
              "      <td>0 days</td>\n",
              "    </tr>\n",
              "    <tr>\n",
              "      <th>1</th>\n",
              "      <td>0 days</td>\n",
              "    </tr>\n",
              "    <tr>\n",
              "      <th>2</th>\n",
              "      <td>0 days</td>\n",
              "    </tr>\n",
              "    <tr>\n",
              "      <th>3</th>\n",
              "      <td>0 days</td>\n",
              "    </tr>\n",
              "    <tr>\n",
              "      <th>4</th>\n",
              "      <td>0 days</td>\n",
              "    </tr>\n",
              "    <tr>\n",
              "      <th>...</th>\n",
              "      <td>...</td>\n",
              "    </tr>\n",
              "    <tr>\n",
              "      <th>52558</th>\n",
              "      <td>7 days</td>\n",
              "    </tr>\n",
              "    <tr>\n",
              "      <th>52559</th>\n",
              "      <td>4 days</td>\n",
              "    </tr>\n",
              "    <tr>\n",
              "      <th>52560</th>\n",
              "      <td>4 days</td>\n",
              "    </tr>\n",
              "    <tr>\n",
              "      <th>52561</th>\n",
              "      <td>4 days</td>\n",
              "    </tr>\n",
              "    <tr>\n",
              "      <th>52562</th>\n",
              "      <td>4 days</td>\n",
              "    </tr>\n",
              "  </tbody>\n",
              "</table>\n",
              "<p>52563 rows × 1 columns</p>\n",
              "</div><br><label><b>dtype:</b> timedelta64[ns]</label>"
            ]
          },
          "metadata": {},
          "execution_count": 12
        }
      ]
    },
    {
      "cell_type": "markdown",
      "source": [
        "### 4.2. Lambda Function to print patient's medical data"
      ],
      "metadata": {
        "id": "dfLhJ9NPVvym"
      }
    },
    {
      "cell_type": "code",
      "source": [
        "HealthCareDataSet.apply(lambda row: f\" Patient {row['MemberName']} with ID {row['MemberID']} was diagnosed with {row['PrincipalDiagnosisDesc']} ICD-10 code {row['PrincipalDiagnosis']}\",axis=1)"
      ],
      "metadata": {
        "colab": {
          "base_uri": "https://localhost:8080/",
          "height": 458
        },
        "id": "eZlM75r7VqDS",
        "outputId": "37a77024-94ef-4525-91c0-f008ec2832b8"
      },
      "execution_count": 13,
      "outputs": [
        {
          "output_type": "execute_result",
          "data": {
            "text/plain": [
              "0                    Patient e659f3f4 with ID 6a380a28 was diagnosed with Epigastric pain ICD-10 code R10.13\n",
              "1                    Patient e659f3f4 with ID 6a380a28 was diagnosed with Epigastric pain ICD-10 code R10.13\n",
              "2                    Patient e659f3f4 with ID 6a380a28 was diagnosed with Epigastric pain ICD-10 code R10.13\n",
              "3                    Patient e659f3f4 with ID 6a380a28 was diagnosed with Epigastric pain ICD-10 code R10.13\n",
              "4                    Patient e659f3f4 with ID 6a380a28 was diagnosed with Epigastric pain ICD-10 code R10.13\n",
              "                                                        ...                                                 \n",
              "52558     Patient ff90a52f with ID 4ed7db9f was diagnosed with Traumatic subarachnoid he ICD-10 code S06....\n",
              "52559       Patient f90fcde2 with ID c88e4212 was diagnosed with Iron deficiency anemia se ICD-10 code D50.0\n",
              "52560       Patient f90fcde2 with ID c88e4212 was diagnosed with Iron deficiency anemia se ICD-10 code D50.0\n",
              "52561       Patient f90fcde2 with ID c88e4212 was diagnosed with Iron deficiency anemia se ICD-10 code D50.0\n",
              "52562       Patient f90fcde2 with ID c88e4212 was diagnosed with Iron deficiency anemia se ICD-10 code D50.0\n",
              "Length: 52563, dtype: object"
            ],
            "text/html": [
              "<div>\n",
              "<style scoped>\n",
              "    .dataframe tbody tr th:only-of-type {\n",
              "        vertical-align: middle;\n",
              "    }\n",
              "\n",
              "    .dataframe tbody tr th {\n",
              "        vertical-align: top;\n",
              "    }\n",
              "\n",
              "    .dataframe thead th {\n",
              "        text-align: right;\n",
              "    }\n",
              "</style>\n",
              "<table border=\"1\" class=\"dataframe\">\n",
              "  <thead>\n",
              "    <tr style=\"text-align: right;\">\n",
              "      <th></th>\n",
              "      <th>0</th>\n",
              "    </tr>\n",
              "  </thead>\n",
              "  <tbody>\n",
              "    <tr>\n",
              "      <th>0</th>\n",
              "      <td>Patient e659f3f4 with ID 6a380a28 was diagnosed with Epigastric pain ICD-10 code R10.13</td>\n",
              "    </tr>\n",
              "    <tr>\n",
              "      <th>1</th>\n",
              "      <td>Patient e659f3f4 with ID 6a380a28 was diagnosed with Epigastric pain ICD-10 code R10.13</td>\n",
              "    </tr>\n",
              "    <tr>\n",
              "      <th>2</th>\n",
              "      <td>Patient e659f3f4 with ID 6a380a28 was diagnosed with Epigastric pain ICD-10 code R10.13</td>\n",
              "    </tr>\n",
              "    <tr>\n",
              "      <th>3</th>\n",
              "      <td>Patient e659f3f4 with ID 6a380a28 was diagnosed with Epigastric pain ICD-10 code R10.13</td>\n",
              "    </tr>\n",
              "    <tr>\n",
              "      <th>4</th>\n",
              "      <td>Patient e659f3f4 with ID 6a380a28 was diagnosed with Epigastric pain ICD-10 code R10.13</td>\n",
              "    </tr>\n",
              "    <tr>\n",
              "      <th>...</th>\n",
              "      <td>...</td>\n",
              "    </tr>\n",
              "    <tr>\n",
              "      <th>52558</th>\n",
              "      <td>Patient ff90a52f with ID 4ed7db9f was diagnosed with Traumatic subarachnoid he ICD-10 code S06....</td>\n",
              "    </tr>\n",
              "    <tr>\n",
              "      <th>52559</th>\n",
              "      <td>Patient f90fcde2 with ID c88e4212 was diagnosed with Iron deficiency anemia se ICD-10 code D50.0</td>\n",
              "    </tr>\n",
              "    <tr>\n",
              "      <th>52560</th>\n",
              "      <td>Patient f90fcde2 with ID c88e4212 was diagnosed with Iron deficiency anemia se ICD-10 code D50.0</td>\n",
              "    </tr>\n",
              "    <tr>\n",
              "      <th>52561</th>\n",
              "      <td>Patient f90fcde2 with ID c88e4212 was diagnosed with Iron deficiency anemia se ICD-10 code D50.0</td>\n",
              "    </tr>\n",
              "    <tr>\n",
              "      <th>52562</th>\n",
              "      <td>Patient f90fcde2 with ID c88e4212 was diagnosed with Iron deficiency anemia se ICD-10 code D50.0</td>\n",
              "    </tr>\n",
              "  </tbody>\n",
              "</table>\n",
              "<p>52563 rows × 1 columns</p>\n",
              "</div><br><label><b>dtype:</b> object</label>"
            ]
          },
          "metadata": {},
          "execution_count": 13
        }
      ]
    },
    {
      "cell_type": "code",
      "source": [],
      "metadata": {
        "id": "hnbJbQc9W2Da"
      },
      "execution_count": 13,
      "outputs": []
    }
  ]
}