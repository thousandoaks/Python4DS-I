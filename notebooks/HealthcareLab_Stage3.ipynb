{
  "nbformat": 4,
  "nbformat_minor": 0,
  "metadata": {
    "colab": {
      "provenance": [],
      "authorship_tag": "ABX9TyMNWdlCdjgESAccHLdPLOWF"
    },
    "kernelspec": {
      "name": "python3",
      "display_name": "Python 3"
    },
    "language_info": {
      "name": "python"
    }
  },
  "cells": [
    {
      "cell_type": "markdown",
      "source": [
        "# Healthcare Lab (Stage 3)"
      ],
      "metadata": {
        "id": "d_WMo1QVesys"
      }
    },
    {
      "cell_type": "markdown",
      "source": [
        "**Learning Objectives:**\n",
        "  * Practice the application of functions to DataFrames\n",
        "  * Gain exposure to healthcare related DataSets"
      ],
      "metadata": {
        "id": "Ao_VRQeKe1p3"
      }
    },
    {
      "cell_type": "code",
      "execution_count": 39,
      "metadata": {
        "id": "2KzFIzTRepaH"
      },
      "outputs": [],
      "source": []
    },
    {
      "cell_type": "markdown",
      "source": [
        "## Context of the dataset\n",
        "\n",
        "### 1. The dataset is consisted of records corresponding to medical events.\n",
        "### 2. Each medical event is uniquely identified by `MedicalClaim`.\n",
        "### 3. A given medical event might involve several medical procedures.\n",
        "### 4. Each medical procedure is uniquely identified by `ClaimItem`\n",
        "### 5. A given medical procedure is characterized by `PrincipalDiagnosisDesc`,`PrincipalDiagnosis`,`RevenueCodeDesc`, `RevenueCode`, `TypeFlag` and `TotalExpenses`\n",
        "\n",
        "### 6. Each medical procedure involves: `MemberName`,`MemberID`,`County`,`HospitalName`, `HospitalType`, `StartDate`,`EndDate`\n"
      ],
      "metadata": {
        "id": "u_K5MTPJfKdI"
      }
    },
    {
      "cell_type": "markdown",
      "source": [
        "## 1. Library Import"
      ],
      "metadata": {
        "id": "t5EaaJTIkwji"
      }
    },
    {
      "cell_type": "code",
      "source": [
        "import pandas as pd\n",
        "import warnings\n",
        "import numpy as np\n",
        "import seaborn as sns\n",
        "from matplotlib import pyplot as plt"
      ],
      "metadata": {
        "id": "1sjvyToWfNvt"
      },
      "execution_count": 40,
      "outputs": []
    },
    {
      "cell_type": "code",
      "source": [
        "warnings.simplefilter('ignore')"
      ],
      "metadata": {
        "id": "1aoBmtwNv937"
      },
      "execution_count": 41,
      "outputs": []
    },
    {
      "cell_type": "markdown",
      "source": [
        "## 2. Data loading and DataFrame creation"
      ],
      "metadata": {
        "id": "xzdodfhZkq7J"
      }
    },
    {
      "cell_type": "code",
      "source": [
        "HealthCareDataSet=pd.read_csv(\"https://github.com/thousandoaks/Python4DS-I/raw/main/datasets/HealthcareDataset_PublicRelease.csv\",sep=',',parse_dates=['StartDate','EndDate','BirthDate'])"
      ],
      "metadata": {
        "id": "fpFEe3-TfPYy"
      },
      "execution_count": 42,
      "outputs": []
    },
    {
      "cell_type": "code",
      "source": [
        "HealthCareDataSet.head(3)"
      ],
      "metadata": {
        "colab": {
          "base_uri": "https://localhost:8080/",
          "height": 320
        },
        "id": "xm6DfesafcOA",
        "outputId": "0838b6f2-a2a2-44dc-d4fe-c88c0d88c13a"
      },
      "execution_count": 43,
      "outputs": [
        {
          "output_type": "execute_result",
          "data": {
            "text/plain": [
              "       Id MemberName  MemberID    County      MedicalClaim  ClaimItem  \\\n",
              "0  634363   e659f3f4  6a380a28  6f943458  c1e3436737c77899         18   \n",
              "1  634364   e659f3f4  6a380a28  6f943458  c1e3436737c77899         21   \n",
              "2  634387   e659f3f4  6a380a28  6f943458  c1e3436737c77899         10   \n",
              "\n",
              "  HospitalName HospitalType  StartDate    EndDate PrincipalDiagnosisDesc  \\\n",
              "0     04b77561     HOSPITAL 2020-01-08 2020-01-08        Epigastric pain   \n",
              "1     04b77561     HOSPITAL 2020-01-08 2020-01-08        Epigastric pain   \n",
              "2     04b77561     HOSPITAL 2020-01-08 2020-01-08        Epigastric pain   \n",
              "\n",
              "  PrincipalDiagnosis                                    RevenueCodeDesc  \\\n",
              "0             R10.13  DRUGS REQUIRE SPECIFIC ID: DRUGS REQUIRING DET...   \n",
              "1             R10.13  DRUGS REQUIRE SPECIFIC ID: DRUGS REQUIRING DET...   \n",
              "2             R10.13       LABORATORY - CLINICAL DIAGNOSTIC: HEMATOLOGY   \n",
              "\n",
              "   RevenueCode TypeFlag  BirthDate  TotalExpenses  \n",
              "0        636.0       ER 1967-05-13         15.148  \n",
              "1        636.0       ER 1967-05-13          3.073  \n",
              "2        305.0       ER 1967-05-13        123.900  "
            ],
            "text/html": [
              "\n",
              "  <div id=\"df-a4832b68-e001-4afd-8a2e-0055ef79e6d6\" class=\"colab-df-container\">\n",
              "    <div>\n",
              "<style scoped>\n",
              "    .dataframe tbody tr th:only-of-type {\n",
              "        vertical-align: middle;\n",
              "    }\n",
              "\n",
              "    .dataframe tbody tr th {\n",
              "        vertical-align: top;\n",
              "    }\n",
              "\n",
              "    .dataframe thead th {\n",
              "        text-align: right;\n",
              "    }\n",
              "</style>\n",
              "<table border=\"1\" class=\"dataframe\">\n",
              "  <thead>\n",
              "    <tr style=\"text-align: right;\">\n",
              "      <th></th>\n",
              "      <th>Id</th>\n",
              "      <th>MemberName</th>\n",
              "      <th>MemberID</th>\n",
              "      <th>County</th>\n",
              "      <th>MedicalClaim</th>\n",
              "      <th>ClaimItem</th>\n",
              "      <th>HospitalName</th>\n",
              "      <th>HospitalType</th>\n",
              "      <th>StartDate</th>\n",
              "      <th>EndDate</th>\n",
              "      <th>PrincipalDiagnosisDesc</th>\n",
              "      <th>PrincipalDiagnosis</th>\n",
              "      <th>RevenueCodeDesc</th>\n",
              "      <th>RevenueCode</th>\n",
              "      <th>TypeFlag</th>\n",
              "      <th>BirthDate</th>\n",
              "      <th>TotalExpenses</th>\n",
              "    </tr>\n",
              "  </thead>\n",
              "  <tbody>\n",
              "    <tr>\n",
              "      <th>0</th>\n",
              "      <td>634363</td>\n",
              "      <td>e659f3f4</td>\n",
              "      <td>6a380a28</td>\n",
              "      <td>6f943458</td>\n",
              "      <td>c1e3436737c77899</td>\n",
              "      <td>18</td>\n",
              "      <td>04b77561</td>\n",
              "      <td>HOSPITAL</td>\n",
              "      <td>2020-01-08</td>\n",
              "      <td>2020-01-08</td>\n",
              "      <td>Epigastric pain</td>\n",
              "      <td>R10.13</td>\n",
              "      <td>DRUGS REQUIRE SPECIFIC ID: DRUGS REQUIRING DET...</td>\n",
              "      <td>636.0</td>\n",
              "      <td>ER</td>\n",
              "      <td>1967-05-13</td>\n",
              "      <td>15.148</td>\n",
              "    </tr>\n",
              "    <tr>\n",
              "      <th>1</th>\n",
              "      <td>634364</td>\n",
              "      <td>e659f3f4</td>\n",
              "      <td>6a380a28</td>\n",
              "      <td>6f943458</td>\n",
              "      <td>c1e3436737c77899</td>\n",
              "      <td>21</td>\n",
              "      <td>04b77561</td>\n",
              "      <td>HOSPITAL</td>\n",
              "      <td>2020-01-08</td>\n",
              "      <td>2020-01-08</td>\n",
              "      <td>Epigastric pain</td>\n",
              "      <td>R10.13</td>\n",
              "      <td>DRUGS REQUIRE SPECIFIC ID: DRUGS REQUIRING DET...</td>\n",
              "      <td>636.0</td>\n",
              "      <td>ER</td>\n",
              "      <td>1967-05-13</td>\n",
              "      <td>3.073</td>\n",
              "    </tr>\n",
              "    <tr>\n",
              "      <th>2</th>\n",
              "      <td>634387</td>\n",
              "      <td>e659f3f4</td>\n",
              "      <td>6a380a28</td>\n",
              "      <td>6f943458</td>\n",
              "      <td>c1e3436737c77899</td>\n",
              "      <td>10</td>\n",
              "      <td>04b77561</td>\n",
              "      <td>HOSPITAL</td>\n",
              "      <td>2020-01-08</td>\n",
              "      <td>2020-01-08</td>\n",
              "      <td>Epigastric pain</td>\n",
              "      <td>R10.13</td>\n",
              "      <td>LABORATORY - CLINICAL DIAGNOSTIC: HEMATOLOGY</td>\n",
              "      <td>305.0</td>\n",
              "      <td>ER</td>\n",
              "      <td>1967-05-13</td>\n",
              "      <td>123.900</td>\n",
              "    </tr>\n",
              "  </tbody>\n",
              "</table>\n",
              "</div>\n",
              "    <div class=\"colab-df-buttons\">\n",
              "\n",
              "  <div class=\"colab-df-container\">\n",
              "    <button class=\"colab-df-convert\" onclick=\"convertToInteractive('df-a4832b68-e001-4afd-8a2e-0055ef79e6d6')\"\n",
              "            title=\"Convert this dataframe to an interactive table.\"\n",
              "            style=\"display:none;\">\n",
              "\n",
              "  <svg xmlns=\"http://www.w3.org/2000/svg\" height=\"24px\" viewBox=\"0 -960 960 960\">\n",
              "    <path d=\"M120-120v-720h720v720H120Zm60-500h600v-160H180v160Zm220 220h160v-160H400v160Zm0 220h160v-160H400v160ZM180-400h160v-160H180v160Zm440 0h160v-160H620v160ZM180-180h160v-160H180v160Zm440 0h160v-160H620v160Z\"/>\n",
              "  </svg>\n",
              "    </button>\n",
              "\n",
              "  <style>\n",
              "    .colab-df-container {\n",
              "      display:flex;\n",
              "      gap: 12px;\n",
              "    }\n",
              "\n",
              "    .colab-df-convert {\n",
              "      background-color: #E8F0FE;\n",
              "      border: none;\n",
              "      border-radius: 50%;\n",
              "      cursor: pointer;\n",
              "      display: none;\n",
              "      fill: #1967D2;\n",
              "      height: 32px;\n",
              "      padding: 0 0 0 0;\n",
              "      width: 32px;\n",
              "    }\n",
              "\n",
              "    .colab-df-convert:hover {\n",
              "      background-color: #E2EBFA;\n",
              "      box-shadow: 0px 1px 2px rgba(60, 64, 67, 0.3), 0px 1px 3px 1px rgba(60, 64, 67, 0.15);\n",
              "      fill: #174EA6;\n",
              "    }\n",
              "\n",
              "    .colab-df-buttons div {\n",
              "      margin-bottom: 4px;\n",
              "    }\n",
              "\n",
              "    [theme=dark] .colab-df-convert {\n",
              "      background-color: #3B4455;\n",
              "      fill: #D2E3FC;\n",
              "    }\n",
              "\n",
              "    [theme=dark] .colab-df-convert:hover {\n",
              "      background-color: #434B5C;\n",
              "      box-shadow: 0px 1px 3px 1px rgba(0, 0, 0, 0.15);\n",
              "      filter: drop-shadow(0px 1px 2px rgba(0, 0, 0, 0.3));\n",
              "      fill: #FFFFFF;\n",
              "    }\n",
              "  </style>\n",
              "\n",
              "    <script>\n",
              "      const buttonEl =\n",
              "        document.querySelector('#df-a4832b68-e001-4afd-8a2e-0055ef79e6d6 button.colab-df-convert');\n",
              "      buttonEl.style.display =\n",
              "        google.colab.kernel.accessAllowed ? 'block' : 'none';\n",
              "\n",
              "      async function convertToInteractive(key) {\n",
              "        const element = document.querySelector('#df-a4832b68-e001-4afd-8a2e-0055ef79e6d6');\n",
              "        const dataTable =\n",
              "          await google.colab.kernel.invokeFunction('convertToInteractive',\n",
              "                                                    [key], {});\n",
              "        if (!dataTable) return;\n",
              "\n",
              "        const docLinkHtml = 'Like what you see? Visit the ' +\n",
              "          '<a target=\"_blank\" href=https://colab.research.google.com/notebooks/data_table.ipynb>data table notebook</a>'\n",
              "          + ' to learn more about interactive tables.';\n",
              "        element.innerHTML = '';\n",
              "        dataTable['output_type'] = 'display_data';\n",
              "        await google.colab.output.renderOutput(dataTable, element);\n",
              "        const docLink = document.createElement('div');\n",
              "        docLink.innerHTML = docLinkHtml;\n",
              "        element.appendChild(docLink);\n",
              "      }\n",
              "    </script>\n",
              "  </div>\n",
              "\n",
              "\n",
              "<div id=\"df-acc10f0e-de69-461e-adae-92275b077124\">\n",
              "  <button class=\"colab-df-quickchart\" onclick=\"quickchart('df-acc10f0e-de69-461e-adae-92275b077124')\"\n",
              "            title=\"Suggest charts\"\n",
              "            style=\"display:none;\">\n",
              "\n",
              "<svg xmlns=\"http://www.w3.org/2000/svg\" height=\"24px\"viewBox=\"0 0 24 24\"\n",
              "     width=\"24px\">\n",
              "    <g>\n",
              "        <path d=\"M19 3H5c-1.1 0-2 .9-2 2v14c0 1.1.9 2 2 2h14c1.1 0 2-.9 2-2V5c0-1.1-.9-2-2-2zM9 17H7v-7h2v7zm4 0h-2V7h2v10zm4 0h-2v-4h2v4z\"/>\n",
              "    </g>\n",
              "</svg>\n",
              "  </button>\n",
              "\n",
              "<style>\n",
              "  .colab-df-quickchart {\n",
              "      --bg-color: #E8F0FE;\n",
              "      --fill-color: #1967D2;\n",
              "      --hover-bg-color: #E2EBFA;\n",
              "      --hover-fill-color: #174EA6;\n",
              "      --disabled-fill-color: #AAA;\n",
              "      --disabled-bg-color: #DDD;\n",
              "  }\n",
              "\n",
              "  [theme=dark] .colab-df-quickchart {\n",
              "      --bg-color: #3B4455;\n",
              "      --fill-color: #D2E3FC;\n",
              "      --hover-bg-color: #434B5C;\n",
              "      --hover-fill-color: #FFFFFF;\n",
              "      --disabled-bg-color: #3B4455;\n",
              "      --disabled-fill-color: #666;\n",
              "  }\n",
              "\n",
              "  .colab-df-quickchart {\n",
              "    background-color: var(--bg-color);\n",
              "    border: none;\n",
              "    border-radius: 50%;\n",
              "    cursor: pointer;\n",
              "    display: none;\n",
              "    fill: var(--fill-color);\n",
              "    height: 32px;\n",
              "    padding: 0;\n",
              "    width: 32px;\n",
              "  }\n",
              "\n",
              "  .colab-df-quickchart:hover {\n",
              "    background-color: var(--hover-bg-color);\n",
              "    box-shadow: 0 1px 2px rgba(60, 64, 67, 0.3), 0 1px 3px 1px rgba(60, 64, 67, 0.15);\n",
              "    fill: var(--button-hover-fill-color);\n",
              "  }\n",
              "\n",
              "  .colab-df-quickchart-complete:disabled,\n",
              "  .colab-df-quickchart-complete:disabled:hover {\n",
              "    background-color: var(--disabled-bg-color);\n",
              "    fill: var(--disabled-fill-color);\n",
              "    box-shadow: none;\n",
              "  }\n",
              "\n",
              "  .colab-df-spinner {\n",
              "    border: 2px solid var(--fill-color);\n",
              "    border-color: transparent;\n",
              "    border-bottom-color: var(--fill-color);\n",
              "    animation:\n",
              "      spin 1s steps(1) infinite;\n",
              "  }\n",
              "\n",
              "  @keyframes spin {\n",
              "    0% {\n",
              "      border-color: transparent;\n",
              "      border-bottom-color: var(--fill-color);\n",
              "      border-left-color: var(--fill-color);\n",
              "    }\n",
              "    20% {\n",
              "      border-color: transparent;\n",
              "      border-left-color: var(--fill-color);\n",
              "      border-top-color: var(--fill-color);\n",
              "    }\n",
              "    30% {\n",
              "      border-color: transparent;\n",
              "      border-left-color: var(--fill-color);\n",
              "      border-top-color: var(--fill-color);\n",
              "      border-right-color: var(--fill-color);\n",
              "    }\n",
              "    40% {\n",
              "      border-color: transparent;\n",
              "      border-right-color: var(--fill-color);\n",
              "      border-top-color: var(--fill-color);\n",
              "    }\n",
              "    60% {\n",
              "      border-color: transparent;\n",
              "      border-right-color: var(--fill-color);\n",
              "    }\n",
              "    80% {\n",
              "      border-color: transparent;\n",
              "      border-right-color: var(--fill-color);\n",
              "      border-bottom-color: var(--fill-color);\n",
              "    }\n",
              "    90% {\n",
              "      border-color: transparent;\n",
              "      border-bottom-color: var(--fill-color);\n",
              "    }\n",
              "  }\n",
              "</style>\n",
              "\n",
              "  <script>\n",
              "    async function quickchart(key) {\n",
              "      const quickchartButtonEl =\n",
              "        document.querySelector('#' + key + ' button');\n",
              "      quickchartButtonEl.disabled = true;  // To prevent multiple clicks.\n",
              "      quickchartButtonEl.classList.add('colab-df-spinner');\n",
              "      try {\n",
              "        const charts = await google.colab.kernel.invokeFunction(\n",
              "            'suggestCharts', [key], {});\n",
              "      } catch (error) {\n",
              "        console.error('Error during call to suggestCharts:', error);\n",
              "      }\n",
              "      quickchartButtonEl.classList.remove('colab-df-spinner');\n",
              "      quickchartButtonEl.classList.add('colab-df-quickchart-complete');\n",
              "    }\n",
              "    (() => {\n",
              "      let quickchartButtonEl =\n",
              "        document.querySelector('#df-acc10f0e-de69-461e-adae-92275b077124 button');\n",
              "      quickchartButtonEl.style.display =\n",
              "        google.colab.kernel.accessAllowed ? 'block' : 'none';\n",
              "    })();\n",
              "  </script>\n",
              "</div>\n",
              "    </div>\n",
              "  </div>\n"
            ],
            "application/vnd.google.colaboratory.intrinsic+json": {
              "type": "dataframe",
              "variable_name": "HealthCareDataSet",
              "summary": "{\n  \"name\": \"HealthCareDataSet\",\n  \"rows\": 52563,\n  \"fields\": [\n    {\n      \"column\": \"Id\",\n      \"properties\": {\n        \"dtype\": \"number\",\n        \"std\": 30913,\n        \"min\": 634363,\n        \"max\": 741736,\n        \"num_unique_values\": 52563,\n        \"samples\": [\n          717055,\n          672046,\n          641484\n        ],\n        \"semantic_type\": \"\",\n        \"description\": \"\"\n      }\n    },\n    {\n      \"column\": \"MemberName\",\n      \"properties\": {\n        \"dtype\": \"category\",\n        \"num_unique_values\": 1753,\n        \"samples\": [\n          \"0a3c2ad9\",\n          \"48eb7f89\",\n          \"980f6ed4\"\n        ],\n        \"semantic_type\": \"\",\n        \"description\": \"\"\n      }\n    },\n    {\n      \"column\": \"MemberID\",\n      \"properties\": {\n        \"dtype\": \"category\",\n        \"num_unique_values\": 1757,\n        \"samples\": [\n          \"d3f3ebbc\",\n          \"5f609d45\",\n          \"477e3256\"\n        ],\n        \"semantic_type\": \"\",\n        \"description\": \"\"\n      }\n    },\n    {\n      \"column\": \"County\",\n      \"properties\": {\n        \"dtype\": \"category\",\n        \"num_unique_values\": 19,\n        \"samples\": [\n          \"6f943458\",\n          \"02af982d\",\n          \"adb3fb00\"\n        ],\n        \"semantic_type\": \"\",\n        \"description\": \"\"\n      }\n    },\n    {\n      \"column\": \"MedicalClaim\",\n      \"properties\": {\n        \"dtype\": \"category\",\n        \"num_unique_values\": 3361,\n        \"samples\": [\n          \"79032eefd1feeb8e\",\n          \"f3f81c5ebf62ed91\",\n          \"48c67d5441f9ca6d\"\n        ],\n        \"semantic_type\": \"\",\n        \"description\": \"\"\n      }\n    },\n    {\n      \"column\": \"ClaimItem\",\n      \"properties\": {\n        \"dtype\": \"number\",\n        \"std\": 10,\n        \"min\": 1,\n        \"max\": 127,\n        \"num_unique_values\": 127,\n        \"samples\": [\n          40,\n          111,\n          83\n        ],\n        \"semantic_type\": \"\",\n        \"description\": \"\"\n      }\n    },\n    {\n      \"column\": \"HospitalName\",\n      \"properties\": {\n        \"dtype\": \"category\",\n        \"num_unique_values\": 148,\n        \"samples\": [\n          \"2c2f104d\",\n          \"0a075ac9\",\n          \"d691f78d\"\n        ],\n        \"semantic_type\": \"\",\n        \"description\": \"\"\n      }\n    },\n    {\n      \"column\": \"HospitalType\",\n      \"properties\": {\n        \"dtype\": \"category\",\n        \"num_unique_values\": 3,\n        \"samples\": [\n          \"HOSPITAL\",\n          \"REHABILITATION CENTER\",\n          \"HOSPITAL LONG TERM ACUTE\"\n        ],\n        \"semantic_type\": \"\",\n        \"description\": \"\"\n      }\n    },\n    {\n      \"column\": \"StartDate\",\n      \"properties\": {\n        \"dtype\": \"date\",\n        \"min\": \"2020-01-01 00:00:00\",\n        \"max\": \"2020-12-31 00:00:00\",\n        \"num_unique_values\": 366,\n        \"samples\": [\n          \"2020-07-25 00:00:00\",\n          \"2020-02-28 00:00:00\",\n          \"2020-01-20 00:00:00\"\n        ],\n        \"semantic_type\": \"\",\n        \"description\": \"\"\n      }\n    },\n    {\n      \"column\": \"EndDate\",\n      \"properties\": {\n        \"dtype\": \"date\",\n        \"min\": \"2020-01-01 00:00:00\",\n        \"max\": \"2020-12-31 00:00:00\",\n        \"num_unique_values\": 366,\n        \"samples\": [\n          \"2020-07-17 00:00:00\",\n          \"2020-02-03 00:00:00\",\n          \"2020-01-29 00:00:00\"\n        ],\n        \"semantic_type\": \"\",\n        \"description\": \"\"\n      }\n    },\n    {\n      \"column\": \"PrincipalDiagnosisDesc\",\n      \"properties\": {\n        \"dtype\": \"category\",\n        \"num_unique_values\": 798,\n        \"samples\": [\n          \"Biliary acute pancreatiti\",\n          \"Calculus of ureter\",\n          \"Major depressive disorder\"\n        ],\n        \"semantic_type\": \"\",\n        \"description\": \"\"\n      }\n    },\n    {\n      \"column\": \"PrincipalDiagnosis\",\n      \"properties\": {\n        \"dtype\": \"category\",\n        \"num_unique_values\": 1037,\n        \"samples\": [\n          \"S52.612A\",\n          \"R33.8\",\n          \"I35.2\"\n        ],\n        \"semantic_type\": \"\",\n        \"description\": \"\"\n      }\n    },\n    {\n      \"column\": \"RevenueCodeDesc\",\n      \"properties\": {\n        \"dtype\": \"category\",\n        \"num_unique_values\": 131,\n        \"samples\": [\n          \"MEDICAL/SURGICAL SUPPLIES\",\n          \"MAGNETIC RESONANCE TECH. (MRT)\",\n          \"MEDICAL/SURGICAL/GYN\"\n        ],\n        \"semantic_type\": \"\",\n        \"description\": \"\"\n      }\n    },\n    {\n      \"column\": \"RevenueCode\",\n      \"properties\": {\n        \"dtype\": \"number\",\n        \"std\": 158.55173341141844,\n        \"min\": 24.0,\n        \"max\": 942.0,\n        \"num_unique_values\": 136,\n        \"samples\": [\n          900.0,\n          420.0,\n          444.0\n        ],\n        \"semantic_type\": \"\",\n        \"description\": \"\"\n      }\n    },\n    {\n      \"column\": \"TypeFlag\",\n      \"properties\": {\n        \"dtype\": \"category\",\n        \"num_unique_values\": 2,\n        \"samples\": [\n          \"INP\",\n          \"ER\"\n        ],\n        \"semantic_type\": \"\",\n        \"description\": \"\"\n      }\n    },\n    {\n      \"column\": \"BirthDate\",\n      \"properties\": {\n        \"dtype\": \"date\",\n        \"min\": \"1921-01-18 00:00:00\",\n        \"max\": \"1999-08-09 00:00:00\",\n        \"num_unique_values\": 1632,\n        \"samples\": [\n          \"1949-05-31 00:00:00\",\n          \"1952-03-21 00:00:00\"\n        ],\n        \"semantic_type\": \"\",\n        \"description\": \"\"\n      }\n    },\n    {\n      \"column\": \"TotalExpenses\",\n      \"properties\": {\n        \"dtype\": \"number\",\n        \"std\": 8292.178928308394,\n        \"min\": 0.0,\n        \"max\": 504533.4,\n        \"num_unique_values\": 18853,\n        \"samples\": [\n          72417.1,\n          196.7\n        ],\n        \"semantic_type\": \"\",\n        \"description\": \"\"\n      }\n    }\n  ]\n}"
            }
          },
          "metadata": {},
          "execution_count": 43
        }
      ]
    },
    {
      "cell_type": "code",
      "source": [
        "HealthCareDataSet.info()"
      ],
      "metadata": {
        "colab": {
          "base_uri": "https://localhost:8080/"
        },
        "id": "UKJFk_S_lBgz",
        "outputId": "965d1965-a355-49e0-b643-c02b79e33474"
      },
      "execution_count": 44,
      "outputs": [
        {
          "output_type": "stream",
          "name": "stdout",
          "text": [
            "<class 'pandas.core.frame.DataFrame'>\n",
            "RangeIndex: 52563 entries, 0 to 52562\n",
            "Data columns (total 17 columns):\n",
            " #   Column                  Non-Null Count  Dtype         \n",
            "---  ------                  --------------  -----         \n",
            " 0   Id                      52563 non-null  int64         \n",
            " 1   MemberName              52563 non-null  object        \n",
            " 2   MemberID                52563 non-null  object        \n",
            " 3   County                  52563 non-null  object        \n",
            " 4   MedicalClaim            52563 non-null  object        \n",
            " 5   ClaimItem               52563 non-null  int64         \n",
            " 6   HospitalName            52563 non-null  object        \n",
            " 7   HospitalType            52563 non-null  object        \n",
            " 8   StartDate               52563 non-null  datetime64[ns]\n",
            " 9   EndDate                 52563 non-null  datetime64[ns]\n",
            " 10  PrincipalDiagnosisDesc  52563 non-null  object        \n",
            " 11  PrincipalDiagnosis      52563 non-null  object        \n",
            " 12  RevenueCodeDesc         52561 non-null  object        \n",
            " 13  RevenueCode             52563 non-null  float64       \n",
            " 14  TypeFlag                52563 non-null  object        \n",
            " 15  BirthDate               52563 non-null  datetime64[ns]\n",
            " 16  TotalExpenses           52563 non-null  float64       \n",
            "dtypes: datetime64[ns](3), float64(2), int64(2), object(10)\n",
            "memory usage: 6.8+ MB\n"
          ]
        }
      ]
    },
    {
      "cell_type": "code",
      "source": [],
      "metadata": {
        "id": "HY8dNT4YlEDa"
      },
      "execution_count": 44,
      "outputs": []
    },
    {
      "cell_type": "markdown",
      "source": [
        "## 3. Applying Built-In Functions to a DataFrame (Column-wise)"
      ],
      "metadata": {
        "id": "zy5ongLZlPfA"
      }
    },
    {
      "cell_type": "code",
      "source": [
        "## Let's apply the np.log() function to the column `TotalExpenses`. We save the results in a new column `TotalExpensesLog`\n",
        "HealthCareDataSet['TotalExpensesLog']=HealthCareDataSet['TotalExpenses'].apply(np.log,axis=1)"
      ],
      "metadata": {
        "id": "CFC1kW7nUvhZ"
      },
      "execution_count": 45,
      "outputs": []
    },
    {
      "cell_type": "code",
      "source": [],
      "metadata": {
        "id": "mCJGqqi3Uvcc"
      },
      "execution_count": 45,
      "outputs": []
    },
    {
      "cell_type": "code",
      "source": [
        "# We apply the function join to merge two string columns into a new one\n",
        "HealthCareDataSet['PrincipalDiagnosisJoined']=HealthCareDataSet[['PrincipalDiagnosisDesc','PrincipalDiagnosis']].apply('---'.join,axis=1)"
      ],
      "metadata": {
        "id": "gR6lXetNUvXf"
      },
      "execution_count": 46,
      "outputs": []
    },
    {
      "cell_type": "code",
      "source": [],
      "metadata": {
        "id": "xhq56aYxUvU6"
      },
      "execution_count": 46,
      "outputs": []
    },
    {
      "cell_type": "code",
      "source": [],
      "metadata": {
        "id": "sSR_mmatUvSj"
      },
      "execution_count": 46,
      "outputs": []
    },
    {
      "cell_type": "markdown",
      "source": [
        "## 4. Applying Regular Functions to a DataFrame (Column-wise)"
      ],
      "metadata": {
        "id": "K-2vJzMMe2vu"
      }
    },
    {
      "cell_type": "code",
      "source": [
        "def lowerToUpper(string):\n",
        "    return string.upper()\n"
      ],
      "metadata": {
        "id": "RC_vka6UUvP9"
      },
      "execution_count": 47,
      "outputs": []
    },
    {
      "cell_type": "code",
      "source": [
        "lowerToUpper('hi there')"
      ],
      "metadata": {
        "colab": {
          "base_uri": "https://localhost:8080/",
          "height": 35
        },
        "id": "K3ZIuKAFUvNn",
        "outputId": "fa12b199-a9a6-4019-ec82-c695e429f1cf"
      },
      "execution_count": 48,
      "outputs": [
        {
          "output_type": "execute_result",
          "data": {
            "text/plain": [
              "'HI THERE'"
            ],
            "application/vnd.google.colaboratory.intrinsic+json": {
              "type": "string"
            }
          },
          "metadata": {},
          "execution_count": 48
        }
      ]
    },
    {
      "cell_type": "code",
      "source": [
        "HealthCareDataSet['PrincipalDiagnosisDescUPPER']=HealthCareDataSet['PrincipalDiagnosisDesc'].apply(lowerToUpper)"
      ],
      "metadata": {
        "id": "2RyaptSKUvLA"
      },
      "execution_count": 49,
      "outputs": []
    },
    {
      "cell_type": "code",
      "source": [],
      "metadata": {
        "id": "YgW_mn63fBc5"
      },
      "execution_count": 49,
      "outputs": []
    },
    {
      "cell_type": "code",
      "source": [
        "def roundingFunction(number):\n",
        "   return round(number)"
      ],
      "metadata": {
        "id": "eCHS6EkVfCGR"
      },
      "execution_count": 50,
      "outputs": []
    },
    {
      "cell_type": "code",
      "source": [
        "HealthCareDataSet['TotalExpensesRounded']=HealthCareDataSet['TotalExpenses'].apply(round)"
      ],
      "metadata": {
        "id": "3RR8-n5ofCEL"
      },
      "execution_count": 51,
      "outputs": []
    },
    {
      "cell_type": "code",
      "source": [],
      "metadata": {
        "id": "8VY62xxufCBU"
      },
      "execution_count": 51,
      "outputs": []
    },
    {
      "cell_type": "code",
      "source": [],
      "metadata": {
        "id": "_9b_HBC6a8VK"
      },
      "execution_count": 51,
      "outputs": []
    },
    {
      "cell_type": "code",
      "source": [],
      "metadata": {
        "id": "2Msvc2jUa8Q1"
      },
      "execution_count": 51,
      "outputs": []
    },
    {
      "cell_type": "code",
      "source": [],
      "metadata": {
        "id": "15J7CdPwfB-e"
      },
      "execution_count": 51,
      "outputs": []
    },
    {
      "cell_type": "code",
      "source": [],
      "metadata": {
        "id": "1O4lzbKTbMJc"
      },
      "execution_count": null,
      "outputs": []
    },
    {
      "cell_type": "markdown",
      "source": [
        "## 4. Applying Lambda Functions to a DataFrame (Column-wise)"
      ],
      "metadata": {
        "id": "o8YARq5dhNW-"
      }
    },
    {
      "cell_type": "code",
      "source": [
        "## a lambda function which simply outputs the input\n",
        "HealthCareDataSet['TotalExpenses'].apply(lambda x:x)"
      ],
      "metadata": {
        "colab": {
          "base_uri": "https://localhost:8080/"
        },
        "id": "V1Xc9busUvIb",
        "outputId": "88b4f8aa-a7e6-4941-f1f9-11e23bd47b19"
      },
      "execution_count": 52,
      "outputs": [
        {
          "output_type": "execute_result",
          "data": {
            "text/plain": [
              "0          15.148\n",
              "1           3.073\n",
              "2         123.900\n",
              "3           7.511\n",
              "4           8.631\n",
              "           ...   \n",
              "52558    2436.000\n",
              "52559    2075.500\n",
              "52560     865.900\n",
              "52561     665.000\n",
              "52562    4587.800\n",
              "Name: TotalExpenses, Length: 52563, dtype: float64"
            ]
          },
          "metadata": {},
          "execution_count": 52
        }
      ]
    },
    {
      "cell_type": "code",
      "source": [],
      "metadata": {
        "id": "oSEbxO6SgxhM"
      },
      "execution_count": 52,
      "outputs": []
    },
    {
      "cell_type": "code",
      "source": [
        "## a lambda function which adds 10 to the input\n",
        "HealthCareDataSet['TotalExpenses'].apply(lambda x:x+10)"
      ],
      "metadata": {
        "colab": {
          "base_uri": "https://localhost:8080/"
        },
        "id": "ActxCUOBgxe2",
        "outputId": "1392e1b3-823d-4bbe-e298-edb47d91d0a5"
      },
      "execution_count": 53,
      "outputs": [
        {
          "output_type": "execute_result",
          "data": {
            "text/plain": [
              "0          25.148\n",
              "1          13.073\n",
              "2         133.900\n",
              "3          17.511\n",
              "4          18.631\n",
              "           ...   \n",
              "52558    2446.000\n",
              "52559    2085.500\n",
              "52560     875.900\n",
              "52561     675.000\n",
              "52562    4597.800\n",
              "Name: TotalExpenses, Length: 52563, dtype: float64"
            ]
          },
          "metadata": {},
          "execution_count": 53
        }
      ]
    },
    {
      "cell_type": "code",
      "source": [
        "## a lambda function which applies the np.log() function to the input\n",
        "HealthCareDataSet['TotalExpenses'].apply(lambda x:np.log(x))"
      ],
      "metadata": {
        "colab": {
          "base_uri": "https://localhost:8080/"
        },
        "id": "OHpBfPMBgxcP",
        "outputId": "0b0c3827-2d3a-4ef6-cfee-349523123e30"
      },
      "execution_count": 54,
      "outputs": [
        {
          "output_type": "execute_result",
          "data": {
            "text/plain": [
              "0        2.717869\n",
              "1        1.122654\n",
              "2        4.819475\n",
              "3        2.016369\n",
              "4        2.155360\n",
              "           ...   \n",
              "52558    7.798113\n",
              "52559    7.637957\n",
              "52560    6.763769\n",
              "52561    6.499787\n",
              "52562    8.431156\n",
              "Name: TotalExpenses, Length: 52563, dtype: float64"
            ]
          },
          "metadata": {},
          "execution_count": 54
        }
      ]
    },
    {
      "cell_type": "code",
      "source": [
        "## a lambda function which applies the upper() function to the input\n",
        "HealthCareDataSet['PrincipalDiagnosisDesc'].apply(lambda x:x.upper())"
      ],
      "metadata": {
        "colab": {
          "base_uri": "https://localhost:8080/"
        },
        "id": "HbDM8cSpgxZp",
        "outputId": "6955a4f2-cbfc-4d53-b0c6-1627a671b200"
      },
      "execution_count": 55,
      "outputs": [
        {
          "output_type": "execute_result",
          "data": {
            "text/plain": [
              "0                  EPIGASTRIC PAIN\n",
              "1                  EPIGASTRIC PAIN\n",
              "2                  EPIGASTRIC PAIN\n",
              "3                  EPIGASTRIC PAIN\n",
              "4                  EPIGASTRIC PAIN\n",
              "                   ...            \n",
              "52558    TRAUMATIC SUBARACHNOID HE\n",
              "52559    IRON DEFICIENCY ANEMIA SE\n",
              "52560    IRON DEFICIENCY ANEMIA SE\n",
              "52561    IRON DEFICIENCY ANEMIA SE\n",
              "52562    IRON DEFICIENCY ANEMIA SE\n",
              "Name: PrincipalDiagnosisDesc, Length: 52563, dtype: object"
            ]
          },
          "metadata": {},
          "execution_count": 55
        }
      ]
    },
    {
      "cell_type": "code",
      "source": [
        "## a lambda function which applies the split() function to the input\n",
        "HealthCareDataSet['PrincipalDiagnosisDesc'].apply(lambda x:x.split())"
      ],
      "metadata": {
        "colab": {
          "base_uri": "https://localhost:8080/"
        },
        "id": "j9XdUs6xgxWx",
        "outputId": "020a204b-7e49-487c-f42f-a1c39f65a6ea"
      },
      "execution_count": 56,
      "outputs": [
        {
          "output_type": "execute_result",
          "data": {
            "text/plain": [
              "0                    [Epigastric, pain]\n",
              "1                    [Epigastric, pain]\n",
              "2                    [Epigastric, pain]\n",
              "3                    [Epigastric, pain]\n",
              "4                    [Epigastric, pain]\n",
              "                      ...              \n",
              "52558     [Traumatic, subarachnoid, he]\n",
              "52559    [Iron, deficiency, anemia, se]\n",
              "52560    [Iron, deficiency, anemia, se]\n",
              "52561    [Iron, deficiency, anemia, se]\n",
              "52562    [Iron, deficiency, anemia, se]\n",
              "Name: PrincipalDiagnosisDesc, Length: 52563, dtype: object"
            ]
          },
          "metadata": {},
          "execution_count": 56
        }
      ]
    },
    {
      "cell_type": "code",
      "source": [
        "## a lambda function that takes a DataFrame row and outputs it\n",
        "HealthCareDataSet[['PrincipalDiagnosisDesc','PrincipalDiagnosis']].apply(lambda row:row)"
      ],
      "metadata": {
        "colab": {
          "base_uri": "https://localhost:8080/",
          "height": 424
        },
        "id": "xg-FDr_DiFL3",
        "outputId": "06439ee7-9e25-43ff-f37c-6b91bfdcce17"
      },
      "execution_count": 58,
      "outputs": [
        {
          "output_type": "execute_result",
          "data": {
            "text/plain": [
              "          PrincipalDiagnosisDesc PrincipalDiagnosis\n",
              "0                Epigastric pain             R10.13\n",
              "1                Epigastric pain             R10.13\n",
              "2                Epigastric pain             R10.13\n",
              "3                Epigastric pain             R10.13\n",
              "4                Epigastric pain             R10.13\n",
              "...                          ...                ...\n",
              "52558  Traumatic subarachnoid he           S06.6X0A\n",
              "52559  Iron deficiency anemia se              D50.0\n",
              "52560  Iron deficiency anemia se              D50.0\n",
              "52561  Iron deficiency anemia se              D50.0\n",
              "52562  Iron deficiency anemia se              D50.0\n",
              "\n",
              "[52563 rows x 2 columns]"
            ],
            "text/html": [
              "\n",
              "  <div id=\"df-d7c2cb23-7a8f-401a-9daa-ce6fd195521a\" class=\"colab-df-container\">\n",
              "    <div>\n",
              "<style scoped>\n",
              "    .dataframe tbody tr th:only-of-type {\n",
              "        vertical-align: middle;\n",
              "    }\n",
              "\n",
              "    .dataframe tbody tr th {\n",
              "        vertical-align: top;\n",
              "    }\n",
              "\n",
              "    .dataframe thead th {\n",
              "        text-align: right;\n",
              "    }\n",
              "</style>\n",
              "<table border=\"1\" class=\"dataframe\">\n",
              "  <thead>\n",
              "    <tr style=\"text-align: right;\">\n",
              "      <th></th>\n",
              "      <th>PrincipalDiagnosisDesc</th>\n",
              "      <th>PrincipalDiagnosis</th>\n",
              "    </tr>\n",
              "  </thead>\n",
              "  <tbody>\n",
              "    <tr>\n",
              "      <th>0</th>\n",
              "      <td>Epigastric pain</td>\n",
              "      <td>R10.13</td>\n",
              "    </tr>\n",
              "    <tr>\n",
              "      <th>1</th>\n",
              "      <td>Epigastric pain</td>\n",
              "      <td>R10.13</td>\n",
              "    </tr>\n",
              "    <tr>\n",
              "      <th>2</th>\n",
              "      <td>Epigastric pain</td>\n",
              "      <td>R10.13</td>\n",
              "    </tr>\n",
              "    <tr>\n",
              "      <th>3</th>\n",
              "      <td>Epigastric pain</td>\n",
              "      <td>R10.13</td>\n",
              "    </tr>\n",
              "    <tr>\n",
              "      <th>4</th>\n",
              "      <td>Epigastric pain</td>\n",
              "      <td>R10.13</td>\n",
              "    </tr>\n",
              "    <tr>\n",
              "      <th>...</th>\n",
              "      <td>...</td>\n",
              "      <td>...</td>\n",
              "    </tr>\n",
              "    <tr>\n",
              "      <th>52558</th>\n",
              "      <td>Traumatic subarachnoid he</td>\n",
              "      <td>S06.6X0A</td>\n",
              "    </tr>\n",
              "    <tr>\n",
              "      <th>52559</th>\n",
              "      <td>Iron deficiency anemia se</td>\n",
              "      <td>D50.0</td>\n",
              "    </tr>\n",
              "    <tr>\n",
              "      <th>52560</th>\n",
              "      <td>Iron deficiency anemia se</td>\n",
              "      <td>D50.0</td>\n",
              "    </tr>\n",
              "    <tr>\n",
              "      <th>52561</th>\n",
              "      <td>Iron deficiency anemia se</td>\n",
              "      <td>D50.0</td>\n",
              "    </tr>\n",
              "    <tr>\n",
              "      <th>52562</th>\n",
              "      <td>Iron deficiency anemia se</td>\n",
              "      <td>D50.0</td>\n",
              "    </tr>\n",
              "  </tbody>\n",
              "</table>\n",
              "<p>52563 rows × 2 columns</p>\n",
              "</div>\n",
              "    <div class=\"colab-df-buttons\">\n",
              "\n",
              "  <div class=\"colab-df-container\">\n",
              "    <button class=\"colab-df-convert\" onclick=\"convertToInteractive('df-d7c2cb23-7a8f-401a-9daa-ce6fd195521a')\"\n",
              "            title=\"Convert this dataframe to an interactive table.\"\n",
              "            style=\"display:none;\">\n",
              "\n",
              "  <svg xmlns=\"http://www.w3.org/2000/svg\" height=\"24px\" viewBox=\"0 -960 960 960\">\n",
              "    <path d=\"M120-120v-720h720v720H120Zm60-500h600v-160H180v160Zm220 220h160v-160H400v160Zm0 220h160v-160H400v160ZM180-400h160v-160H180v160Zm440 0h160v-160H620v160ZM180-180h160v-160H180v160Zm440 0h160v-160H620v160Z\"/>\n",
              "  </svg>\n",
              "    </button>\n",
              "\n",
              "  <style>\n",
              "    .colab-df-container {\n",
              "      display:flex;\n",
              "      gap: 12px;\n",
              "    }\n",
              "\n",
              "    .colab-df-convert {\n",
              "      background-color: #E8F0FE;\n",
              "      border: none;\n",
              "      border-radius: 50%;\n",
              "      cursor: pointer;\n",
              "      display: none;\n",
              "      fill: #1967D2;\n",
              "      height: 32px;\n",
              "      padding: 0 0 0 0;\n",
              "      width: 32px;\n",
              "    }\n",
              "\n",
              "    .colab-df-convert:hover {\n",
              "      background-color: #E2EBFA;\n",
              "      box-shadow: 0px 1px 2px rgba(60, 64, 67, 0.3), 0px 1px 3px 1px rgba(60, 64, 67, 0.15);\n",
              "      fill: #174EA6;\n",
              "    }\n",
              "\n",
              "    .colab-df-buttons div {\n",
              "      margin-bottom: 4px;\n",
              "    }\n",
              "\n",
              "    [theme=dark] .colab-df-convert {\n",
              "      background-color: #3B4455;\n",
              "      fill: #D2E3FC;\n",
              "    }\n",
              "\n",
              "    [theme=dark] .colab-df-convert:hover {\n",
              "      background-color: #434B5C;\n",
              "      box-shadow: 0px 1px 3px 1px rgba(0, 0, 0, 0.15);\n",
              "      filter: drop-shadow(0px 1px 2px rgba(0, 0, 0, 0.3));\n",
              "      fill: #FFFFFF;\n",
              "    }\n",
              "  </style>\n",
              "\n",
              "    <script>\n",
              "      const buttonEl =\n",
              "        document.querySelector('#df-d7c2cb23-7a8f-401a-9daa-ce6fd195521a button.colab-df-convert');\n",
              "      buttonEl.style.display =\n",
              "        google.colab.kernel.accessAllowed ? 'block' : 'none';\n",
              "\n",
              "      async function convertToInteractive(key) {\n",
              "        const element = document.querySelector('#df-d7c2cb23-7a8f-401a-9daa-ce6fd195521a');\n",
              "        const dataTable =\n",
              "          await google.colab.kernel.invokeFunction('convertToInteractive',\n",
              "                                                    [key], {});\n",
              "        if (!dataTable) return;\n",
              "\n",
              "        const docLinkHtml = 'Like what you see? Visit the ' +\n",
              "          '<a target=\"_blank\" href=https://colab.research.google.com/notebooks/data_table.ipynb>data table notebook</a>'\n",
              "          + ' to learn more about interactive tables.';\n",
              "        element.innerHTML = '';\n",
              "        dataTable['output_type'] = 'display_data';\n",
              "        await google.colab.output.renderOutput(dataTable, element);\n",
              "        const docLink = document.createElement('div');\n",
              "        docLink.innerHTML = docLinkHtml;\n",
              "        element.appendChild(docLink);\n",
              "      }\n",
              "    </script>\n",
              "  </div>\n",
              "\n",
              "\n",
              "<div id=\"df-4b01aeff-4e8e-483c-9d8b-9d92b3a4af1e\">\n",
              "  <button class=\"colab-df-quickchart\" onclick=\"quickchart('df-4b01aeff-4e8e-483c-9d8b-9d92b3a4af1e')\"\n",
              "            title=\"Suggest charts\"\n",
              "            style=\"display:none;\">\n",
              "\n",
              "<svg xmlns=\"http://www.w3.org/2000/svg\" height=\"24px\"viewBox=\"0 0 24 24\"\n",
              "     width=\"24px\">\n",
              "    <g>\n",
              "        <path d=\"M19 3H5c-1.1 0-2 .9-2 2v14c0 1.1.9 2 2 2h14c1.1 0 2-.9 2-2V5c0-1.1-.9-2-2-2zM9 17H7v-7h2v7zm4 0h-2V7h2v10zm4 0h-2v-4h2v4z\"/>\n",
              "    </g>\n",
              "</svg>\n",
              "  </button>\n",
              "\n",
              "<style>\n",
              "  .colab-df-quickchart {\n",
              "      --bg-color: #E8F0FE;\n",
              "      --fill-color: #1967D2;\n",
              "      --hover-bg-color: #E2EBFA;\n",
              "      --hover-fill-color: #174EA6;\n",
              "      --disabled-fill-color: #AAA;\n",
              "      --disabled-bg-color: #DDD;\n",
              "  }\n",
              "\n",
              "  [theme=dark] .colab-df-quickchart {\n",
              "      --bg-color: #3B4455;\n",
              "      --fill-color: #D2E3FC;\n",
              "      --hover-bg-color: #434B5C;\n",
              "      --hover-fill-color: #FFFFFF;\n",
              "      --disabled-bg-color: #3B4455;\n",
              "      --disabled-fill-color: #666;\n",
              "  }\n",
              "\n",
              "  .colab-df-quickchart {\n",
              "    background-color: var(--bg-color);\n",
              "    border: none;\n",
              "    border-radius: 50%;\n",
              "    cursor: pointer;\n",
              "    display: none;\n",
              "    fill: var(--fill-color);\n",
              "    height: 32px;\n",
              "    padding: 0;\n",
              "    width: 32px;\n",
              "  }\n",
              "\n",
              "  .colab-df-quickchart:hover {\n",
              "    background-color: var(--hover-bg-color);\n",
              "    box-shadow: 0 1px 2px rgba(60, 64, 67, 0.3), 0 1px 3px 1px rgba(60, 64, 67, 0.15);\n",
              "    fill: var(--button-hover-fill-color);\n",
              "  }\n",
              "\n",
              "  .colab-df-quickchart-complete:disabled,\n",
              "  .colab-df-quickchart-complete:disabled:hover {\n",
              "    background-color: var(--disabled-bg-color);\n",
              "    fill: var(--disabled-fill-color);\n",
              "    box-shadow: none;\n",
              "  }\n",
              "\n",
              "  .colab-df-spinner {\n",
              "    border: 2px solid var(--fill-color);\n",
              "    border-color: transparent;\n",
              "    border-bottom-color: var(--fill-color);\n",
              "    animation:\n",
              "      spin 1s steps(1) infinite;\n",
              "  }\n",
              "\n",
              "  @keyframes spin {\n",
              "    0% {\n",
              "      border-color: transparent;\n",
              "      border-bottom-color: var(--fill-color);\n",
              "      border-left-color: var(--fill-color);\n",
              "    }\n",
              "    20% {\n",
              "      border-color: transparent;\n",
              "      border-left-color: var(--fill-color);\n",
              "      border-top-color: var(--fill-color);\n",
              "    }\n",
              "    30% {\n",
              "      border-color: transparent;\n",
              "      border-left-color: var(--fill-color);\n",
              "      border-top-color: var(--fill-color);\n",
              "      border-right-color: var(--fill-color);\n",
              "    }\n",
              "    40% {\n",
              "      border-color: transparent;\n",
              "      border-right-color: var(--fill-color);\n",
              "      border-top-color: var(--fill-color);\n",
              "    }\n",
              "    60% {\n",
              "      border-color: transparent;\n",
              "      border-right-color: var(--fill-color);\n",
              "    }\n",
              "    80% {\n",
              "      border-color: transparent;\n",
              "      border-right-color: var(--fill-color);\n",
              "      border-bottom-color: var(--fill-color);\n",
              "    }\n",
              "    90% {\n",
              "      border-color: transparent;\n",
              "      border-bottom-color: var(--fill-color);\n",
              "    }\n",
              "  }\n",
              "</style>\n",
              "\n",
              "  <script>\n",
              "    async function quickchart(key) {\n",
              "      const quickchartButtonEl =\n",
              "        document.querySelector('#' + key + ' button');\n",
              "      quickchartButtonEl.disabled = true;  // To prevent multiple clicks.\n",
              "      quickchartButtonEl.classList.add('colab-df-spinner');\n",
              "      try {\n",
              "        const charts = await google.colab.kernel.invokeFunction(\n",
              "            'suggestCharts', [key], {});\n",
              "      } catch (error) {\n",
              "        console.error('Error during call to suggestCharts:', error);\n",
              "      }\n",
              "      quickchartButtonEl.classList.remove('colab-df-spinner');\n",
              "      quickchartButtonEl.classList.add('colab-df-quickchart-complete');\n",
              "    }\n",
              "    (() => {\n",
              "      let quickchartButtonEl =\n",
              "        document.querySelector('#df-4b01aeff-4e8e-483c-9d8b-9d92b3a4af1e button');\n",
              "      quickchartButtonEl.style.display =\n",
              "        google.colab.kernel.accessAllowed ? 'block' : 'none';\n",
              "    })();\n",
              "  </script>\n",
              "</div>\n",
              "    </div>\n",
              "  </div>\n"
            ],
            "application/vnd.google.colaboratory.intrinsic+json": {
              "type": "dataframe",
              "summary": "{\n  \"name\": \"HealthCareDataSet[['PrincipalDiagnosisDesc','PrincipalDiagnosis']]\",\n  \"rows\": 52563,\n  \"fields\": [\n    {\n      \"column\": \"PrincipalDiagnosisDesc\",\n      \"properties\": {\n        \"dtype\": \"category\",\n        \"num_unique_values\": 798,\n        \"samples\": [\n          \"Biliary acute pancreatiti\",\n          \"Calculus of ureter\",\n          \"Major depressive disorder\"\n        ],\n        \"semantic_type\": \"\",\n        \"description\": \"\"\n      }\n    },\n    {\n      \"column\": \"PrincipalDiagnosis\",\n      \"properties\": {\n        \"dtype\": \"category\",\n        \"num_unique_values\": 1037,\n        \"samples\": [\n          \"S52.612A\",\n          \"R33.8\",\n          \"I35.2\"\n        ],\n        \"semantic_type\": \"\",\n        \"description\": \"\"\n      }\n    }\n  ]\n}"
            }
          },
          "metadata": {},
          "execution_count": 58
        }
      ]
    },
    {
      "cell_type": "code",
      "source": [
        "HealthCareDataSet[['PrincipalDiagnosisDesc','PrincipalDiagnosis']].apply(lambda x:x)"
      ],
      "metadata": {
        "colab": {
          "base_uri": "https://localhost:8080/",
          "height": 424
        },
        "id": "rPGUcGkjiE5a",
        "outputId": "b424ea36-0edb-4ce4-8bfa-a91b5df65847"
      },
      "execution_count": 75,
      "outputs": [
        {
          "output_type": "execute_result",
          "data": {
            "text/plain": [
              "          PrincipalDiagnosisDesc PrincipalDiagnosis\n",
              "0                Epigastric pain             R10.13\n",
              "1                Epigastric pain             R10.13\n",
              "2                Epigastric pain             R10.13\n",
              "3                Epigastric pain             R10.13\n",
              "4                Epigastric pain             R10.13\n",
              "...                          ...                ...\n",
              "52558  Traumatic subarachnoid he           S06.6X0A\n",
              "52559  Iron deficiency anemia se              D50.0\n",
              "52560  Iron deficiency anemia se              D50.0\n",
              "52561  Iron deficiency anemia se              D50.0\n",
              "52562  Iron deficiency anemia se              D50.0\n",
              "\n",
              "[52563 rows x 2 columns]"
            ],
            "text/html": [
              "\n",
              "  <div id=\"df-f0ea1ad9-cc0b-48be-a9a3-20687535d564\" class=\"colab-df-container\">\n",
              "    <div>\n",
              "<style scoped>\n",
              "    .dataframe tbody tr th:only-of-type {\n",
              "        vertical-align: middle;\n",
              "    }\n",
              "\n",
              "    .dataframe tbody tr th {\n",
              "        vertical-align: top;\n",
              "    }\n",
              "\n",
              "    .dataframe thead th {\n",
              "        text-align: right;\n",
              "    }\n",
              "</style>\n",
              "<table border=\"1\" class=\"dataframe\">\n",
              "  <thead>\n",
              "    <tr style=\"text-align: right;\">\n",
              "      <th></th>\n",
              "      <th>PrincipalDiagnosisDesc</th>\n",
              "      <th>PrincipalDiagnosis</th>\n",
              "    </tr>\n",
              "  </thead>\n",
              "  <tbody>\n",
              "    <tr>\n",
              "      <th>0</th>\n",
              "      <td>Epigastric pain</td>\n",
              "      <td>R10.13</td>\n",
              "    </tr>\n",
              "    <tr>\n",
              "      <th>1</th>\n",
              "      <td>Epigastric pain</td>\n",
              "      <td>R10.13</td>\n",
              "    </tr>\n",
              "    <tr>\n",
              "      <th>2</th>\n",
              "      <td>Epigastric pain</td>\n",
              "      <td>R10.13</td>\n",
              "    </tr>\n",
              "    <tr>\n",
              "      <th>3</th>\n",
              "      <td>Epigastric pain</td>\n",
              "      <td>R10.13</td>\n",
              "    </tr>\n",
              "    <tr>\n",
              "      <th>4</th>\n",
              "      <td>Epigastric pain</td>\n",
              "      <td>R10.13</td>\n",
              "    </tr>\n",
              "    <tr>\n",
              "      <th>...</th>\n",
              "      <td>...</td>\n",
              "      <td>...</td>\n",
              "    </tr>\n",
              "    <tr>\n",
              "      <th>52558</th>\n",
              "      <td>Traumatic subarachnoid he</td>\n",
              "      <td>S06.6X0A</td>\n",
              "    </tr>\n",
              "    <tr>\n",
              "      <th>52559</th>\n",
              "      <td>Iron deficiency anemia se</td>\n",
              "      <td>D50.0</td>\n",
              "    </tr>\n",
              "    <tr>\n",
              "      <th>52560</th>\n",
              "      <td>Iron deficiency anemia se</td>\n",
              "      <td>D50.0</td>\n",
              "    </tr>\n",
              "    <tr>\n",
              "      <th>52561</th>\n",
              "      <td>Iron deficiency anemia se</td>\n",
              "      <td>D50.0</td>\n",
              "    </tr>\n",
              "    <tr>\n",
              "      <th>52562</th>\n",
              "      <td>Iron deficiency anemia se</td>\n",
              "      <td>D50.0</td>\n",
              "    </tr>\n",
              "  </tbody>\n",
              "</table>\n",
              "<p>52563 rows × 2 columns</p>\n",
              "</div>\n",
              "    <div class=\"colab-df-buttons\">\n",
              "\n",
              "  <div class=\"colab-df-container\">\n",
              "    <button class=\"colab-df-convert\" onclick=\"convertToInteractive('df-f0ea1ad9-cc0b-48be-a9a3-20687535d564')\"\n",
              "            title=\"Convert this dataframe to an interactive table.\"\n",
              "            style=\"display:none;\">\n",
              "\n",
              "  <svg xmlns=\"http://www.w3.org/2000/svg\" height=\"24px\" viewBox=\"0 -960 960 960\">\n",
              "    <path d=\"M120-120v-720h720v720H120Zm60-500h600v-160H180v160Zm220 220h160v-160H400v160Zm0 220h160v-160H400v160ZM180-400h160v-160H180v160Zm440 0h160v-160H620v160ZM180-180h160v-160H180v160Zm440 0h160v-160H620v160Z\"/>\n",
              "  </svg>\n",
              "    </button>\n",
              "\n",
              "  <style>\n",
              "    .colab-df-container {\n",
              "      display:flex;\n",
              "      gap: 12px;\n",
              "    }\n",
              "\n",
              "    .colab-df-convert {\n",
              "      background-color: #E8F0FE;\n",
              "      border: none;\n",
              "      border-radius: 50%;\n",
              "      cursor: pointer;\n",
              "      display: none;\n",
              "      fill: #1967D2;\n",
              "      height: 32px;\n",
              "      padding: 0 0 0 0;\n",
              "      width: 32px;\n",
              "    }\n",
              "\n",
              "    .colab-df-convert:hover {\n",
              "      background-color: #E2EBFA;\n",
              "      box-shadow: 0px 1px 2px rgba(60, 64, 67, 0.3), 0px 1px 3px 1px rgba(60, 64, 67, 0.15);\n",
              "      fill: #174EA6;\n",
              "    }\n",
              "\n",
              "    .colab-df-buttons div {\n",
              "      margin-bottom: 4px;\n",
              "    }\n",
              "\n",
              "    [theme=dark] .colab-df-convert {\n",
              "      background-color: #3B4455;\n",
              "      fill: #D2E3FC;\n",
              "    }\n",
              "\n",
              "    [theme=dark] .colab-df-convert:hover {\n",
              "      background-color: #434B5C;\n",
              "      box-shadow: 0px 1px 3px 1px rgba(0, 0, 0, 0.15);\n",
              "      filter: drop-shadow(0px 1px 2px rgba(0, 0, 0, 0.3));\n",
              "      fill: #FFFFFF;\n",
              "    }\n",
              "  </style>\n",
              "\n",
              "    <script>\n",
              "      const buttonEl =\n",
              "        document.querySelector('#df-f0ea1ad9-cc0b-48be-a9a3-20687535d564 button.colab-df-convert');\n",
              "      buttonEl.style.display =\n",
              "        google.colab.kernel.accessAllowed ? 'block' : 'none';\n",
              "\n",
              "      async function convertToInteractive(key) {\n",
              "        const element = document.querySelector('#df-f0ea1ad9-cc0b-48be-a9a3-20687535d564');\n",
              "        const dataTable =\n",
              "          await google.colab.kernel.invokeFunction('convertToInteractive',\n",
              "                                                    [key], {});\n",
              "        if (!dataTable) return;\n",
              "\n",
              "        const docLinkHtml = 'Like what you see? Visit the ' +\n",
              "          '<a target=\"_blank\" href=https://colab.research.google.com/notebooks/data_table.ipynb>data table notebook</a>'\n",
              "          + ' to learn more about interactive tables.';\n",
              "        element.innerHTML = '';\n",
              "        dataTable['output_type'] = 'display_data';\n",
              "        await google.colab.output.renderOutput(dataTable, element);\n",
              "        const docLink = document.createElement('div');\n",
              "        docLink.innerHTML = docLinkHtml;\n",
              "        element.appendChild(docLink);\n",
              "      }\n",
              "    </script>\n",
              "  </div>\n",
              "\n",
              "\n",
              "<div id=\"df-160ea422-027e-4891-9fd5-1d62c6e9d00f\">\n",
              "  <button class=\"colab-df-quickchart\" onclick=\"quickchart('df-160ea422-027e-4891-9fd5-1d62c6e9d00f')\"\n",
              "            title=\"Suggest charts\"\n",
              "            style=\"display:none;\">\n",
              "\n",
              "<svg xmlns=\"http://www.w3.org/2000/svg\" height=\"24px\"viewBox=\"0 0 24 24\"\n",
              "     width=\"24px\">\n",
              "    <g>\n",
              "        <path d=\"M19 3H5c-1.1 0-2 .9-2 2v14c0 1.1.9 2 2 2h14c1.1 0 2-.9 2-2V5c0-1.1-.9-2-2-2zM9 17H7v-7h2v7zm4 0h-2V7h2v10zm4 0h-2v-4h2v4z\"/>\n",
              "    </g>\n",
              "</svg>\n",
              "  </button>\n",
              "\n",
              "<style>\n",
              "  .colab-df-quickchart {\n",
              "      --bg-color: #E8F0FE;\n",
              "      --fill-color: #1967D2;\n",
              "      --hover-bg-color: #E2EBFA;\n",
              "      --hover-fill-color: #174EA6;\n",
              "      --disabled-fill-color: #AAA;\n",
              "      --disabled-bg-color: #DDD;\n",
              "  }\n",
              "\n",
              "  [theme=dark] .colab-df-quickchart {\n",
              "      --bg-color: #3B4455;\n",
              "      --fill-color: #D2E3FC;\n",
              "      --hover-bg-color: #434B5C;\n",
              "      --hover-fill-color: #FFFFFF;\n",
              "      --disabled-bg-color: #3B4455;\n",
              "      --disabled-fill-color: #666;\n",
              "  }\n",
              "\n",
              "  .colab-df-quickchart {\n",
              "    background-color: var(--bg-color);\n",
              "    border: none;\n",
              "    border-radius: 50%;\n",
              "    cursor: pointer;\n",
              "    display: none;\n",
              "    fill: var(--fill-color);\n",
              "    height: 32px;\n",
              "    padding: 0;\n",
              "    width: 32px;\n",
              "  }\n",
              "\n",
              "  .colab-df-quickchart:hover {\n",
              "    background-color: var(--hover-bg-color);\n",
              "    box-shadow: 0 1px 2px rgba(60, 64, 67, 0.3), 0 1px 3px 1px rgba(60, 64, 67, 0.15);\n",
              "    fill: var(--button-hover-fill-color);\n",
              "  }\n",
              "\n",
              "  .colab-df-quickchart-complete:disabled,\n",
              "  .colab-df-quickchart-complete:disabled:hover {\n",
              "    background-color: var(--disabled-bg-color);\n",
              "    fill: var(--disabled-fill-color);\n",
              "    box-shadow: none;\n",
              "  }\n",
              "\n",
              "  .colab-df-spinner {\n",
              "    border: 2px solid var(--fill-color);\n",
              "    border-color: transparent;\n",
              "    border-bottom-color: var(--fill-color);\n",
              "    animation:\n",
              "      spin 1s steps(1) infinite;\n",
              "  }\n",
              "\n",
              "  @keyframes spin {\n",
              "    0% {\n",
              "      border-color: transparent;\n",
              "      border-bottom-color: var(--fill-color);\n",
              "      border-left-color: var(--fill-color);\n",
              "    }\n",
              "    20% {\n",
              "      border-color: transparent;\n",
              "      border-left-color: var(--fill-color);\n",
              "      border-top-color: var(--fill-color);\n",
              "    }\n",
              "    30% {\n",
              "      border-color: transparent;\n",
              "      border-left-color: var(--fill-color);\n",
              "      border-top-color: var(--fill-color);\n",
              "      border-right-color: var(--fill-color);\n",
              "    }\n",
              "    40% {\n",
              "      border-color: transparent;\n",
              "      border-right-color: var(--fill-color);\n",
              "      border-top-color: var(--fill-color);\n",
              "    }\n",
              "    60% {\n",
              "      border-color: transparent;\n",
              "      border-right-color: var(--fill-color);\n",
              "    }\n",
              "    80% {\n",
              "      border-color: transparent;\n",
              "      border-right-color: var(--fill-color);\n",
              "      border-bottom-color: var(--fill-color);\n",
              "    }\n",
              "    90% {\n",
              "      border-color: transparent;\n",
              "      border-bottom-color: var(--fill-color);\n",
              "    }\n",
              "  }\n",
              "</style>\n",
              "\n",
              "  <script>\n",
              "    async function quickchart(key) {\n",
              "      const quickchartButtonEl =\n",
              "        document.querySelector('#' + key + ' button');\n",
              "      quickchartButtonEl.disabled = true;  // To prevent multiple clicks.\n",
              "      quickchartButtonEl.classList.add('colab-df-spinner');\n",
              "      try {\n",
              "        const charts = await google.colab.kernel.invokeFunction(\n",
              "            'suggestCharts', [key], {});\n",
              "      } catch (error) {\n",
              "        console.error('Error during call to suggestCharts:', error);\n",
              "      }\n",
              "      quickchartButtonEl.classList.remove('colab-df-spinner');\n",
              "      quickchartButtonEl.classList.add('colab-df-quickchart-complete');\n",
              "    }\n",
              "    (() => {\n",
              "      let quickchartButtonEl =\n",
              "        document.querySelector('#df-160ea422-027e-4891-9fd5-1d62c6e9d00f button');\n",
              "      quickchartButtonEl.style.display =\n",
              "        google.colab.kernel.accessAllowed ? 'block' : 'none';\n",
              "    })();\n",
              "  </script>\n",
              "</div>\n",
              "    </div>\n",
              "  </div>\n"
            ],
            "application/vnd.google.colaboratory.intrinsic+json": {
              "type": "dataframe",
              "summary": "{\n  \"name\": \"HealthCareDataSet[['PrincipalDiagnosisDesc','PrincipalDiagnosis']]\",\n  \"rows\": 52563,\n  \"fields\": [\n    {\n      \"column\": \"PrincipalDiagnosisDesc\",\n      \"properties\": {\n        \"dtype\": \"category\",\n        \"num_unique_values\": 798,\n        \"samples\": [\n          \"Biliary acute pancreatiti\",\n          \"Calculus of ureter\",\n          \"Major depressive disorder\"\n        ],\n        \"semantic_type\": \"\",\n        \"description\": \"\"\n      }\n    },\n    {\n      \"column\": \"PrincipalDiagnosis\",\n      \"properties\": {\n        \"dtype\": \"category\",\n        \"num_unique_values\": 1037,\n        \"samples\": [\n          \"S52.612A\",\n          \"R33.8\",\n          \"I35.2\"\n        ],\n        \"semantic_type\": \"\",\n        \"description\": \"\"\n      }\n    }\n  ]\n}"
            }
          },
          "metadata": {},
          "execution_count": 75
        }
      ]
    },
    {
      "cell_type": "code",
      "source": [
        "## a lambda function that takes a DataFrame row and concatenates its columns\n",
        "HealthCareDataSet[['PrincipalDiagnosisDesc','PrincipalDiagnosis']].apply(lambda row:row[0]+' -- '+row[1],axis=1)"
      ],
      "metadata": {
        "colab": {
          "base_uri": "https://localhost:8080/"
        },
        "id": "bcE-LCE5a-WI",
        "outputId": "99a1af1e-371a-4b75-deef-996f0a114fe1"
      },
      "execution_count": 102,
      "outputs": [
        {
          "output_type": "execute_result",
          "data": {
            "text/plain": [
              "0                    Epigastric pain -- R10.13\n",
              "1                    Epigastric pain -- R10.13\n",
              "2                    Epigastric pain -- R10.13\n",
              "3                    Epigastric pain -- R10.13\n",
              "4                    Epigastric pain -- R10.13\n",
              "                         ...                  \n",
              "52558    Traumatic subarachnoid he -- S06.6X0A\n",
              "52559       Iron deficiency anemia se -- D50.0\n",
              "52560       Iron deficiency anemia se -- D50.0\n",
              "52561       Iron deficiency anemia se -- D50.0\n",
              "52562       Iron deficiency anemia se -- D50.0\n",
              "Length: 52563, dtype: object"
            ]
          },
          "metadata": {},
          "execution_count": 102
        }
      ]
    },
    {
      "cell_type": "code",
      "source": [],
      "metadata": {
        "id": "EMxhy59za-TC"
      },
      "execution_count": 56,
      "outputs": []
    },
    {
      "cell_type": "code",
      "source": [],
      "metadata": {
        "id": "dPHawU3IgxUN"
      },
      "execution_count": 56,
      "outputs": []
    },
    {
      "cell_type": "markdown",
      "source": [
        "## 5. Challenge Yourself !!"
      ],
      "metadata": {
        "id": "WQ-B1XOoC6bS"
      }
    },
    {
      "cell_type": "markdown",
      "source": [
        "### (1) Develop a function that given a sentence returns the first two words of the sentence. (2) Apply that function to extract the first two words of the column `RevenueCodeDesc`\n",
        "#### Tip: consider using the strip function defined in Python.\n"
      ],
      "metadata": {
        "id": "TVkCfAlWDE1c"
      }
    },
    {
      "cell_type": "code",
      "source": [],
      "metadata": {
        "id": "4FwtJRY8FsPK"
      },
      "execution_count": 56,
      "outputs": []
    },
    {
      "cell_type": "code",
      "source": [],
      "metadata": {
        "id": "6xF7D_bSFsMj"
      },
      "execution_count": 56,
      "outputs": []
    },
    {
      "cell_type": "code",
      "source": [],
      "metadata": {
        "id": "8ExiZOWxlZG9"
      },
      "execution_count": 56,
      "outputs": []
    },
    {
      "cell_type": "markdown",
      "source": [
        "### Develop a lambda function to compute the duration of any given medical event\n",
        "#### Tip: bear in mind that duration can be computed by substracting the column `EndDate` from the column `StartDate`"
      ],
      "metadata": {
        "id": "fGdclaAemMrX"
      }
    },
    {
      "cell_type": "code",
      "source": [],
      "metadata": {
        "colab": {
          "base_uri": "https://localhost:8080/"
        },
        "id": "boVl80X2h7x4",
        "outputId": "337886db-1f61-42f0-c3bb-dda933d35a05"
      },
      "execution_count": 111,
      "outputs": [
        {
          "output_type": "execute_result",
          "data": {
            "text/plain": [
              "0       0 days\n",
              "1       0 days\n",
              "2       0 days\n",
              "3       0 days\n",
              "4       0 days\n",
              "         ...  \n",
              "52558   7 days\n",
              "52559   4 days\n",
              "52560   4 days\n",
              "52561   4 days\n",
              "52562   4 days\n",
              "Length: 52563, dtype: timedelta64[ns]"
            ]
          },
          "metadata": {},
          "execution_count": 111
        }
      ]
    },
    {
      "cell_type": "code",
      "source": [
        "HealthCareDataSet[['StartDate','EndDate']]"
      ],
      "metadata": {
        "colab": {
          "base_uri": "https://localhost:8080/",
          "height": 424
        },
        "id": "LkIxymkliHca",
        "outputId": "f54b76cd-1dc4-45db-c2ed-d6f2d3bccdbe"
      },
      "execution_count": 112,
      "outputs": [
        {
          "output_type": "execute_result",
          "data": {
            "text/plain": [
              "       StartDate    EndDate\n",
              "0     2020-01-08 2020-01-08\n",
              "1     2020-01-08 2020-01-08\n",
              "2     2020-01-08 2020-01-08\n",
              "3     2020-01-08 2020-01-08\n",
              "4     2020-01-08 2020-01-08\n",
              "...          ...        ...\n",
              "52558 2020-12-02 2020-12-09\n",
              "52559 2020-12-18 2020-12-22\n",
              "52560 2020-12-18 2020-12-22\n",
              "52561 2020-12-18 2020-12-22\n",
              "52562 2020-12-18 2020-12-22\n",
              "\n",
              "[52563 rows x 2 columns]"
            ],
            "text/html": [
              "\n",
              "  <div id=\"df-0c471b08-05f2-414c-a7d2-cb6a583de8da\" class=\"colab-df-container\">\n",
              "    <div>\n",
              "<style scoped>\n",
              "    .dataframe tbody tr th:only-of-type {\n",
              "        vertical-align: middle;\n",
              "    }\n",
              "\n",
              "    .dataframe tbody tr th {\n",
              "        vertical-align: top;\n",
              "    }\n",
              "\n",
              "    .dataframe thead th {\n",
              "        text-align: right;\n",
              "    }\n",
              "</style>\n",
              "<table border=\"1\" class=\"dataframe\">\n",
              "  <thead>\n",
              "    <tr style=\"text-align: right;\">\n",
              "      <th></th>\n",
              "      <th>StartDate</th>\n",
              "      <th>EndDate</th>\n",
              "    </tr>\n",
              "  </thead>\n",
              "  <tbody>\n",
              "    <tr>\n",
              "      <th>0</th>\n",
              "      <td>2020-01-08</td>\n",
              "      <td>2020-01-08</td>\n",
              "    </tr>\n",
              "    <tr>\n",
              "      <th>1</th>\n",
              "      <td>2020-01-08</td>\n",
              "      <td>2020-01-08</td>\n",
              "    </tr>\n",
              "    <tr>\n",
              "      <th>2</th>\n",
              "      <td>2020-01-08</td>\n",
              "      <td>2020-01-08</td>\n",
              "    </tr>\n",
              "    <tr>\n",
              "      <th>3</th>\n",
              "      <td>2020-01-08</td>\n",
              "      <td>2020-01-08</td>\n",
              "    </tr>\n",
              "    <tr>\n",
              "      <th>4</th>\n",
              "      <td>2020-01-08</td>\n",
              "      <td>2020-01-08</td>\n",
              "    </tr>\n",
              "    <tr>\n",
              "      <th>...</th>\n",
              "      <td>...</td>\n",
              "      <td>...</td>\n",
              "    </tr>\n",
              "    <tr>\n",
              "      <th>52558</th>\n",
              "      <td>2020-12-02</td>\n",
              "      <td>2020-12-09</td>\n",
              "    </tr>\n",
              "    <tr>\n",
              "      <th>52559</th>\n",
              "      <td>2020-12-18</td>\n",
              "      <td>2020-12-22</td>\n",
              "    </tr>\n",
              "    <tr>\n",
              "      <th>52560</th>\n",
              "      <td>2020-12-18</td>\n",
              "      <td>2020-12-22</td>\n",
              "    </tr>\n",
              "    <tr>\n",
              "      <th>52561</th>\n",
              "      <td>2020-12-18</td>\n",
              "      <td>2020-12-22</td>\n",
              "    </tr>\n",
              "    <tr>\n",
              "      <th>52562</th>\n",
              "      <td>2020-12-18</td>\n",
              "      <td>2020-12-22</td>\n",
              "    </tr>\n",
              "  </tbody>\n",
              "</table>\n",
              "<p>52563 rows × 2 columns</p>\n",
              "</div>\n",
              "    <div class=\"colab-df-buttons\">\n",
              "\n",
              "  <div class=\"colab-df-container\">\n",
              "    <button class=\"colab-df-convert\" onclick=\"convertToInteractive('df-0c471b08-05f2-414c-a7d2-cb6a583de8da')\"\n",
              "            title=\"Convert this dataframe to an interactive table.\"\n",
              "            style=\"display:none;\">\n",
              "\n",
              "  <svg xmlns=\"http://www.w3.org/2000/svg\" height=\"24px\" viewBox=\"0 -960 960 960\">\n",
              "    <path d=\"M120-120v-720h720v720H120Zm60-500h600v-160H180v160Zm220 220h160v-160H400v160Zm0 220h160v-160H400v160ZM180-400h160v-160H180v160Zm440 0h160v-160H620v160ZM180-180h160v-160H180v160Zm440 0h160v-160H620v160Z\"/>\n",
              "  </svg>\n",
              "    </button>\n",
              "\n",
              "  <style>\n",
              "    .colab-df-container {\n",
              "      display:flex;\n",
              "      gap: 12px;\n",
              "    }\n",
              "\n",
              "    .colab-df-convert {\n",
              "      background-color: #E8F0FE;\n",
              "      border: none;\n",
              "      border-radius: 50%;\n",
              "      cursor: pointer;\n",
              "      display: none;\n",
              "      fill: #1967D2;\n",
              "      height: 32px;\n",
              "      padding: 0 0 0 0;\n",
              "      width: 32px;\n",
              "    }\n",
              "\n",
              "    .colab-df-convert:hover {\n",
              "      background-color: #E2EBFA;\n",
              "      box-shadow: 0px 1px 2px rgba(60, 64, 67, 0.3), 0px 1px 3px 1px rgba(60, 64, 67, 0.15);\n",
              "      fill: #174EA6;\n",
              "    }\n",
              "\n",
              "    .colab-df-buttons div {\n",
              "      margin-bottom: 4px;\n",
              "    }\n",
              "\n",
              "    [theme=dark] .colab-df-convert {\n",
              "      background-color: #3B4455;\n",
              "      fill: #D2E3FC;\n",
              "    }\n",
              "\n",
              "    [theme=dark] .colab-df-convert:hover {\n",
              "      background-color: #434B5C;\n",
              "      box-shadow: 0px 1px 3px 1px rgba(0, 0, 0, 0.15);\n",
              "      filter: drop-shadow(0px 1px 2px rgba(0, 0, 0, 0.3));\n",
              "      fill: #FFFFFF;\n",
              "    }\n",
              "  </style>\n",
              "\n",
              "    <script>\n",
              "      const buttonEl =\n",
              "        document.querySelector('#df-0c471b08-05f2-414c-a7d2-cb6a583de8da button.colab-df-convert');\n",
              "      buttonEl.style.display =\n",
              "        google.colab.kernel.accessAllowed ? 'block' : 'none';\n",
              "\n",
              "      async function convertToInteractive(key) {\n",
              "        const element = document.querySelector('#df-0c471b08-05f2-414c-a7d2-cb6a583de8da');\n",
              "        const dataTable =\n",
              "          await google.colab.kernel.invokeFunction('convertToInteractive',\n",
              "                                                    [key], {});\n",
              "        if (!dataTable) return;\n",
              "\n",
              "        const docLinkHtml = 'Like what you see? Visit the ' +\n",
              "          '<a target=\"_blank\" href=https://colab.research.google.com/notebooks/data_table.ipynb>data table notebook</a>'\n",
              "          + ' to learn more about interactive tables.';\n",
              "        element.innerHTML = '';\n",
              "        dataTable['output_type'] = 'display_data';\n",
              "        await google.colab.output.renderOutput(dataTable, element);\n",
              "        const docLink = document.createElement('div');\n",
              "        docLink.innerHTML = docLinkHtml;\n",
              "        element.appendChild(docLink);\n",
              "      }\n",
              "    </script>\n",
              "  </div>\n",
              "\n",
              "\n",
              "<div id=\"df-80832bc5-50f0-41bf-90b6-1c4f876e1ebe\">\n",
              "  <button class=\"colab-df-quickchart\" onclick=\"quickchart('df-80832bc5-50f0-41bf-90b6-1c4f876e1ebe')\"\n",
              "            title=\"Suggest charts\"\n",
              "            style=\"display:none;\">\n",
              "\n",
              "<svg xmlns=\"http://www.w3.org/2000/svg\" height=\"24px\"viewBox=\"0 0 24 24\"\n",
              "     width=\"24px\">\n",
              "    <g>\n",
              "        <path d=\"M19 3H5c-1.1 0-2 .9-2 2v14c0 1.1.9 2 2 2h14c1.1 0 2-.9 2-2V5c0-1.1-.9-2-2-2zM9 17H7v-7h2v7zm4 0h-2V7h2v10zm4 0h-2v-4h2v4z\"/>\n",
              "    </g>\n",
              "</svg>\n",
              "  </button>\n",
              "\n",
              "<style>\n",
              "  .colab-df-quickchart {\n",
              "      --bg-color: #E8F0FE;\n",
              "      --fill-color: #1967D2;\n",
              "      --hover-bg-color: #E2EBFA;\n",
              "      --hover-fill-color: #174EA6;\n",
              "      --disabled-fill-color: #AAA;\n",
              "      --disabled-bg-color: #DDD;\n",
              "  }\n",
              "\n",
              "  [theme=dark] .colab-df-quickchart {\n",
              "      --bg-color: #3B4455;\n",
              "      --fill-color: #D2E3FC;\n",
              "      --hover-bg-color: #434B5C;\n",
              "      --hover-fill-color: #FFFFFF;\n",
              "      --disabled-bg-color: #3B4455;\n",
              "      --disabled-fill-color: #666;\n",
              "  }\n",
              "\n",
              "  .colab-df-quickchart {\n",
              "    background-color: var(--bg-color);\n",
              "    border: none;\n",
              "    border-radius: 50%;\n",
              "    cursor: pointer;\n",
              "    display: none;\n",
              "    fill: var(--fill-color);\n",
              "    height: 32px;\n",
              "    padding: 0;\n",
              "    width: 32px;\n",
              "  }\n",
              "\n",
              "  .colab-df-quickchart:hover {\n",
              "    background-color: var(--hover-bg-color);\n",
              "    box-shadow: 0 1px 2px rgba(60, 64, 67, 0.3), 0 1px 3px 1px rgba(60, 64, 67, 0.15);\n",
              "    fill: var(--button-hover-fill-color);\n",
              "  }\n",
              "\n",
              "  .colab-df-quickchart-complete:disabled,\n",
              "  .colab-df-quickchart-complete:disabled:hover {\n",
              "    background-color: var(--disabled-bg-color);\n",
              "    fill: var(--disabled-fill-color);\n",
              "    box-shadow: none;\n",
              "  }\n",
              "\n",
              "  .colab-df-spinner {\n",
              "    border: 2px solid var(--fill-color);\n",
              "    border-color: transparent;\n",
              "    border-bottom-color: var(--fill-color);\n",
              "    animation:\n",
              "      spin 1s steps(1) infinite;\n",
              "  }\n",
              "\n",
              "  @keyframes spin {\n",
              "    0% {\n",
              "      border-color: transparent;\n",
              "      border-bottom-color: var(--fill-color);\n",
              "      border-left-color: var(--fill-color);\n",
              "    }\n",
              "    20% {\n",
              "      border-color: transparent;\n",
              "      border-left-color: var(--fill-color);\n",
              "      border-top-color: var(--fill-color);\n",
              "    }\n",
              "    30% {\n",
              "      border-color: transparent;\n",
              "      border-left-color: var(--fill-color);\n",
              "      border-top-color: var(--fill-color);\n",
              "      border-right-color: var(--fill-color);\n",
              "    }\n",
              "    40% {\n",
              "      border-color: transparent;\n",
              "      border-right-color: var(--fill-color);\n",
              "      border-top-color: var(--fill-color);\n",
              "    }\n",
              "    60% {\n",
              "      border-color: transparent;\n",
              "      border-right-color: var(--fill-color);\n",
              "    }\n",
              "    80% {\n",
              "      border-color: transparent;\n",
              "      border-right-color: var(--fill-color);\n",
              "      border-bottom-color: var(--fill-color);\n",
              "    }\n",
              "    90% {\n",
              "      border-color: transparent;\n",
              "      border-bottom-color: var(--fill-color);\n",
              "    }\n",
              "  }\n",
              "</style>\n",
              "\n",
              "  <script>\n",
              "    async function quickchart(key) {\n",
              "      const quickchartButtonEl =\n",
              "        document.querySelector('#' + key + ' button');\n",
              "      quickchartButtonEl.disabled = true;  // To prevent multiple clicks.\n",
              "      quickchartButtonEl.classList.add('colab-df-spinner');\n",
              "      try {\n",
              "        const charts = await google.colab.kernel.invokeFunction(\n",
              "            'suggestCharts', [key], {});\n",
              "      } catch (error) {\n",
              "        console.error('Error during call to suggestCharts:', error);\n",
              "      }\n",
              "      quickchartButtonEl.classList.remove('colab-df-spinner');\n",
              "      quickchartButtonEl.classList.add('colab-df-quickchart-complete');\n",
              "    }\n",
              "    (() => {\n",
              "      let quickchartButtonEl =\n",
              "        document.querySelector('#df-80832bc5-50f0-41bf-90b6-1c4f876e1ebe button');\n",
              "      quickchartButtonEl.style.display =\n",
              "        google.colab.kernel.accessAllowed ? 'block' : 'none';\n",
              "    })();\n",
              "  </script>\n",
              "</div>\n",
              "    </div>\n",
              "  </div>\n"
            ],
            "application/vnd.google.colaboratory.intrinsic+json": {
              "type": "dataframe",
              "summary": "{\n  \"name\": \"HealthCareDataSet[['StartDate','EndDate']]\",\n  \"rows\": 52563,\n  \"fields\": [\n    {\n      \"column\": \"StartDate\",\n      \"properties\": {\n        \"dtype\": \"date\",\n        \"min\": \"2020-01-01 00:00:00\",\n        \"max\": \"2020-12-31 00:00:00\",\n        \"num_unique_values\": 366,\n        \"samples\": [\n          \"2020-07-25 00:00:00\",\n          \"2020-02-28 00:00:00\",\n          \"2020-01-20 00:00:00\"\n        ],\n        \"semantic_type\": \"\",\n        \"description\": \"\"\n      }\n    },\n    {\n      \"column\": \"EndDate\",\n      \"properties\": {\n        \"dtype\": \"date\",\n        \"min\": \"2020-01-01 00:00:00\",\n        \"max\": \"2020-12-31 00:00:00\",\n        \"num_unique_values\": 366,\n        \"samples\": [\n          \"2020-07-17 00:00:00\",\n          \"2020-02-03 00:00:00\",\n          \"2020-01-29 00:00:00\"\n        ],\n        \"semantic_type\": \"\",\n        \"description\": \"\"\n      }\n    }\n  ]\n}"
            }
          },
          "metadata": {},
          "execution_count": 112
        }
      ]
    },
    {
      "cell_type": "code",
      "source": [
        "HealthCareDataSet['EndDate']-HealthCareDataSet['StartDate']"
      ],
      "metadata": {
        "colab": {
          "base_uri": "https://localhost:8080/"
        },
        "id": "WfiXMWBTjFuy",
        "outputId": "a2ca3eaa-fce9-4fe4-b2c6-2597ff8e79c8"
      },
      "execution_count": 113,
      "outputs": [
        {
          "output_type": "execute_result",
          "data": {
            "text/plain": [
              "0       0 days\n",
              "1       0 days\n",
              "2       0 days\n",
              "3       0 days\n",
              "4       0 days\n",
              "         ...  \n",
              "52558   7 days\n",
              "52559   4 days\n",
              "52560   4 days\n",
              "52561   4 days\n",
              "52562   4 days\n",
              "Length: 52563, dtype: timedelta64[ns]"
            ]
          },
          "metadata": {},
          "execution_count": 113
        }
      ]
    },
    {
      "cell_type": "code",
      "source": [],
      "metadata": {
        "id": "tZln1gAWjnSt"
      },
      "execution_count": null,
      "outputs": []
    }
  ]
}