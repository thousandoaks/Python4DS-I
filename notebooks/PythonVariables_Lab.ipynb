{
  "nbformat": 4,
  "nbformat_minor": 0,
  "metadata": {
    "colab": {
      "provenance": [],
      "authorship_tag": "ABX9TyN3na051HZBIlkZXbOdL9nP"
    },
    "kernelspec": {
      "name": "python3",
      "display_name": "Python 3"
    },
    "language_info": {
      "name": "python"
    }
  },
  "cells": [
    {
      "cell_type": "markdown",
      "source": [
        "### Exercise 1:\n",
        "Let's create a program that asks the user to enter their name and age. Then, print a message that says \"Hello, [name]! You are [age] years old.\""
      ],
      "metadata": {
        "id": "AWXgyFweEoRJ"
      }
    },
    {
      "cell_type": "code",
      "execution_count": 1,
      "metadata": {
        "id": "pEgjNAN2Eg2O",
        "colab": {
          "base_uri": "https://localhost:8080/"
        },
        "outputId": "37f95b86-1aba-47d0-bdd6-b76ff375d353"
      },
      "outputs": [
        {
          "name": "stdout",
          "output_type": "stream",
          "text": [
            "Enter your name: david\n"
          ]
        }
      ],
      "source": [
        "# Prompt the user to enter their name\n",
        "name = input(\"Enter your name: \")\n",
        "\n"
      ]
    },
    {
      "cell_type": "code",
      "source": [
        "# Prompt the user to enter their age\n",
        "age = int(input(\"Enter your age: \"))\n",
        "\n"
      ],
      "metadata": {
        "id": "g9JfLTTAEvQg",
        "colab": {
          "base_uri": "https://localhost:8080/"
        },
        "outputId": "91588474-c5d4-479c-92c5-e4a74c23de2b"
      },
      "execution_count": 2,
      "outputs": [
        {
          "name": "stdout",
          "output_type": "stream",
          "text": [
            "Enter your age: 34\n"
          ]
        }
      ]
    },
    {
      "cell_type": "code",
      "source": [
        "# Print the message\n",
        "print(\"Hello, \" + name + \"! You are \" + str(age) + \" years old.\")"
      ],
      "metadata": {
        "id": "l5enwQR9EvOL",
        "colab": {
          "base_uri": "https://localhost:8080/"
        },
        "outputId": "85ed834b-f9b6-4b4e-9d9a-55e14a104c96"
      },
      "execution_count": 3,
      "outputs": [
        {
          "output_type": "stream",
          "name": "stdout",
          "text": [
            "Hello, david! You are 34 years old.\n"
          ]
        }
      ]
    },
    {
      "cell_type": "code",
      "source": [],
      "metadata": {
        "id": "JYJERaTmEvLk"
      },
      "execution_count": null,
      "outputs": []
    },
    {
      "cell_type": "markdown",
      "source": [
        "### Exercise2: Write a program that calculates the area of a rectangle. Ask the user to input the length and width of the rectangle, then calculate and display the area of the rectangle.\n",
        "\n",
        "\n"
      ],
      "metadata": {
        "id": "ATTfWpUrLItU"
      }
    },
    {
      "cell_type": "code",
      "source": [
        "# Prompt the user to enter the length of the rectangle\n",
        "length = float(input(\"Enter the length of the rectangle: \"))\n",
        "\n",
        "\n"
      ],
      "metadata": {
        "id": "rLiXu5piEvIs",
        "colab": {
          "base_uri": "https://localhost:8080/"
        },
        "outputId": "d038c326-b1c9-49bc-9396-1819a7054d1d"
      },
      "execution_count": 4,
      "outputs": [
        {
          "name": "stdout",
          "output_type": "stream",
          "text": [
            "Enter the length of the rectangle: 20\n"
          ]
        }
      ]
    },
    {
      "cell_type": "code",
      "source": [
        "# Prompt the user to enter the width of the rectangle\n",
        "width = float(input(\"Enter the width of the rectangle: \"))\n",
        "\n"
      ],
      "metadata": {
        "id": "wqdwlMwnEvF5",
        "colab": {
          "base_uri": "https://localhost:8080/"
        },
        "outputId": "42cc63f3-9bb9-4f68-813a-0383636cf1ce"
      },
      "execution_count": 5,
      "outputs": [
        {
          "name": "stdout",
          "output_type": "stream",
          "text": [
            "Enter the width of the rectangle: 10\n"
          ]
        }
      ]
    },
    {
      "cell_type": "code",
      "source": [
        "# Calculate the area of the rectangle\n",
        "area = length * width\n",
        "\n",
        "# Print the area of the rectangle\n",
        "print(\"The area of the rectangle is:\", area)"
      ],
      "metadata": {
        "colab": {
          "base_uri": "https://localhost:8080/"
        },
        "id": "VAijdlKqLU7V",
        "outputId": "60805835-3acb-4727-a28b-144189c87728"
      },
      "execution_count": 6,
      "outputs": [
        {
          "output_type": "stream",
          "name": "stdout",
          "text": [
            "The area of the rectangle is: 200.0\n"
          ]
        }
      ]
    },
    {
      "cell_type": "code",
      "source": [],
      "metadata": {
        "id": "atEAnSeULU4Q"
      },
      "execution_count": null,
      "outputs": []
    },
    {
      "cell_type": "markdown",
      "source": [
        "### Exercise 3: Write a program that takes a list of numbers as input and calculates the average of the numbers in the list.\n"
      ],
      "metadata": {
        "id": "scZaHqskM2od"
      }
    },
    {
      "cell_type": "code",
      "source": [
        "# Ask the user to enter a list of numbers separated by spaces\n",
        "input_numbers = input(\"Enter a list of numbers separated by spaces: \")\n",
        "\n",
        "\n",
        "\n"
      ],
      "metadata": {
        "id": "0CiONXo2M8Ld"
      },
      "execution_count": null,
      "outputs": []
    },
    {
      "cell_type": "code",
      "source": [
        "# Split the input numbers into a list of strings\n",
        "numbers_str = input_numbers.split()\n",
        "\n",
        "# Convert the list of strings to a list of floats\n",
        "numbers = [float(num) for num in numbers_str]\n",
        "\n",
        "# Calculate the sum of the numbers\n",
        "total = sum(numbers)\n",
        "\n",
        "# Calculate the average of the numbers\n",
        "average = total / len(numbers)"
      ],
      "metadata": {
        "id": "36M9Yr7XNC1_"
      },
      "execution_count": null,
      "outputs": []
    },
    {
      "cell_type": "code",
      "source": [
        "# Print the average of the numbers\n",
        "print(\"The average of the numbers is:\", average)"
      ],
      "metadata": {
        "id": "Q-92YkqiNEzc"
      },
      "execution_count": null,
      "outputs": []
    }
  ]
}