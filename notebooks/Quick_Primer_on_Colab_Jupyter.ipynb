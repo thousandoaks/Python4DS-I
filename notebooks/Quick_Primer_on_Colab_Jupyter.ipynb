{
  "nbformat": 4,
  "nbformat_minor": 0,
  "metadata": {
    "colab": {
      "name": "Quick Primer on Colab/Jupyter.ipynb",
      "provenance": [],
      "private_outputs": true,
      "include_colab_link": true
    },
    "kernelspec": {
      "name": "python3",
      "display_name": "Python 3"
    }
  },
  "cells": [
    {
      "cell_type": "markdown",
      "metadata": {
        "id": "view-in-github",
        "colab_type": "text"
      },
      "source": [
        "<a href=\"https://colab.research.google.com/github/thousandoaks/Python4DS-I/blob/main/notebooks/Quick_Primer_on_Colab_Jupyter.ipynb\" target=\"_parent\"><img src=\"https://colab.research.google.com/assets/colab-badge.svg\" alt=\"Open In Colab\"/></a>"
      ]
    },
    {
      "cell_type": "markdown",
      "metadata": {
        "id": "AE95Ki_LDQsi"
      },
      "source": [
        "# Quick Primer\n",
        "\n",
        "This notebook is supposed to a quick primer on what colab/jupyter notebooks are.\n",
        "\n",
        "This notebook gives you short examples to do simple introductions to data processing.\n",
        "\n",
        "Don't worry if you don't understand what the code is doing, this is just an introduction.\n"
      ]
    },
    {
      "cell_type": "code",
      "source": [],
      "metadata": {
        "id": "UXWQFxmC1sZB"
      },
      "execution_count": null,
      "outputs": []
    },
    {
      "cell_type": "markdown",
      "source": [
        "### Don't forget to click play in the code cell to run the code"
      ],
      "metadata": {
        "id": "iHm91aQ41uvl"
      }
    },
    {
      "cell_type": "code",
      "source": [
        "print(\"Welcome to this Jupyter Notebook\")"
      ],
      "metadata": {
        "id": "PE1X1_Se2Fdu"
      },
      "execution_count": null,
      "outputs": []
    },
    {
      "cell_type": "markdown",
      "metadata": {
        "id": "oyqwl3GUFoaw"
      },
      "source": [
        "let's start to import the two libraries that we will be using throghout, pandas and numpy."
      ]
    },
    {
      "cell_type": "code",
      "metadata": {
        "id": "t92IYKJYBTbx"
      },
      "source": [
        "import numpy as np\n",
        "import pandas as pd"
      ],
      "execution_count": null,
      "outputs": []
    },
    {
      "cell_type": "code",
      "metadata": {
        "id": "LgwzncswY3Vu"
      },
      "source": [
        "arr = np.arange(10000)"
      ],
      "execution_count": null,
      "outputs": []
    },
    {
      "cell_type": "markdown",
      "metadata": {
        "id": "hSaZUMR2bUwu"
      },
      "source": [
        "Let's look at the first 10 entries in the array:"
      ]
    },
    {
      "cell_type": "code",
      "metadata": {
        "id": "1EMmGstBbQ_x"
      },
      "source": [
        "arr[:10]"
      ],
      "execution_count": null,
      "outputs": []
    },
    {
      "cell_type": "markdown",
      "metadata": {
        "id": "Szxu-Ah5bXfJ"
      },
      "source": [
        "And the length"
      ]
    },
    {
      "cell_type": "code",
      "metadata": {
        "id": "7fPYmYpzbTg0"
      },
      "source": [
        "print(len(arr))"
      ],
      "execution_count": null,
      "outputs": []
    },
    {
      "cell_type": "markdown",
      "metadata": {
        "id": "oJE0P6OBbhm6"
      },
      "source": [
        "Let's explore the difference in time with a list vs a numpy array"
      ]
    },
    {
      "cell_type": "markdown",
      "metadata": {
        "id": "VRUWjGdff9n1"
      },
      "source": [
        "\n",
        "\n",
        "### Pandas Series\n",
        "\n",
        "Let's move to talking about python pandas. The biggest difference between pandas and numpy is that pandas are designed to work with tabular data, think more of a spreadsheet or a database.\n",
        "\n",
        "Pandas defines two majore data structures, *Series* and *DataFrame*. A *Series* is a one-dimensional array-like object containing a sequence of values. An example can be:"
      ]
    },
    {
      "cell_type": "code",
      "metadata": {
        "id": "I3UgPNlVf0YA"
      },
      "source": [
        "pd.Series(['a', 'b', 'c', 'd', 'e'])"
      ],
      "execution_count": null,
      "outputs": []
    },
    {
      "cell_type": "markdown",
      "metadata": {
        "id": "yNfM1hlyhERy"
      },
      "source": [
        "Series can also have indexes or labels attached to each value (where they are then almost similar to a dict)"
      ]
    },
    {
      "cell_type": "code",
      "metadata": {
        "id": "8lidgpgHg9SY"
      },
      "source": [
        "ser = pd.Series(['a', 'b', 'c', 'd', 'e'], index=['foo', 'bar', 'more', 'note', 'extra'])"
      ],
      "execution_count": null,
      "outputs": []
    },
    {
      "cell_type": "code",
      "metadata": {
        "id": "BMbJ5jZFhR63"
      },
      "source": [
        "ser"
      ],
      "execution_count": null,
      "outputs": []
    },
    {
      "cell_type": "code",
      "metadata": {
        "id": "wH8aU6nWhlcT"
      },
      "source": [
        "ser2 = pd.Series({\n",
        "    'stuff': 134,\n",
        "    'more': 11,\n",
        "    'notes': 'extra stuff'\n",
        "})"
      ],
      "execution_count": null,
      "outputs": []
    },
    {
      "cell_type": "code",
      "metadata": {
        "id": "2P_0z2mThqxn"
      },
      "source": [
        "ser2"
      ],
      "execution_count": null,
      "outputs": []
    },
    {
      "cell_type": "code",
      "metadata": {
        "id": "eTRDk3Z2hrCt"
      },
      "source": [
        "ser2.notes"
      ],
      "execution_count": null,
      "outputs": []
    },
    {
      "cell_type": "markdown",
      "metadata": {
        "id": "iqLjb0jbii3T"
      },
      "source": [
        "#### Pandas DataFrame\n",
        "\n",
        "A DataFrame, which is the object you may work with the most is a rectangular table of data and contains an ordered collection of columns. You can think off it as a dict of Series, all sharing the same index."
      ]
    },
    {
      "cell_type": "code",
      "metadata": {
        "id": "APoWxK2ziWjZ"
      },
      "source": [
        "lines = [\n",
        "    {'Customer': 'D. Lopez', 'Value': 1345, 'Notes': 'Stuff IS Stuff'},\n",
        "    {'Customer': 'R. Feinmann', 'Value': 23, 'Notes': 'This does not contain any word...'},\n",
        "    {'Customer': 'John Doe', 'Value': 523, 'Notes': 'We have a lot of text in here, including stuff'},\n",
        "    {'Customer': 'R. Strauss', 'Value': 100, 'Notes': 'Here is a word that sounds like stuff but is in fact soooo much longer'},\n",
        "]\n",
        "\n",
        "df = pd.DataFrame(lines)"
      ],
      "execution_count": null,
      "outputs": []
    },
    {
      "cell_type": "code",
      "metadata": {
        "id": "pcgP17ZijMVl"
      },
      "source": [
        "df"
      ],
      "execution_count": null,
      "outputs": []
    },
    {
      "cell_type": "markdown",
      "metadata": {
        "id": "423eBp8ljQSI"
      },
      "source": [
        "We can start by looking at the shape of the dataframe:"
      ]
    },
    {
      "cell_type": "code",
      "metadata": {
        "id": "hMkus1FsjMq0"
      },
      "source": [
        "df.shape"
      ],
      "execution_count": null,
      "outputs": []
    },
    {
      "cell_type": "markdown",
      "metadata": {
        "id": "YkaVVbXbjiFS"
      },
      "source": [
        "This tells us that it contains four rows and each row has three columns. Let's look at the first two rows:"
      ]
    },
    {
      "cell_type": "code",
      "metadata": {
        "id": "RYnnBhWSjhLh"
      },
      "source": [
        "df.head(2)"
      ],
      "execution_count": null,
      "outputs": []
    },
    {
      "cell_type": "markdown",
      "metadata": {
        "id": "0lDgZvUnjo4R"
      },
      "source": [
        "Or the last 2:"
      ]
    },
    {
      "cell_type": "code",
      "metadata": {
        "id": "7fsXphUhjn1j"
      },
      "source": [
        "df.tail(2)"
      ],
      "execution_count": null,
      "outputs": []
    },
    {
      "cell_type": "markdown",
      "metadata": {
        "id": "QK_ZlN85jsuI"
      },
      "source": [
        "We can also create fancy visualizations"
      ]
    },
    {
      "cell_type": "code",
      "metadata": {
        "id": "IcaZdvUoucFG"
      },
      "source": [
        "import seaborn as sns"
      ],
      "execution_count": null,
      "outputs": []
    },
    {
      "cell_type": "code",
      "source": [
        "sns.barplot(df, x=\"Customer\", y=\"Value\")"
      ],
      "metadata": {
        "id": "PUrtY1Bf27nf"
      },
      "execution_count": null,
      "outputs": []
    },
    {
      "cell_type": "code",
      "source": [],
      "metadata": {
        "id": "ywMEY84m3eAK"
      },
      "execution_count": null,
      "outputs": []
    }
  ]
}